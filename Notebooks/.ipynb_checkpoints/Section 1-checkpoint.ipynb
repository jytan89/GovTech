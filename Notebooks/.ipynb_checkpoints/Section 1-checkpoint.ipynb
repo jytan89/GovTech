{
 "cells": [
  {
   "cell_type": "code",
   "execution_count": 1,
   "metadata": {},
   "outputs": [
    {
     "name": "stderr",
     "output_type": "stream",
     "text": [
      "/Users/user/opt/anaconda3/lib/python3.7/site-packages/statsmodels/tools/_testing.py:19: FutureWarning: pandas.util.testing is deprecated. Use the functions in the public API at pandas.testing instead.\n",
      "  import pandas.util.testing as tm\n"
     ]
    }
   ],
   "source": [
    "import pandas as pd\n",
    "import numpy as np\n",
    "import seaborn as sns\n",
    "import matplotlib.pyplot as plt\n",
    "plt.style.use('fivethirtyeight')\n",
    "\n",
    "%config InlineBackend.figure_format = 'retina'\n",
    "%matplotlib inline"
   ]
  },
  {
   "cell_type": "markdown",
   "metadata": {},
   "source": [
    "### Q1: Prediction\n",
    "\n",
    "Download the passing rate of annual vehicle inspection records from https://data.gov.sg/dataset/annual-motor-vehicle-inspection-passing-rate-of-motor-vehicles-on-first-inspection, and focus on inspections for motorcycles.\n",
    "\n",
    "**Task 1:** What's the average passing rate on first inspection each year, taking into account motorcycles of all age groups?\n",
    "\n",
    "**Task 2:** For motorcycles of each age, estimate their passing rate next year.\n",
    "\n",
    "**Task 3:** Assuming your estimated rates are true, can you suggest a sensible range of possible passing ranges for motorcycles in the 5-year age group next year, with at least 95% possibility of including the actual passing rate? If you can come up with multiple ranges that meet this criteria, use the one with the narrowest range. You may assume the number of motorcycles is the same as the number in the 4-year age group in the previous year."
   ]
  },
  {
   "cell_type": "code",
   "execution_count": 2,
   "metadata": {},
   "outputs": [],
   "source": [
    "vehicles = pd.read_csv(\"../Datasets/annual-motor-vehicle-inspection-passing-rate-of-motor-vehicles-on-first-inspection/annual-motor-vehicle-inspection-passing-rate-of-motor-vehicles-on-first-inspection.csv\")"
   ]
  },
  {
   "cell_type": "code",
   "execution_count": 3,
   "metadata": {},
   "outputs": [
    {
     "name": "stdout",
     "output_type": "stream",
     "text": [
      "(792, 6)\n"
     ]
    },
    {
     "data": {
      "text/html": [
       "<div>\n",
       "<style scoped>\n",
       "    .dataframe tbody tr th:only-of-type {\n",
       "        vertical-align: middle;\n",
       "    }\n",
       "\n",
       "    .dataframe tbody tr th {\n",
       "        vertical-align: top;\n",
       "    }\n",
       "\n",
       "    .dataframe thead th {\n",
       "        text-align: right;\n",
       "    }\n",
       "</style>\n",
       "<table border=\"1\" class=\"dataframe\">\n",
       "  <thead>\n",
       "    <tr style=\"text-align: right;\">\n",
       "      <th></th>\n",
       "      <th>year</th>\n",
       "      <th>type</th>\n",
       "      <th>age</th>\n",
       "      <th>number_reported</th>\n",
       "      <th>number_passed</th>\n",
       "      <th>passing_rate</th>\n",
       "    </tr>\n",
       "  </thead>\n",
       "  <tbody>\n",
       "    <tr>\n",
       "      <th>0</th>\n",
       "      <td>2006</td>\n",
       "      <td>Cars</td>\n",
       "      <td>1</td>\n",
       "      <td>455</td>\n",
       "      <td>432</td>\n",
       "      <td>94.9</td>\n",
       "    </tr>\n",
       "    <tr>\n",
       "      <th>1</th>\n",
       "      <td>2006</td>\n",
       "      <td>Cars</td>\n",
       "      <td>2</td>\n",
       "      <td>1082</td>\n",
       "      <td>1026</td>\n",
       "      <td>94.8</td>\n",
       "    </tr>\n",
       "    <tr>\n",
       "      <th>2</th>\n",
       "      <td>2006</td>\n",
       "      <td>Cars</td>\n",
       "      <td>3</td>\n",
       "      <td>73558</td>\n",
       "      <td>68432</td>\n",
       "      <td>93.0</td>\n",
       "    </tr>\n",
       "    <tr>\n",
       "      <th>3</th>\n",
       "      <td>2006</td>\n",
       "      <td>Cars</td>\n",
       "      <td>4</td>\n",
       "      <td>627</td>\n",
       "      <td>560</td>\n",
       "      <td>89.3</td>\n",
       "    </tr>\n",
       "    <tr>\n",
       "      <th>4</th>\n",
       "      <td>2006</td>\n",
       "      <td>Cars</td>\n",
       "      <td>5</td>\n",
       "      <td>17963</td>\n",
       "      <td>16716</td>\n",
       "      <td>93.1</td>\n",
       "    </tr>\n",
       "  </tbody>\n",
       "</table>\n",
       "</div>"
      ],
      "text/plain": [
       "   year  type age  number_reported  number_passed  passing_rate\n",
       "0  2006  Cars   1              455            432          94.9\n",
       "1  2006  Cars   2             1082           1026          94.8\n",
       "2  2006  Cars   3            73558          68432          93.0\n",
       "3  2006  Cars   4              627            560          89.3\n",
       "4  2006  Cars   5            17963          16716          93.1"
      ]
     },
     "execution_count": 3,
     "metadata": {},
     "output_type": "execute_result"
    }
   ],
   "source": [
    "print(vehicles.shape)\n",
    "vehicles.head()"
   ]
  },
  {
   "cell_type": "code",
   "execution_count": 4,
   "metadata": {},
   "outputs": [
    {
     "name": "stdout",
     "output_type": "stream",
     "text": [
      "<class 'pandas.core.frame.DataFrame'>\n",
      "RangeIndex: 792 entries, 0 to 791\n",
      "Data columns (total 6 columns):\n",
      " #   Column           Non-Null Count  Dtype  \n",
      "---  ------           --------------  -----  \n",
      " 0   year             792 non-null    int64  \n",
      " 1   type             792 non-null    object \n",
      " 2   age              792 non-null    object \n",
      " 3   number_reported  792 non-null    int64  \n",
      " 4   number_passed    792 non-null    int64  \n",
      " 5   passing_rate     792 non-null    float64\n",
      "dtypes: float64(1), int64(3), object(2)\n",
      "memory usage: 37.2+ KB\n"
     ]
    }
   ],
   "source": [
    "#check for nulls and understand data better:\n",
    "vehicles.info()"
   ]
  },
  {
   "cell_type": "markdown",
   "metadata": {},
   "source": [
    "No nulls to handle."
   ]
  },
  {
   "cell_type": "code",
   "execution_count": 5,
   "metadata": {},
   "outputs": [
    {
     "data": {
      "text/html": [
       "<div>\n",
       "<style scoped>\n",
       "    .dataframe tbody tr th:only-of-type {\n",
       "        vertical-align: middle;\n",
       "    }\n",
       "\n",
       "    .dataframe tbody tr th {\n",
       "        vertical-align: top;\n",
       "    }\n",
       "\n",
       "    .dataframe thead th {\n",
       "        text-align: right;\n",
       "    }\n",
       "</style>\n",
       "<table border=\"1\" class=\"dataframe\">\n",
       "  <thead>\n",
       "    <tr style=\"text-align: right;\">\n",
       "      <th></th>\n",
       "      <th>year</th>\n",
       "      <th>number_reported</th>\n",
       "      <th>number_passed</th>\n",
       "      <th>passing_rate</th>\n",
       "    </tr>\n",
       "  </thead>\n",
       "  <tbody>\n",
       "    <tr>\n",
       "      <th>count</th>\n",
       "      <td>792.000000</td>\n",
       "      <td>792.000000</td>\n",
       "      <td>792.000000</td>\n",
       "      <td>792.000000</td>\n",
       "    </tr>\n",
       "    <tr>\n",
       "      <th>mean</th>\n",
       "      <td>2011.500000</td>\n",
       "      <td>9338.531566</td>\n",
       "      <td>8480.472222</td>\n",
       "      <td>85.640487</td>\n",
       "    </tr>\n",
       "    <tr>\n",
       "      <th>std</th>\n",
       "      <td>3.454234</td>\n",
       "      <td>17196.427270</td>\n",
       "      <td>15508.869146</td>\n",
       "      <td>23.781986</td>\n",
       "    </tr>\n",
       "    <tr>\n",
       "      <th>min</th>\n",
       "      <td>2006.000000</td>\n",
       "      <td>0.000000</td>\n",
       "      <td>0.000000</td>\n",
       "      <td>0.000000</td>\n",
       "    </tr>\n",
       "    <tr>\n",
       "      <th>25%</th>\n",
       "      <td>2008.750000</td>\n",
       "      <td>434.000000</td>\n",
       "      <td>418.250000</td>\n",
       "      <td>85.452967</td>\n",
       "    </tr>\n",
       "    <tr>\n",
       "      <th>50%</th>\n",
       "      <td>2011.500000</td>\n",
       "      <td>4665.500000</td>\n",
       "      <td>4299.000000</td>\n",
       "      <td>92.500000</td>\n",
       "    </tr>\n",
       "    <tr>\n",
       "      <th>75%</th>\n",
       "      <td>2014.250000</td>\n",
       "      <td>10870.000000</td>\n",
       "      <td>9970.500000</td>\n",
       "      <td>96.977437</td>\n",
       "    </tr>\n",
       "    <tr>\n",
       "      <th>max</th>\n",
       "      <td>2017.000000</td>\n",
       "      <td>116702.000000</td>\n",
       "      <td>109209.000000</td>\n",
       "      <td>100.000000</td>\n",
       "    </tr>\n",
       "  </tbody>\n",
       "</table>\n",
       "</div>"
      ],
      "text/plain": [
       "              year  number_reported  number_passed  passing_rate\n",
       "count   792.000000       792.000000     792.000000    792.000000\n",
       "mean   2011.500000      9338.531566    8480.472222     85.640487\n",
       "std       3.454234     17196.427270   15508.869146     23.781986\n",
       "min    2006.000000         0.000000       0.000000      0.000000\n",
       "25%    2008.750000       434.000000     418.250000     85.452967\n",
       "50%    2011.500000      4665.500000    4299.000000     92.500000\n",
       "75%    2014.250000     10870.000000    9970.500000     96.977437\n",
       "max    2017.000000    116702.000000  109209.000000    100.000000"
      ]
     },
     "execution_count": 5,
     "metadata": {},
     "output_type": "execute_result"
    }
   ],
   "source": [
    "vehicles.describe()"
   ]
  },
  {
   "cell_type": "code",
   "execution_count": 6,
   "metadata": {},
   "outputs": [
    {
     "data": {
      "text/plain": [
       "array(['Cars', 'Motorcycles', 'Scheduled Buses', 'Other Buses', 'Taxis',\n",
       "       'Goods & Other Vehicles'], dtype=object)"
      ]
     },
     "execution_count": 6,
     "metadata": {},
     "output_type": "execute_result"
    }
   ],
   "source": [
    "vehicles.type.unique()"
   ]
  },
  {
   "cell_type": "code",
   "execution_count": 7,
   "metadata": {},
   "outputs": [
    {
     "name": "stdout",
     "output_type": "stream",
     "text": [
      "(132, 6)\n"
     ]
    },
    {
     "data": {
      "text/html": [
       "<div>\n",
       "<style scoped>\n",
       "    .dataframe tbody tr th:only-of-type {\n",
       "        vertical-align: middle;\n",
       "    }\n",
       "\n",
       "    .dataframe tbody tr th {\n",
       "        vertical-align: top;\n",
       "    }\n",
       "\n",
       "    .dataframe thead th {\n",
       "        text-align: right;\n",
       "    }\n",
       "</style>\n",
       "<table border=\"1\" class=\"dataframe\">\n",
       "  <thead>\n",
       "    <tr style=\"text-align: right;\">\n",
       "      <th></th>\n",
       "      <th>year</th>\n",
       "      <th>type</th>\n",
       "      <th>age</th>\n",
       "      <th>number_reported</th>\n",
       "      <th>number_passed</th>\n",
       "      <th>passing_rate</th>\n",
       "    </tr>\n",
       "  </thead>\n",
       "  <tbody>\n",
       "    <tr>\n",
       "      <th>11</th>\n",
       "      <td>2006</td>\n",
       "      <td>Motorcycles</td>\n",
       "      <td>1</td>\n",
       "      <td>343</td>\n",
       "      <td>329</td>\n",
       "      <td>95.9</td>\n",
       "    </tr>\n",
       "    <tr>\n",
       "      <th>12</th>\n",
       "      <td>2006</td>\n",
       "      <td>Motorcycles</td>\n",
       "      <td>2</td>\n",
       "      <td>577</td>\n",
       "      <td>541</td>\n",
       "      <td>93.8</td>\n",
       "    </tr>\n",
       "    <tr>\n",
       "      <th>13</th>\n",
       "      <td>2006</td>\n",
       "      <td>Motorcycles</td>\n",
       "      <td>3</td>\n",
       "      <td>16235</td>\n",
       "      <td>15066</td>\n",
       "      <td>92.8</td>\n",
       "    </tr>\n",
       "    <tr>\n",
       "      <th>14</th>\n",
       "      <td>2006</td>\n",
       "      <td>Motorcycles</td>\n",
       "      <td>4</td>\n",
       "      <td>15695</td>\n",
       "      <td>14686</td>\n",
       "      <td>93.6</td>\n",
       "    </tr>\n",
       "    <tr>\n",
       "      <th>15</th>\n",
       "      <td>2006</td>\n",
       "      <td>Motorcycles</td>\n",
       "      <td>5</td>\n",
       "      <td>12434</td>\n",
       "      <td>11456</td>\n",
       "      <td>92.1</td>\n",
       "    </tr>\n",
       "  </tbody>\n",
       "</table>\n",
       "</div>"
      ],
      "text/plain": [
       "    year         type age  number_reported  number_passed  passing_rate\n",
       "11  2006  Motorcycles   1              343            329          95.9\n",
       "12  2006  Motorcycles   2              577            541          93.8\n",
       "13  2006  Motorcycles   3            16235          15066          92.8\n",
       "14  2006  Motorcycles   4            15695          14686          93.6\n",
       "15  2006  Motorcycles   5            12434          11456          92.1"
      ]
     },
     "execution_count": 7,
     "metadata": {},
     "output_type": "execute_result"
    }
   ],
   "source": [
    "# slice DataFrame to focus solely on 'Motorcycles':\n",
    "\n",
    "motor = vehicles[vehicles.type == 'Motorcycles']\n",
    "print(motor.shape)\n",
    "motor.head()"
   ]
  },
  {
   "cell_type": "markdown",
   "metadata": {},
   "source": [
    "**Task 1:** What's the average passing rate on first inspection each year, taking into account motorcycles of all age groups?"
   ]
  },
  {
   "cell_type": "code",
   "execution_count": 8,
   "metadata": {},
   "outputs": [
    {
     "data": {
      "text/html": [
       "<div>\n",
       "<style scoped>\n",
       "    .dataframe tbody tr th:only-of-type {\n",
       "        vertical-align: middle;\n",
       "    }\n",
       "\n",
       "    .dataframe tbody tr th {\n",
       "        vertical-align: top;\n",
       "    }\n",
       "\n",
       "    .dataframe thead th {\n",
       "        text-align: right;\n",
       "    }\n",
       "</style>\n",
       "<table border=\"1\" class=\"dataframe\">\n",
       "  <thead>\n",
       "    <tr style=\"text-align: right;\">\n",
       "      <th></th>\n",
       "      <th>passing_rate</th>\n",
       "    </tr>\n",
       "    <tr>\n",
       "      <th>year</th>\n",
       "      <th></th>\n",
       "    </tr>\n",
       "  </thead>\n",
       "  <tbody>\n",
       "    <tr>\n",
       "      <th>2006</th>\n",
       "      <td>92.990909</td>\n",
       "    </tr>\n",
       "    <tr>\n",
       "      <th>2007</th>\n",
       "      <td>93.686925</td>\n",
       "    </tr>\n",
       "    <tr>\n",
       "      <th>2008</th>\n",
       "      <td>93.870527</td>\n",
       "    </tr>\n",
       "    <tr>\n",
       "      <th>2009</th>\n",
       "      <td>93.873521</td>\n",
       "    </tr>\n",
       "    <tr>\n",
       "      <th>2010</th>\n",
       "      <td>93.981256</td>\n",
       "    </tr>\n",
       "    <tr>\n",
       "      <th>2011</th>\n",
       "      <td>94.045351</td>\n",
       "    </tr>\n",
       "    <tr>\n",
       "      <th>2012</th>\n",
       "      <td>92.791833</td>\n",
       "    </tr>\n",
       "    <tr>\n",
       "      <th>2013</th>\n",
       "      <td>89.050335</td>\n",
       "    </tr>\n",
       "    <tr>\n",
       "      <th>2014</th>\n",
       "      <td>83.116493</td>\n",
       "    </tr>\n",
       "    <tr>\n",
       "      <th>2015</th>\n",
       "      <td>86.459294</td>\n",
       "    </tr>\n",
       "    <tr>\n",
       "      <th>2016</th>\n",
       "      <td>87.506665</td>\n",
       "    </tr>\n",
       "    <tr>\n",
       "      <th>2017</th>\n",
       "      <td>87.604945</td>\n",
       "    </tr>\n",
       "  </tbody>\n",
       "</table>\n",
       "</div>"
      ],
      "text/plain": [
       "      passing_rate\n",
       "year              \n",
       "2006     92.990909\n",
       "2007     93.686925\n",
       "2008     93.870527\n",
       "2009     93.873521\n",
       "2010     93.981256\n",
       "2011     94.045351\n",
       "2012     92.791833\n",
       "2013     89.050335\n",
       "2014     83.116493\n",
       "2015     86.459294\n",
       "2016     87.506665\n",
       "2017     87.604945"
      ]
     },
     "execution_count": 8,
     "metadata": {},
     "output_type": "execute_result"
    }
   ],
   "source": [
    "# following is the average passing rate on first inspection per year, across all age groups of motorcyclists:\n",
    "\n",
    "motor.groupby('year').mean()[['passing_rate']]"
   ]
  },
  {
   "cell_type": "markdown",
   "metadata": {},
   "source": [
    "**Task 2:** For motorcycles of each age, estimate their passing rate next year."
   ]
  },
  {
   "cell_type": "code",
   "execution_count": 9,
   "metadata": {},
   "outputs": [
    {
     "data": {
      "text/plain": [
       "array(['1', '2', '3', '4', '5', '6', '7', '8', '9', '10', '>10'],\n",
       "      dtype=object)"
      ]
     },
     "execution_count": 9,
     "metadata": {},
     "output_type": "execute_result"
    }
   ],
   "source": [
    "motor.age.unique()"
   ]
  },
  {
   "cell_type": "code",
   "execution_count": 10,
   "metadata": {},
   "outputs": [],
   "source": [
    "from scipy import stats"
   ]
  },
  {
   "cell_type": "code",
   "execution_count": 11,
   "metadata": {},
   "outputs": [
    {
     "name": "stdout",
     "output_type": "stream",
     "text": [
      "For motorcycles aged 1:\n",
      "-----------------------\n",
      "In year 2017, the passing rate was [0.].\n",
      "A simple linear regression model forecasts a growth of -10.735, with an estimated [-10.735] passing rate in the next year 2018.\n",
      "\n",
      "\n",
      "For motorcycles aged 2:\n",
      "-----------------------\n",
      "In year 2017, the passing rate was [97.258].\n",
      "A simple linear regression model forecasts a growth of 0.084, with an estimated [97.342] passing rate in the next year 2018.\n",
      "\n",
      "\n",
      "For motorcycles aged 3:\n",
      "-----------------------\n",
      "In year 2017, the passing rate was [96.96].\n",
      "A simple linear regression model forecasts a growth of 0.307, with an estimated [97.267] passing rate in the next year 2018.\n",
      "\n",
      "\n",
      "For motorcycles aged 4:\n",
      "-----------------------\n",
      "In year 2017, the passing rate was [97.243].\n",
      "A simple linear regression model forecasts a growth of 0.167, with an estimated [97.41] passing rate in the next year 2018.\n",
      "\n",
      "\n",
      "For motorcycles aged 5:\n",
      "-----------------------\n",
      "In year 2017, the passing rate was [96.21].\n",
      "A simple linear regression model forecasts a growth of 0.151, with an estimated [96.361] passing rate in the next year 2018.\n",
      "\n",
      "\n",
      "For motorcycles aged 6:\n",
      "-----------------------\n",
      "In year 2017, the passing rate was [96.147].\n",
      "A simple linear regression model forecasts a growth of 0.122, with an estimated [96.269] passing rate in the next year 2018.\n",
      "\n",
      "\n",
      "For motorcycles aged 7:\n",
      "-----------------------\n",
      "In year 2017, the passing rate was [96.632].\n",
      "A simple linear regression model forecasts a growth of 0.163, with an estimated [96.795] passing rate in the next year 2018.\n",
      "\n",
      "\n",
      "For motorcycles aged 8:\n",
      "-----------------------\n",
      "In year 2017, the passing rate was [96.287].\n",
      "A simple linear regression model forecasts a growth of 0.184, with an estimated [96.471] passing rate in the next year 2018.\n",
      "\n",
      "\n",
      "For motorcycles aged 9:\n",
      "-----------------------\n",
      "In year 2017, the passing rate was [95.641].\n",
      "A simple linear regression model forecasts a growth of 0.144, with an estimated [95.785] passing rate in the next year 2018.\n",
      "\n",
      "\n",
      "For motorcycles aged 10:\n",
      "-----------------------\n",
      "In year 2017, the passing rate was [95.77].\n",
      "A simple linear regression model forecasts a growth of 0.223, with an estimated [95.993] passing rate in the next year 2018.\n",
      "\n",
      "\n",
      "For motorcycles aged >10:\n",
      "-----------------------\n",
      "In year 2017, the passing rate was [95.506].\n",
      "A simple linear regression model forecasts a growth of 0.091, with an estimated [95.597] passing rate in the next year 2018.\n",
      "\n",
      "\n"
     ]
    }
   ],
   "source": [
    "# run a simple linear regression model to predict 2018's passing rate:\n",
    "\n",
    "for num in motor.age.unique().tolist():\n",
    "    x = motor[motor.age == num]['year']\n",
    "    y = motor[motor.age == num]['passing_rate']\n",
    "    \n",
    "    # fit the linear regression line for each age of the motor\n",
    "    slope, intercept, r_value, p_value, std_err = stats.linregress(x,y)\n",
    "    \n",
    "    # obtain the last index in the dataframe, which is the year of 2017\n",
    "    year2017rate = motor[motor.age == num].tail(1).passing_rate.values\n",
    "    # calculate the 2018 passing rate based on the gradient of the linear regression line and 2017's value\n",
    "    year2018rate = year2017rate + slope\n",
    "    \n",
    "    # round all values to 3 decimal place for neater view\n",
    "    slope = round(slope, 3)\n",
    "    year2017rate = year2017rate.round(3)\n",
    "    year2018rate = year2018rate.round(3)\n",
    "    \n",
    "    print(f\"For motorcycles aged {num}:\")\n",
    "    print(\"-----------------------\")\n",
    "    print(f\"In year 2017, the passing rate was {year2017rate}.\")\n",
    "    print(f\"A simple linear regression model forecasts a growth of {slope}, with an estimated {year2018rate} passing rate in the next year 2018.\")\n",
    "    print(\"\\n\")"
   ]
  },
  {
   "cell_type": "markdown",
   "metadata": {},
   "source": [
    "For the case of motorcycles aged 1, it can simply be interpreted as 0% passing rate estimated for the year of 2018."
   ]
  },
  {
   "cell_type": "markdown",
   "metadata": {},
   "source": [
    "**Task 3:** Assuming your estimated rates are true, can you suggest a sensible range of possible passing ranges for motorcycles in the 5-year age group next year, with at least 95% possibility of including the actual passing rate? If you can come up with multiple ranges that meet this criteria, use the one with the narrowest range. You may assume the number of motorcycles is the same as the number in the 4-year age group in the previous year."
   ]
  },
  {
   "cell_type": "code",
   "execution_count": 12,
   "metadata": {},
   "outputs": [
    {
     "name": "stdout",
     "output_type": "stream",
     "text": [
      "(12, 6)\n"
     ]
    }
   ],
   "source": [
    "print(motor[motor.age == '4'].shape)"
   ]
  },
  {
   "cell_type": "code",
   "execution_count": 13,
   "metadata": {},
   "outputs": [
    {
     "name": "stdout",
     "output_type": "stream",
     "text": [
      "(12, 2)\n"
     ]
    },
    {
     "data": {
      "text/html": [
       "<div>\n",
       "<style scoped>\n",
       "    .dataframe tbody tr th:only-of-type {\n",
       "        vertical-align: middle;\n",
       "    }\n",
       "\n",
       "    .dataframe tbody tr th {\n",
       "        vertical-align: top;\n",
       "    }\n",
       "\n",
       "    .dataframe thead th {\n",
       "        text-align: right;\n",
       "    }\n",
       "</style>\n",
       "<table border=\"1\" class=\"dataframe\">\n",
       "  <thead>\n",
       "    <tr style=\"text-align: right;\">\n",
       "      <th></th>\n",
       "      <th>year</th>\n",
       "      <th>passing_rate</th>\n",
       "    </tr>\n",
       "  </thead>\n",
       "  <tbody>\n",
       "    <tr>\n",
       "      <th>15</th>\n",
       "      <td>2006</td>\n",
       "      <td>92.100000</td>\n",
       "    </tr>\n",
       "    <tr>\n",
       "      <th>81</th>\n",
       "      <td>2007</td>\n",
       "      <td>94.135310</td>\n",
       "    </tr>\n",
       "    <tr>\n",
       "      <th>147</th>\n",
       "      <td>2008</td>\n",
       "      <td>94.216599</td>\n",
       "    </tr>\n",
       "    <tr>\n",
       "      <th>213</th>\n",
       "      <td>2009</td>\n",
       "      <td>94.240972</td>\n",
       "    </tr>\n",
       "    <tr>\n",
       "      <th>279</th>\n",
       "      <td>2010</td>\n",
       "      <td>94.545455</td>\n",
       "    </tr>\n",
       "    <tr>\n",
       "      <th>345</th>\n",
       "      <td>2011</td>\n",
       "      <td>93.498368</td>\n",
       "    </tr>\n",
       "    <tr>\n",
       "      <th>411</th>\n",
       "      <td>2012</td>\n",
       "      <td>91.763295</td>\n",
       "    </tr>\n",
       "    <tr>\n",
       "      <th>477</th>\n",
       "      <td>2013</td>\n",
       "      <td>88.481566</td>\n",
       "    </tr>\n",
       "    <tr>\n",
       "      <th>543</th>\n",
       "      <td>2014</td>\n",
       "      <td>91.974609</td>\n",
       "    </tr>\n",
       "    <tr>\n",
       "      <th>609</th>\n",
       "      <td>2015</td>\n",
       "      <td>95.491853</td>\n",
       "    </tr>\n",
       "    <tr>\n",
       "      <th>675</th>\n",
       "      <td>2016</td>\n",
       "      <td>96.380626</td>\n",
       "    </tr>\n",
       "    <tr>\n",
       "      <th>741</th>\n",
       "      <td>2017</td>\n",
       "      <td>96.210239</td>\n",
       "    </tr>\n",
       "  </tbody>\n",
       "</table>\n",
       "</div>"
      ],
      "text/plain": [
       "     year  passing_rate\n",
       "15   2006     92.100000\n",
       "81   2007     94.135310\n",
       "147  2008     94.216599\n",
       "213  2009     94.240972\n",
       "279  2010     94.545455\n",
       "345  2011     93.498368\n",
       "411  2012     91.763295\n",
       "477  2013     88.481566\n",
       "543  2014     91.974609\n",
       "609  2015     95.491853\n",
       "675  2016     96.380626\n",
       "741  2017     96.210239"
      ]
     },
     "execution_count": 13,
     "metadata": {},
     "output_type": "execute_result"
    }
   ],
   "source": [
    "motor5 = motor[motor.age == '5'][['year', 'passing_rate']]\n",
    "print(motor5.shape)\n",
    "motor5"
   ]
  },
  {
   "cell_type": "code",
   "execution_count": 14,
   "metadata": {},
   "outputs": [],
   "source": [
    "import statsmodels.api as sm"
   ]
  },
  {
   "cell_type": "code",
   "execution_count": 15,
   "metadata": {},
   "outputs": [],
   "source": [
    "Y = motor5.passing_rate\n",
    "X = motor5.year\n",
    "\n",
    "model = sm.OLS(Y,X)\n",
    "results = model.fit()"
   ]
  },
  {
   "cell_type": "code",
   "execution_count": 16,
   "metadata": {},
   "outputs": [
    {
     "name": "stderr",
     "output_type": "stream",
     "text": [
      "/Users/user/opt/anaconda3/lib/python3.7/site-packages/scipy/stats/stats.py:1450: UserWarning: kurtosistest only valid for n>=20 ... continuing anyway, n=12\n",
      "  \"anyway, n=%i\" % int(n))\n"
     ]
    },
    {
     "data": {
      "text/html": [
       "<table class=\"simpletable\">\n",
       "<caption>OLS Regression Results</caption>\n",
       "<tr>\n",
       "  <th>Dep. Variable:</th>      <td>passing_rate</td>   <th>  R-squared (uncentered):</th>      <td>   0.999</td> \n",
       "</tr>\n",
       "<tr>\n",
       "  <th>Model:</th>                   <td>OLS</td>       <th>  Adj. R-squared (uncentered):</th> <td>   0.999</td> \n",
       "</tr>\n",
       "<tr>\n",
       "  <th>Method:</th>             <td>Least Squares</td>  <th>  F-statistic:       </th>          <td>2.187e+04</td>\n",
       "</tr>\n",
       "<tr>\n",
       "  <th>Date:</th>             <td>Mon, 23 Mar 2020</td> <th>  Prob (F-statistic):</th>          <td>1.69e-19</td> \n",
       "</tr>\n",
       "<tr>\n",
       "  <th>Time:</th>                 <td>00:56:58</td>     <th>  Log-Likelihood:    </th>          <td> -25.925</td> \n",
       "</tr>\n",
       "<tr>\n",
       "  <th>No. Observations:</th>      <td>    12</td>      <th>  AIC:               </th>          <td>   53.85</td> \n",
       "</tr>\n",
       "<tr>\n",
       "  <th>Df Residuals:</th>          <td>    11</td>      <th>  BIC:               </th>          <td>   54.34</td> \n",
       "</tr>\n",
       "<tr>\n",
       "  <th>Df Model:</th>              <td>     1</td>      <th>                     </th>              <td> </td>    \n",
       "</tr>\n",
       "<tr>\n",
       "  <th>Covariance Type:</th>      <td>nonrobust</td>    <th>                     </th>              <td> </td>    \n",
       "</tr>\n",
       "</table>\n",
       "<table class=\"simpletable\">\n",
       "<tr>\n",
       "    <td></td>      <th>coef</th>     <th>std err</th>      <th>t</th>      <th>P>|t|</th>  <th>[0.025</th>    <th>0.975]</th>  \n",
       "</tr>\n",
       "<tr>\n",
       "  <th>year</th> <td>    0.0465</td> <td>    0.000</td> <td>  147.873</td> <td> 0.000</td> <td>    0.046</td> <td>    0.047</td>\n",
       "</tr>\n",
       "</table>\n",
       "<table class=\"simpletable\">\n",
       "<tr>\n",
       "  <th>Omnibus:</th>       <td> 5.082</td> <th>  Durbin-Watson:     </th> <td>   0.835</td>\n",
       "</tr>\n",
       "<tr>\n",
       "  <th>Prob(Omnibus):</th> <td> 0.079</td> <th>  Jarque-Bera (JB):  </th> <td>   2.247</td>\n",
       "</tr>\n",
       "<tr>\n",
       "  <th>Skew:</th>          <td>-1.023</td> <th>  Prob(JB):          </th> <td>   0.325</td>\n",
       "</tr>\n",
       "<tr>\n",
       "  <th>Kurtosis:</th>      <td> 3.552</td> <th>  Cond. No.          </th> <td>    1.00</td>\n",
       "</tr>\n",
       "</table><br/><br/>Warnings:<br/>[1] Standard Errors assume that the covariance matrix of the errors is correctly specified."
      ],
      "text/plain": [
       "<class 'statsmodels.iolib.summary.Summary'>\n",
       "\"\"\"\n",
       "                                 OLS Regression Results                                \n",
       "=======================================================================================\n",
       "Dep. Variable:           passing_rate   R-squared (uncentered):                   0.999\n",
       "Model:                            OLS   Adj. R-squared (uncentered):              0.999\n",
       "Method:                 Least Squares   F-statistic:                          2.187e+04\n",
       "Date:                Mon, 23 Mar 2020   Prob (F-statistic):                    1.69e-19\n",
       "Time:                        00:56:58   Log-Likelihood:                         -25.925\n",
       "No. Observations:                  12   AIC:                                      53.85\n",
       "Df Residuals:                      11   BIC:                                      54.34\n",
       "Df Model:                           1                                                  \n",
       "Covariance Type:            nonrobust                                                  \n",
       "==============================================================================\n",
       "                 coef    std err          t      P>|t|      [0.025      0.975]\n",
       "------------------------------------------------------------------------------\n",
       "year           0.0465      0.000    147.873      0.000       0.046       0.047\n",
       "==============================================================================\n",
       "Omnibus:                        5.082   Durbin-Watson:                   0.835\n",
       "Prob(Omnibus):                  0.079   Jarque-Bera (JB):                2.247\n",
       "Skew:                          -1.023   Prob(JB):                        0.325\n",
       "Kurtosis:                       3.552   Cond. No.                         1.00\n",
       "==============================================================================\n",
       "\n",
       "Warnings:\n",
       "[1] Standard Errors assume that the covariance matrix of the errors is correctly specified.\n",
       "\"\"\""
      ]
     },
     "execution_count": 16,
     "metadata": {},
     "output_type": "execute_result"
    }
   ],
   "source": [
    "results.summary()"
   ]
  },
  {
   "cell_type": "code",
   "execution_count": 17,
   "metadata": {},
   "outputs": [
    {
     "data": {
      "text/plain": [
       "array([96.2102])"
      ]
     },
     "execution_count": 17,
     "metadata": {},
     "output_type": "execute_result"
    }
   ],
   "source": [
    "# 2017 passing rate for motorcycles aged 5:\n",
    "motor5_year2017rate = motor5.tail(1).passing_rate.values.round(4)\n",
    "motor5_year2017rate"
   ]
  },
  {
   "cell_type": "code",
   "execution_count": 18,
   "metadata": {},
   "outputs": [
    {
     "name": "stdout",
     "output_type": "stream",
     "text": [
      "[96.2562]\n",
      "[96.2572]\n"
     ]
    }
   ],
   "source": [
    "print(motor5_year2017rate + 0.046)\n",
    "print(motor5_year2017rate + 0.047)"
   ]
  },
  {
   "cell_type": "markdown",
   "metadata": {},
   "source": [
    "From the OLS results summary above, we can predict with 95% confidence that the true growth rate of the passing rate is 0.0465, with a lower tail end of 0.046 and a higher tail end of 0.047.\n",
    "\n",
    "That means, we can say with 95% confidence that the true 2018 passing rate lies between 96.2562 and 96.2572."
   ]
  },
  {
   "cell_type": "markdown",
   "metadata": {},
   "source": [
    "### Q2: Association\n",
    "\n",
    "Download the list of transactions by each property agent from https://data.gov.sg/dataset/hdb-track-record, and focus on HDB flat transactions where a property agent represented the seller.\n",
    "\n",
    "**Task 1:** Based on the dataset, how many sales would you expect an agent to close each year? How much variation is there among agents?\n",
    "\n",
    "**Task 2:** Examine the distribution for number of sales closed by an agent in a year & suggest a probability distribution that may be suitable for modelling this set of values. What are some ways in which your suggested distribution is appropriate? What are some of its limitations?\n",
    "\n",
    "**Task 3:** Property agents tend to specialise in one or more specific geographical areas, rather than ply their trade equally island-wide. Given a property agent who has closed sales in Sembawang and Yishun during a given year, which other town is he/she most likely to be active in that year? (Note: you may wish to use association rules for this task.)"
   ]
  },
  {
   "cell_type": "code",
   "execution_count": 19,
   "metadata": {},
   "outputs": [],
   "source": [
    "hdb = pd.read_csv(\"../Datasets/hdb-track-record/records-of-hdb-flat-resale-transactions-closed-by-salespersons.csv\")"
   ]
  },
  {
   "cell_type": "code",
   "execution_count": 20,
   "metadata": {},
   "outputs": [
    {
     "name": "stdout",
     "output_type": "stream",
     "text": [
      "(101775, 5)\n"
     ]
    },
    {
     "data": {
      "text/html": [
       "<div>\n",
       "<style scoped>\n",
       "    .dataframe tbody tr th:only-of-type {\n",
       "        vertical-align: middle;\n",
       "    }\n",
       "\n",
       "    .dataframe tbody tr th {\n",
       "        vertical-align: top;\n",
       "    }\n",
       "\n",
       "    .dataframe thead th {\n",
       "        text-align: right;\n",
       "    }\n",
       "</style>\n",
       "<table border=\"1\" class=\"dataframe\">\n",
       "  <thead>\n",
       "    <tr style=\"text-align: right;\">\n",
       "      <th></th>\n",
       "      <th>complete_date_txt</th>\n",
       "      <th>town_txt</th>\n",
       "      <th>represented</th>\n",
       "      <th>salesperson_name</th>\n",
       "      <th>salesperson_reg_no</th>\n",
       "    </tr>\n",
       "  </thead>\n",
       "  <tbody>\n",
       "    <tr>\n",
       "      <th>0</th>\n",
       "      <td>January 2017</td>\n",
       "      <td>JURONG WEST</td>\n",
       "      <td>Buyer</td>\n",
       "      <td>DERRICK YEO CHUN MENG</td>\n",
       "      <td>R018231E</td>\n",
       "    </tr>\n",
       "    <tr>\n",
       "      <th>1</th>\n",
       "      <td>January 2017</td>\n",
       "      <td>BUKIT MERAH</td>\n",
       "      <td>Buyer</td>\n",
       "      <td>LIM HOCK LEONG (LIN FULONG)</td>\n",
       "      <td>R027276D</td>\n",
       "    </tr>\n",
       "    <tr>\n",
       "      <th>2</th>\n",
       "      <td>January 2017</td>\n",
       "      <td>CENTRAL AREA</td>\n",
       "      <td>Buyer</td>\n",
       "      <td>LAWRENCE TAN CHOON KIAT (CHEN JUNJIE)</td>\n",
       "      <td>R006416I</td>\n",
       "    </tr>\n",
       "    <tr>\n",
       "      <th>3</th>\n",
       "      <td>January 2017</td>\n",
       "      <td>PUNGGOL</td>\n",
       "      <td>Buyer</td>\n",
       "      <td>LIM KIM HENG</td>\n",
       "      <td>R018637Z</td>\n",
       "    </tr>\n",
       "    <tr>\n",
       "      <th>4</th>\n",
       "      <td>January 2017</td>\n",
       "      <td>PASIR RIS</td>\n",
       "      <td>Buyer</td>\n",
       "      <td>ONG SHU LING</td>\n",
       "      <td>R024367E</td>\n",
       "    </tr>\n",
       "  </tbody>\n",
       "</table>\n",
       "</div>"
      ],
      "text/plain": [
       "  complete_date_txt      town_txt represented  \\\n",
       "0      January 2017   JURONG WEST       Buyer   \n",
       "1      January 2017   BUKIT MERAH       Buyer   \n",
       "2      January 2017  CENTRAL AREA       Buyer   \n",
       "3      January 2017       PUNGGOL       Buyer   \n",
       "4      January 2017     PASIR RIS       Buyer   \n",
       "\n",
       "                        salesperson_name salesperson_reg_no  \n",
       "0                  DERRICK YEO CHUN MENG           R018231E  \n",
       "1            LIM HOCK LEONG (LIN FULONG)           R027276D  \n",
       "2  LAWRENCE TAN CHOON KIAT (CHEN JUNJIE)           R006416I  \n",
       "3                           LIM KIM HENG           R018637Z  \n",
       "4                           ONG SHU LING           R024367E  "
      ]
     },
     "execution_count": 20,
     "metadata": {},
     "output_type": "execute_result"
    }
   ],
   "source": [
    "print(hdb.shape)\n",
    "hdb.head()"
   ]
  },
  {
   "cell_type": "markdown",
   "metadata": {},
   "source": [
    "![hdb_data_dict](../Images/Section1/hdb_data_dict.png)"
   ]
  },
  {
   "cell_type": "code",
   "execution_count": 21,
   "metadata": {},
   "outputs": [
    {
     "name": "stdout",
     "output_type": "stream",
     "text": [
      "<class 'pandas.core.frame.DataFrame'>\n",
      "RangeIndex: 101775 entries, 0 to 101774\n",
      "Data columns (total 5 columns):\n",
      " #   Column              Non-Null Count   Dtype \n",
      "---  ------              --------------   ----- \n",
      " 0   complete_date_txt   101775 non-null  object\n",
      " 1   town_txt            101775 non-null  object\n",
      " 2   represented         101775 non-null  object\n",
      " 3   salesperson_name    101775 non-null  object\n",
      " 4   salesperson_reg_no  101775 non-null  object\n",
      "dtypes: object(5)\n",
      "memory usage: 3.9+ MB\n"
     ]
    }
   ],
   "source": [
    "hdb.info()"
   ]
  },
  {
   "cell_type": "code",
   "execution_count": 22,
   "metadata": {},
   "outputs": [
    {
     "name": "stdout",
     "output_type": "stream",
     "text": [
      "13452\n",
      "13521\n"
     ]
    }
   ],
   "source": [
    "print(len(hdb.salesperson_name.unique()))\n",
    "print(len(hdb.salesperson_reg_no.unique()))"
   ]
  },
  {
   "cell_type": "code",
   "execution_count": 23,
   "metadata": {},
   "outputs": [
    {
     "name": "stdout",
     "output_type": "stream",
     "text": [
      "['JURONG WEST' 'BUKIT MERAH' 'CENTRAL AREA' 'PUNGGOL' 'PASIR RIS'\n",
      " 'HOUGANG' 'WOODLANDS' 'YISHUN' 'SENGKANG' 'ANG MO KIO' 'BEDOK'\n",
      " 'BUKIT BATOK' 'KALLANG/WHAMPOA' 'BUKIT PANJANG' 'SERANGOON' 'SEMBAWANG'\n",
      " 'TOA PAYOH' 'TAMPINES' 'GEYLANG' 'JURONG EAST' 'QUEENSTOWN' 'BISHAN'\n",
      " 'CLEMENTI' 'CHOA CHU KANG' 'MARINE PARADE' 'BUKIT TIMAH']\n",
      "['Buyer' 'Seller']\n",
      "['January 2017' 'February 2017' 'March 2017' 'April 2017' 'May 2017'\n",
      " 'June 2017' 'July 2017' 'August 2017' 'September 2017' 'October 2017'\n",
      " 'November 2017' 'December 2017' 'January 2018' 'February 2018'\n",
      " 'March 2018' 'April 2018' 'May 2018' 'June 2018' 'July 2018'\n",
      " 'August 2018' 'September 2018' 'October 2018' 'November 2018'\n",
      " 'December 2018' 'January 2019' 'February 2019' 'March 2019' 'April 2019'\n",
      " 'May 2019' 'June 2019' 'July 2019' 'August 2019' 'September 2019'\n",
      " 'October 2019' 'November 2019' 'December 2019' 'January 2020'\n",
      " 'February 2020' 'March 2020']\n"
     ]
    }
   ],
   "source": [
    "print(hdb.town_txt.unique())\n",
    "print(hdb.represented.unique())\n",
    "print(hdb.complete_date_txt.unique())"
   ]
  },
  {
   "cell_type": "markdown",
   "metadata": {},
   "source": [
    "**Task 1:** Based on the dataset, how many sales would you expect an agent to close each year? How much variation is there among agents?"
   ]
  },
  {
   "cell_type": "code",
   "execution_count": 24,
   "metadata": {},
   "outputs": [
    {
     "name": "stdout",
     "output_type": "stream",
     "text": [
      "101775\n",
      "13521\n",
      "3\n"
     ]
    }
   ],
   "source": [
    "num_sales = hdb.shape[0]\n",
    "num_agents = len(hdb.salesperson_reg_no.unique())\n",
    "num_years = 3 # based on observation of the unique values of dates of transaction as above\n",
    "# exluded the year of 2020 since it hasn't ended yet\n",
    "\n",
    "print(num_sales)\n",
    "print(num_agents)\n",
    "print(num_years)"
   ]
  },
  {
   "cell_type": "code",
   "execution_count": 25,
   "metadata": {},
   "outputs": [
    {
     "name": "stdout",
     "output_type": "stream",
     "text": [
      "On average, I would expect each agent to close 2.51 of sales per year.\n"
     ]
    }
   ],
   "source": [
    "average_sales_per_agent_per_year = (num_sales / num_agents) / num_years\n",
    "average_sales_per_agent_per_year = round(average_sales_per_agent_per_year, 2)\n",
    "\n",
    "print(f\"On average, I would expect each agent to close {average_sales_per_agent_per_year} of sales per year.\")"
   ]
  },
  {
   "cell_type": "code",
   "execution_count": 26,
   "metadata": {},
   "outputs": [],
   "source": [
    "hdb_salesperson_grouped = hdb.groupby('salesperson_reg_no').count().sort_values('complete_date_txt', ascending=False)[['complete_date_txt']].reset_index()\n",
    "hdb_salesperson_grouped.rename(columns={\"complete_date_txt\": \"number_of_transactions\"}, inplace=True)"
   ]
  },
  {
   "cell_type": "code",
   "execution_count": 27,
   "metadata": {},
   "outputs": [
    {
     "data": {
      "text/html": [
       "<div>\n",
       "<style scoped>\n",
       "    .dataframe tbody tr th:only-of-type {\n",
       "        vertical-align: middle;\n",
       "    }\n",
       "\n",
       "    .dataframe tbody tr th {\n",
       "        vertical-align: top;\n",
       "    }\n",
       "\n",
       "    .dataframe thead th {\n",
       "        text-align: right;\n",
       "    }\n",
       "</style>\n",
       "<table border=\"1\" class=\"dataframe\">\n",
       "  <thead>\n",
       "    <tr style=\"text-align: right;\">\n",
       "      <th></th>\n",
       "      <th>salesperson_reg_no</th>\n",
       "      <th>number_of_transactions</th>\n",
       "    </tr>\n",
       "  </thead>\n",
       "  <tbody>\n",
       "    <tr>\n",
       "      <th>0</th>\n",
       "      <td>R043039D</td>\n",
       "      <td>719</td>\n",
       "    </tr>\n",
       "    <tr>\n",
       "      <th>1</th>\n",
       "      <td>R057585F</td>\n",
       "      <td>448</td>\n",
       "    </tr>\n",
       "    <tr>\n",
       "      <th>2</th>\n",
       "      <td>R007707D</td>\n",
       "      <td>389</td>\n",
       "    </tr>\n",
       "    <tr>\n",
       "      <th>3</th>\n",
       "      <td>R024302J</td>\n",
       "      <td>379</td>\n",
       "    </tr>\n",
       "    <tr>\n",
       "      <th>4</th>\n",
       "      <td>R026970D</td>\n",
       "      <td>262</td>\n",
       "    </tr>\n",
       "  </tbody>\n",
       "</table>\n",
       "</div>"
      ],
      "text/plain": [
       "  salesperson_reg_no  number_of_transactions\n",
       "0           R043039D                     719\n",
       "1           R057585F                     448\n",
       "2           R007707D                     389\n",
       "3           R024302J                     379\n",
       "4           R026970D                     262"
      ]
     },
     "execution_count": 27,
     "metadata": {},
     "output_type": "execute_result"
    }
   ],
   "source": [
    "hdb_salesperson_grouped.head()"
   ]
  },
  {
   "cell_type": "code",
   "execution_count": 28,
   "metadata": {},
   "outputs": [
    {
     "data": {
      "text/html": [
       "<div>\n",
       "<style scoped>\n",
       "    .dataframe tbody tr th:only-of-type {\n",
       "        vertical-align: middle;\n",
       "    }\n",
       "\n",
       "    .dataframe tbody tr th {\n",
       "        vertical-align: top;\n",
       "    }\n",
       "\n",
       "    .dataframe thead th {\n",
       "        text-align: right;\n",
       "    }\n",
       "</style>\n",
       "<table border=\"1\" class=\"dataframe\">\n",
       "  <thead>\n",
       "    <tr style=\"text-align: right;\">\n",
       "      <th></th>\n",
       "      <th>number_of_transactions</th>\n",
       "    </tr>\n",
       "  </thead>\n",
       "  <tbody>\n",
       "    <tr>\n",
       "      <th>count</th>\n",
       "      <td>13521.000000</td>\n",
       "    </tr>\n",
       "    <tr>\n",
       "      <th>mean</th>\n",
       "      <td>7.527180</td>\n",
       "    </tr>\n",
       "    <tr>\n",
       "      <th>std</th>\n",
       "      <td>16.157642</td>\n",
       "    </tr>\n",
       "    <tr>\n",
       "      <th>min</th>\n",
       "      <td>1.000000</td>\n",
       "    </tr>\n",
       "    <tr>\n",
       "      <th>25%</th>\n",
       "      <td>1.000000</td>\n",
       "    </tr>\n",
       "    <tr>\n",
       "      <th>50%</th>\n",
       "      <td>3.000000</td>\n",
       "    </tr>\n",
       "    <tr>\n",
       "      <th>75%</th>\n",
       "      <td>8.000000</td>\n",
       "    </tr>\n",
       "    <tr>\n",
       "      <th>max</th>\n",
       "      <td>719.000000</td>\n",
       "    </tr>\n",
       "  </tbody>\n",
       "</table>\n",
       "</div>"
      ],
      "text/plain": [
       "       number_of_transactions\n",
       "count            13521.000000\n",
       "mean                 7.527180\n",
       "std                 16.157642\n",
       "min                  1.000000\n",
       "25%                  1.000000\n",
       "50%                  3.000000\n",
       "75%                  8.000000\n",
       "max                719.000000"
      ]
     },
     "execution_count": 28,
     "metadata": {},
     "output_type": "execute_result"
    }
   ],
   "source": [
    "hdb_salesperson_grouped.describe()"
   ]
  },
  {
   "cell_type": "code",
   "execution_count": 29,
   "metadata": {},
   "outputs": [
    {
     "data": {
      "text/html": [
       "<div>\n",
       "<style scoped>\n",
       "    .dataframe tbody tr th:only-of-type {\n",
       "        vertical-align: middle;\n",
       "    }\n",
       "\n",
       "    .dataframe tbody tr th {\n",
       "        vertical-align: top;\n",
       "    }\n",
       "\n",
       "    .dataframe thead th {\n",
       "        text-align: right;\n",
       "    }\n",
       "</style>\n",
       "<table border=\"1\" class=\"dataframe\">\n",
       "  <thead>\n",
       "    <tr style=\"text-align: right;\">\n",
       "      <th></th>\n",
       "      <th>salesperson_reg_no</th>\n",
       "      <th>number_of_transactions</th>\n",
       "    </tr>\n",
       "  </thead>\n",
       "  <tbody>\n",
       "    <tr>\n",
       "      <th>0</th>\n",
       "      <td>R043039D</td>\n",
       "      <td>719</td>\n",
       "    </tr>\n",
       "    <tr>\n",
       "      <th>1</th>\n",
       "      <td>R057585F</td>\n",
       "      <td>448</td>\n",
       "    </tr>\n",
       "    <tr>\n",
       "      <th>2</th>\n",
       "      <td>R007707D</td>\n",
       "      <td>389</td>\n",
       "    </tr>\n",
       "    <tr>\n",
       "      <th>3</th>\n",
       "      <td>R024302J</td>\n",
       "      <td>379</td>\n",
       "    </tr>\n",
       "    <tr>\n",
       "      <th>4</th>\n",
       "      <td>R026970D</td>\n",
       "      <td>262</td>\n",
       "    </tr>\n",
       "    <tr>\n",
       "      <th>5</th>\n",
       "      <td>R055613D</td>\n",
       "      <td>225</td>\n",
       "    </tr>\n",
       "    <tr>\n",
       "      <th>6</th>\n",
       "      <td>R027284E</td>\n",
       "      <td>220</td>\n",
       "    </tr>\n",
       "    <tr>\n",
       "      <th>7</th>\n",
       "      <td>R040965D</td>\n",
       "      <td>201</td>\n",
       "    </tr>\n",
       "    <tr>\n",
       "      <th>8</th>\n",
       "      <td>R047710B</td>\n",
       "      <td>200</td>\n",
       "    </tr>\n",
       "    <tr>\n",
       "      <th>9</th>\n",
       "      <td>R016820G</td>\n",
       "      <td>190</td>\n",
       "    </tr>\n",
       "    <tr>\n",
       "      <th>10</th>\n",
       "      <td>R044833A</td>\n",
       "      <td>188</td>\n",
       "    </tr>\n",
       "    <tr>\n",
       "      <th>11</th>\n",
       "      <td>R010501I</td>\n",
       "      <td>185</td>\n",
       "    </tr>\n",
       "    <tr>\n",
       "      <th>12</th>\n",
       "      <td>R015104E</td>\n",
       "      <td>181</td>\n",
       "    </tr>\n",
       "    <tr>\n",
       "      <th>13</th>\n",
       "      <td>R024678Z</td>\n",
       "      <td>179</td>\n",
       "    </tr>\n",
       "    <tr>\n",
       "      <th>14</th>\n",
       "      <td>R050224G</td>\n",
       "      <td>160</td>\n",
       "    </tr>\n",
       "    <tr>\n",
       "      <th>15</th>\n",
       "      <td>R011694J</td>\n",
       "      <td>158</td>\n",
       "    </tr>\n",
       "    <tr>\n",
       "      <th>16</th>\n",
       "      <td>R000567G</td>\n",
       "      <td>158</td>\n",
       "    </tr>\n",
       "    <tr>\n",
       "      <th>17</th>\n",
       "      <td>R048159B</td>\n",
       "      <td>154</td>\n",
       "    </tr>\n",
       "    <tr>\n",
       "      <th>18</th>\n",
       "      <td>R027089C</td>\n",
       "      <td>154</td>\n",
       "    </tr>\n",
       "    <tr>\n",
       "      <th>19</th>\n",
       "      <td>R026591A</td>\n",
       "      <td>152</td>\n",
       "    </tr>\n",
       "    <tr>\n",
       "      <th>20</th>\n",
       "      <td>R025642D</td>\n",
       "      <td>151</td>\n",
       "    </tr>\n",
       "    <tr>\n",
       "      <th>21</th>\n",
       "      <td>R021723B</td>\n",
       "      <td>150</td>\n",
       "    </tr>\n",
       "    <tr>\n",
       "      <th>22</th>\n",
       "      <td>R030171C</td>\n",
       "      <td>148</td>\n",
       "    </tr>\n",
       "    <tr>\n",
       "      <th>23</th>\n",
       "      <td>R009471H</td>\n",
       "      <td>148</td>\n",
       "    </tr>\n",
       "    <tr>\n",
       "      <th>24</th>\n",
       "      <td>R029775I</td>\n",
       "      <td>147</td>\n",
       "    </tr>\n",
       "    <tr>\n",
       "      <th>25</th>\n",
       "      <td>R024156G</td>\n",
       "      <td>142</td>\n",
       "    </tr>\n",
       "    <tr>\n",
       "      <th>26</th>\n",
       "      <td>R045202I</td>\n",
       "      <td>138</td>\n",
       "    </tr>\n",
       "    <tr>\n",
       "      <th>27</th>\n",
       "      <td>R051083E</td>\n",
       "      <td>137</td>\n",
       "    </tr>\n",
       "    <tr>\n",
       "      <th>28</th>\n",
       "      <td>R009802J</td>\n",
       "      <td>136</td>\n",
       "    </tr>\n",
       "    <tr>\n",
       "      <th>29</th>\n",
       "      <td>R010216H</td>\n",
       "      <td>133</td>\n",
       "    </tr>\n",
       "  </tbody>\n",
       "</table>\n",
       "</div>"
      ],
      "text/plain": [
       "   salesperson_reg_no  number_of_transactions\n",
       "0            R043039D                     719\n",
       "1            R057585F                     448\n",
       "2            R007707D                     389\n",
       "3            R024302J                     379\n",
       "4            R026970D                     262\n",
       "5            R055613D                     225\n",
       "6            R027284E                     220\n",
       "7            R040965D                     201\n",
       "8            R047710B                     200\n",
       "9            R016820G                     190\n",
       "10           R044833A                     188\n",
       "11           R010501I                     185\n",
       "12           R015104E                     181\n",
       "13           R024678Z                     179\n",
       "14           R050224G                     160\n",
       "15           R011694J                     158\n",
       "16           R000567G                     158\n",
       "17           R048159B                     154\n",
       "18           R027089C                     154\n",
       "19           R026591A                     152\n",
       "20           R025642D                     151\n",
       "21           R021723B                     150\n",
       "22           R030171C                     148\n",
       "23           R009471H                     148\n",
       "24           R029775I                     147\n",
       "25           R024156G                     142\n",
       "26           R045202I                     138\n",
       "27           R051083E                     137\n",
       "28           R009802J                     136\n",
       "29           R010216H                     133"
      ]
     },
     "execution_count": 29,
     "metadata": {},
     "output_type": "execute_result"
    }
   ],
   "source": [
    "hdb_salesperson_grouped.head(30)"
   ]
  },
  {
   "cell_type": "code",
   "execution_count": 30,
   "metadata": {
    "scrolled": false
   },
   "outputs": [
    {
     "data": {
      "text/plain": [
       "<matplotlib.axes._subplots.AxesSubplot at 0x1c20c4c110>"
      ]
     },
     "execution_count": 30,
     "metadata": {},
     "output_type": "execute_result"
    },
    {
     "data": {
      "image/png": "[encoded data removed]",
      "text/plain": [
       "<Figure size 864x576 with 1 Axes>"
      ]
     },
     "metadata": {
      "image/png": {
       "height": 478,
       "width": 792
      },
      "needs_background": "light"
     },
     "output_type": "display_data"
    }
   ],
   "source": [
    "plt.figure(figsize=(12,8))\n",
    "sns.distplot(hdb_salesperson_grouped.number_of_transactions)"
   ]
  },
  {
   "cell_type": "code",
   "execution_count": 31,
   "metadata": {},
   "outputs": [
    {
     "data": {
      "text/plain": [
       "<matplotlib.axes._subplots.AxesSubplot at 0x1c1e4d1ed0>"
      ]
     },
     "execution_count": 31,
     "metadata": {},
     "output_type": "execute_result"
    },
    {
     "data": {
      "image/png": "[encoded data removed]",
      "text/plain": [
       "<Figure size 1440x576 with 1 Axes>"
      ]
     },
     "metadata": {
      "image/png": {
       "height": 478,
       "width": 1267
      },
      "needs_background": "light"
     },
     "output_type": "display_data"
    }
   ],
   "source": [
    "plt.figure(figsize=(20,8))\n",
    "sns.boxplot(x=hdb_salesperson_grouped.number_of_transactions)"
   ]
  },
  {
   "cell_type": "markdown",
   "metadata": {},
   "source": [
    "From the distribution plot above, along with the summary statistics, it can be seen that there is an extremely huge variation in the number of sales among agents. Around 75% of agents close less than 10 sales over 3 years (so on average, 3 cases a year), while the remaining 25% of agents close more than 10 cases over 3 years. There are extreme outliers (top performing agents) that close more than 300 cases to 719 cases (the maximum) over 3 years. This shows the amount of variation is extremely high."
   ]
  },
  {
   "cell_type": "markdown",
   "metadata": {},
   "source": [
    "**Task 2:** Examine the distribution for number of sales closed by an agent in a year & suggest a probability distribution that may be suitable for modelling this set of values. What are some ways in which your suggested distribution is appropriate? What are some of its limitations?"
   ]
  },
  {
   "cell_type": "code",
   "execution_count": 32,
   "metadata": {},
   "outputs": [
    {
     "data": {
      "text/html": [
       "<div>\n",
       "<style scoped>\n",
       "    .dataframe tbody tr th:only-of-type {\n",
       "        vertical-align: middle;\n",
       "    }\n",
       "\n",
       "    .dataframe tbody tr th {\n",
       "        vertical-align: top;\n",
       "    }\n",
       "\n",
       "    .dataframe thead th {\n",
       "        text-align: right;\n",
       "    }\n",
       "</style>\n",
       "<table border=\"1\" class=\"dataframe\">\n",
       "  <thead>\n",
       "    <tr style=\"text-align: right;\">\n",
       "      <th></th>\n",
       "      <th>salesperson_reg_no</th>\n",
       "      <th>number_of_transactions</th>\n",
       "    </tr>\n",
       "  </thead>\n",
       "  <tbody>\n",
       "    <tr>\n",
       "      <th>0</th>\n",
       "      <td>R043039D</td>\n",
       "      <td>239.666667</td>\n",
       "    </tr>\n",
       "    <tr>\n",
       "      <th>1</th>\n",
       "      <td>R057585F</td>\n",
       "      <td>149.333333</td>\n",
       "    </tr>\n",
       "    <tr>\n",
       "      <th>2</th>\n",
       "      <td>R007707D</td>\n",
       "      <td>129.666667</td>\n",
       "    </tr>\n",
       "    <tr>\n",
       "      <th>3</th>\n",
       "      <td>R024302J</td>\n",
       "      <td>126.333333</td>\n",
       "    </tr>\n",
       "    <tr>\n",
       "      <th>4</th>\n",
       "      <td>R026970D</td>\n",
       "      <td>87.333333</td>\n",
       "    </tr>\n",
       "  </tbody>\n",
       "</table>\n",
       "</div>"
      ],
      "text/plain": [
       "  salesperson_reg_no  number_of_transactions\n",
       "0           R043039D              239.666667\n",
       "1           R057585F              149.333333\n",
       "2           R007707D              129.666667\n",
       "3           R024302J              126.333333\n",
       "4           R026970D               87.333333"
      ]
     },
     "execution_count": 32,
     "metadata": {},
     "output_type": "execute_result"
    }
   ],
   "source": [
    "# convert to per year basis first by dividing by 3\n",
    "hdb_salesperson_grouped['number_of_transactions'] = hdb_salesperson_grouped['number_of_transactions'] / 3\n",
    "hdb_salesperson_grouped.head()"
   ]
  },
  {
   "cell_type": "code",
   "execution_count": 33,
   "metadata": {},
   "outputs": [
    {
     "data": {
      "text/html": [
       "<div>\n",
       "<style scoped>\n",
       "    .dataframe tbody tr th:only-of-type {\n",
       "        vertical-align: middle;\n",
       "    }\n",
       "\n",
       "    .dataframe tbody tr th {\n",
       "        vertical-align: top;\n",
       "    }\n",
       "\n",
       "    .dataframe thead th {\n",
       "        text-align: right;\n",
       "    }\n",
       "</style>\n",
       "<table border=\"1\" class=\"dataframe\">\n",
       "  <thead>\n",
       "    <tr style=\"text-align: right;\">\n",
       "      <th></th>\n",
       "      <th>salesperson_reg_no</th>\n",
       "      <th>number_of_transactions</th>\n",
       "    </tr>\n",
       "  </thead>\n",
       "  <tbody>\n",
       "    <tr>\n",
       "      <th>0</th>\n",
       "      <td>R043039D</td>\n",
       "      <td>240.0</td>\n",
       "    </tr>\n",
       "    <tr>\n",
       "      <th>1</th>\n",
       "      <td>R057585F</td>\n",
       "      <td>149.0</td>\n",
       "    </tr>\n",
       "    <tr>\n",
       "      <th>2</th>\n",
       "      <td>R007707D</td>\n",
       "      <td>130.0</td>\n",
       "    </tr>\n",
       "    <tr>\n",
       "      <th>3</th>\n",
       "      <td>R024302J</td>\n",
       "      <td>126.0</td>\n",
       "    </tr>\n",
       "    <tr>\n",
       "      <th>4</th>\n",
       "      <td>R026970D</td>\n",
       "      <td>87.0</td>\n",
       "    </tr>\n",
       "  </tbody>\n",
       "</table>\n",
       "</div>"
      ],
      "text/plain": [
       "  salesperson_reg_no  number_of_transactions\n",
       "0           R043039D                   240.0\n",
       "1           R057585F                   149.0\n",
       "2           R007707D                   130.0\n",
       "3           R024302J                   126.0\n",
       "4           R026970D                    87.0"
      ]
     },
     "execution_count": 33,
     "metadata": {},
     "output_type": "execute_result"
    }
   ],
   "source": [
    "# round to nearest whole number\n",
    "hdb_salesperson_grouped['number_of_transactions'] = hdb_salesperson_grouped['number_of_transactions'].round(0)\n",
    "hdb_salesperson_grouped.head()"
   ]
  },
  {
   "cell_type": "code",
   "execution_count": 34,
   "metadata": {},
   "outputs": [
    {
     "data": {
      "text/plain": [
       "<matplotlib.axes._subplots.AxesSubplot at 0x1090d3190>"
      ]
     },
     "execution_count": 34,
     "metadata": {},
     "output_type": "execute_result"
    },
    {
     "data": {
      "image/png": "[encoded data removed]",
      "text/plain": [
       "<Figure size 864x576 with 1 Axes>"
      ]
     },
     "metadata": {
      "image/png": {
       "height": 478,
       "width": 799
      },
      "needs_background": "light"
     },
     "output_type": "display_data"
    }
   ],
   "source": [
    "plt.figure(figsize=(12,8))\n",
    "sns.distplot(hdb_salesperson_grouped.number_of_transactions)"
   ]
  },
  {
   "cell_type": "code",
   "execution_count": 35,
   "metadata": {},
   "outputs": [
    {
     "data": {
      "text/plain": [
       "<matplotlib.axes._subplots.AxesSubplot at 0x1c1e5b6750>"
      ]
     },
     "execution_count": 35,
     "metadata": {},
     "output_type": "execute_result"
    },
    {
     "data": {
      "image/png": "[encoded data removed]",
      "text/plain": [
       "<Figure size 1440x576 with 1 Axes>"
      ]
     },
     "metadata": {
      "image/png": {
       "height": 478,
       "width": 1267
      },
      "needs_background": "light"
     },
     "output_type": "display_data"
    }
   ],
   "source": [
    "plt.figure(figsize=(20,8))\n",
    "sns.boxplot(x=hdb_salesperson_grouped.number_of_transactions)"
   ]
  },
  {
   "cell_type": "markdown",
   "metadata": {},
   "source": [
    "I would classify such a distribution under the **Power Law distribution.** Based on the distribution plots above, the number of sales per agent per year observes a classic long tail distribution. Such a distribution is appropriate in the context of jobs related to sales, or networks.\n",
    "\n",
    "In the context of property agents, a sales job by nature, the better the agent is (in terms of sales), the stronger the network effects (reputation increases, referrals increases), and his/her sales increases as well, perpetuating the cycle. Thus, it isn't at all surprising to observe the large disparity between the top performers (with the top performer selling almost double of the second top performer) and the rest.\n",
    "\n",
    "The limitation of a power law distribution is that, since it is a **non-normal distribution**, as we increase the number of samples we take, values will not converge to an average. They will, in fact, diverge, with some exceptions. Thus, conventional theory of central limit theorem doesn't apply here. This explains why the above calculation of how much sales on average to expect of each agent is so different from the ground truth."
   ]
  },
  {
   "cell_type": "markdown",
   "metadata": {},
   "source": [
    "**Task 3:** Property agents tend to specialise in one or more specific geographical areas, rather than ply their trade equally island-wide. Given a property agent who has closed sales in Sembawang and Yishun during a given year, which other town is he/she most likely to be active in that year? (Note: you may wish to use association rules for this task.)"
   ]
  },
  {
   "cell_type": "code",
   "execution_count": 36,
   "metadata": {},
   "outputs": [
    {
     "data": {
      "text/html": [
       "<div>\n",
       "<style scoped>\n",
       "    .dataframe tbody tr th:only-of-type {\n",
       "        vertical-align: middle;\n",
       "    }\n",
       "\n",
       "    .dataframe tbody tr th {\n",
       "        vertical-align: top;\n",
       "    }\n",
       "\n",
       "    .dataframe thead th {\n",
       "        text-align: right;\n",
       "    }\n",
       "</style>\n",
       "<table border=\"1\" class=\"dataframe\">\n",
       "  <thead>\n",
       "    <tr style=\"text-align: right;\">\n",
       "      <th></th>\n",
       "      <th>complete_date_txt</th>\n",
       "      <th>town_txt</th>\n",
       "      <th>represented</th>\n",
       "      <th>salesperson_name</th>\n",
       "      <th>salesperson_reg_no</th>\n",
       "      <th>year</th>\n",
       "    </tr>\n",
       "  </thead>\n",
       "  <tbody>\n",
       "    <tr>\n",
       "      <th>0</th>\n",
       "      <td>January 2017</td>\n",
       "      <td>JURONG WEST</td>\n",
       "      <td>Buyer</td>\n",
       "      <td>DERRICK YEO CHUN MENG</td>\n",
       "      <td>R018231E</td>\n",
       "      <td>2017</td>\n",
       "    </tr>\n",
       "    <tr>\n",
       "      <th>1</th>\n",
       "      <td>January 2017</td>\n",
       "      <td>BUKIT MERAH</td>\n",
       "      <td>Buyer</td>\n",
       "      <td>LIM HOCK LEONG (LIN FULONG)</td>\n",
       "      <td>R027276D</td>\n",
       "      <td>2017</td>\n",
       "    </tr>\n",
       "    <tr>\n",
       "      <th>2</th>\n",
       "      <td>January 2017</td>\n",
       "      <td>CENTRAL AREA</td>\n",
       "      <td>Buyer</td>\n",
       "      <td>LAWRENCE TAN CHOON KIAT (CHEN JUNJIE)</td>\n",
       "      <td>R006416I</td>\n",
       "      <td>2017</td>\n",
       "    </tr>\n",
       "    <tr>\n",
       "      <th>3</th>\n",
       "      <td>January 2017</td>\n",
       "      <td>PUNGGOL</td>\n",
       "      <td>Buyer</td>\n",
       "      <td>LIM KIM HENG</td>\n",
       "      <td>R018637Z</td>\n",
       "      <td>2017</td>\n",
       "    </tr>\n",
       "    <tr>\n",
       "      <th>4</th>\n",
       "      <td>January 2017</td>\n",
       "      <td>PASIR RIS</td>\n",
       "      <td>Buyer</td>\n",
       "      <td>ONG SHU LING</td>\n",
       "      <td>R024367E</td>\n",
       "      <td>2017</td>\n",
       "    </tr>\n",
       "  </tbody>\n",
       "</table>\n",
       "</div>"
      ],
      "text/plain": [
       "  complete_date_txt      town_txt represented  \\\n",
       "0      January 2017   JURONG WEST       Buyer   \n",
       "1      January 2017   BUKIT MERAH       Buyer   \n",
       "2      January 2017  CENTRAL AREA       Buyer   \n",
       "3      January 2017       PUNGGOL       Buyer   \n",
       "4      January 2017     PASIR RIS       Buyer   \n",
       "\n",
       "                        salesperson_name salesperson_reg_no  year  \n",
       "0                  DERRICK YEO CHUN MENG           R018231E  2017  \n",
       "1            LIM HOCK LEONG (LIN FULONG)           R027276D  2017  \n",
       "2  LAWRENCE TAN CHOON KIAT (CHEN JUNJIE)           R006416I  2017  \n",
       "3                           LIM KIM HENG           R018637Z  2017  \n",
       "4                           ONG SHU LING           R024367E  2017  "
      ]
     },
     "execution_count": 36,
     "metadata": {},
     "output_type": "execute_result"
    }
   ],
   "source": [
    "# feature engineer the year of each transaction first:\n",
    "\n",
    "hdb['year'] = pd.DatetimeIndex(hdb['complete_date_txt']).year\n",
    "hdb.head()"
   ]
  },
  {
   "cell_type": "code",
   "execution_count": 37,
   "metadata": {},
   "outputs": [
    {
     "data": {
      "text/plain": [
       "array([2017, 2018, 2019, 2020])"
      ]
     },
     "execution_count": 37,
     "metadata": {},
     "output_type": "execute_result"
    }
   ],
   "source": [
    "hdb.year.unique()"
   ]
  },
  {
   "cell_type": "code",
   "execution_count": 38,
   "metadata": {},
   "outputs": [],
   "source": [
    "# slice dataframe into seperate years:\n",
    "hdb2017 = hdb[hdb.year == 2017][['year', 'town_txt', 'salesperson_reg_no']]\n",
    "hdb2018 = hdb[hdb.year == 2018][['year', 'town_txt', 'salesperson_reg_no']]\n",
    "hdb2019 = hdb[hdb.year == 2019][['year', 'town_txt', 'salesperson_reg_no']]\n",
    "hdb2020 = hdb[hdb.year == 2020][['year', 'town_txt', 'salesperson_reg_no']]"
   ]
  },
  {
   "cell_type": "code",
   "execution_count": 39,
   "metadata": {},
   "outputs": [
    {
     "data": {
      "text/html": [
       "<div>\n",
       "<style scoped>\n",
       "    .dataframe tbody tr th:only-of-type {\n",
       "        vertical-align: middle;\n",
       "    }\n",
       "\n",
       "    .dataframe tbody tr th {\n",
       "        vertical-align: top;\n",
       "    }\n",
       "\n",
       "    .dataframe thead th {\n",
       "        text-align: right;\n",
       "    }\n",
       "</style>\n",
       "<table border=\"1\" class=\"dataframe\">\n",
       "  <thead>\n",
       "    <tr style=\"text-align: right;\">\n",
       "      <th></th>\n",
       "      <th>year</th>\n",
       "      <th>town_txt</th>\n",
       "      <th>salesperson_reg_no</th>\n",
       "    </tr>\n",
       "  </thead>\n",
       "  <tbody>\n",
       "    <tr>\n",
       "      <th>0</th>\n",
       "      <td>2017</td>\n",
       "      <td>JURONG WEST</td>\n",
       "      <td>R018231E</td>\n",
       "    </tr>\n",
       "    <tr>\n",
       "      <th>1</th>\n",
       "      <td>2017</td>\n",
       "      <td>BUKIT MERAH</td>\n",
       "      <td>R027276D</td>\n",
       "    </tr>\n",
       "    <tr>\n",
       "      <th>2</th>\n",
       "      <td>2017</td>\n",
       "      <td>CENTRAL AREA</td>\n",
       "      <td>R006416I</td>\n",
       "    </tr>\n",
       "    <tr>\n",
       "      <th>3</th>\n",
       "      <td>2017</td>\n",
       "      <td>PUNGGOL</td>\n",
       "      <td>R018637Z</td>\n",
       "    </tr>\n",
       "    <tr>\n",
       "      <th>4</th>\n",
       "      <td>2017</td>\n",
       "      <td>PASIR RIS</td>\n",
       "      <td>R024367E</td>\n",
       "    </tr>\n",
       "  </tbody>\n",
       "</table>\n",
       "</div>"
      ],
      "text/plain": [
       "   year      town_txt salesperson_reg_no\n",
       "0  2017   JURONG WEST           R018231E\n",
       "1  2017   BUKIT MERAH           R027276D\n",
       "2  2017  CENTRAL AREA           R006416I\n",
       "3  2017       PUNGGOL           R018637Z\n",
       "4  2017     PASIR RIS           R024367E"
      ]
     },
     "execution_count": 39,
     "metadata": {},
     "output_type": "execute_result"
    }
   ],
   "source": [
    "# quick visual inspection:\n",
    "\n",
    "hdb2017.head()"
   ]
  },
  {
   "cell_type": "code",
   "execution_count": 40,
   "metadata": {},
   "outputs": [
    {
     "data": {
      "text/plain": [
       "(30156, 3)"
      ]
     },
     "execution_count": 40,
     "metadata": {},
     "output_type": "execute_result"
    }
   ],
   "source": [
    "hdb2017.shape"
   ]
  },
  {
   "cell_type": "code",
   "execution_count": 41,
   "metadata": {},
   "outputs": [
    {
     "data": {
      "text/html": [
       "<div>\n",
       "<style scoped>\n",
       "    .dataframe tbody tr th:only-of-type {\n",
       "        vertical-align: middle;\n",
       "    }\n",
       "\n",
       "    .dataframe tbody tr th {\n",
       "        vertical-align: top;\n",
       "    }\n",
       "\n",
       "    .dataframe thead th {\n",
       "        text-align: right;\n",
       "    }\n",
       "</style>\n",
       "<table border=\"1\" class=\"dataframe\">\n",
       "  <thead>\n",
       "    <tr style=\"text-align: right;\">\n",
       "      <th></th>\n",
       "      <th>year</th>\n",
       "      <th>town_txt</th>\n",
       "      <th>salesperson_reg_no</th>\n",
       "    </tr>\n",
       "  </thead>\n",
       "  <tbody>\n",
       "    <tr>\n",
       "      <th>9</th>\n",
       "      <td>2017</td>\n",
       "      <td>YISHUN</td>\n",
       "      <td>R043256G</td>\n",
       "    </tr>\n",
       "    <tr>\n",
       "      <th>18</th>\n",
       "      <td>2017</td>\n",
       "      <td>YISHUN</td>\n",
       "      <td>R047261E</td>\n",
       "    </tr>\n",
       "    <tr>\n",
       "      <th>21</th>\n",
       "      <td>2017</td>\n",
       "      <td>YISHUN</td>\n",
       "      <td>R046477I</td>\n",
       "    </tr>\n",
       "    <tr>\n",
       "      <th>31</th>\n",
       "      <td>2017</td>\n",
       "      <td>YISHUN</td>\n",
       "      <td>R050567Z</td>\n",
       "    </tr>\n",
       "    <tr>\n",
       "      <th>34</th>\n",
       "      <td>2017</td>\n",
       "      <td>YISHUN</td>\n",
       "      <td>R057473F</td>\n",
       "    </tr>\n",
       "  </tbody>\n",
       "</table>\n",
       "</div>"
      ],
      "text/plain": [
       "    year town_txt salesperson_reg_no\n",
       "9   2017   YISHUN           R043256G\n",
       "18  2017   YISHUN           R047261E\n",
       "21  2017   YISHUN           R046477I\n",
       "31  2017   YISHUN           R050567Z\n",
       "34  2017   YISHUN           R057473F"
      ]
     },
     "execution_count": 41,
     "metadata": {},
     "output_type": "execute_result"
    }
   ],
   "source": [
    "# first, filter by agents who have closed sales in Sembawang or Yishun before:\n",
    "\n",
    "hdb2017_SembYish =  hdb2017[hdb2017.town_txt.isin(['SEMBAWANG', 'YISHUN'])]\n",
    "hdb2017_SembYish.head()"
   ]
  },
  {
   "cell_type": "code",
   "execution_count": 42,
   "metadata": {},
   "outputs": [
    {
     "data": {
      "text/html": [
       "<div>\n",
       "<style scoped>\n",
       "    .dataframe tbody tr th:only-of-type {\n",
       "        vertical-align: middle;\n",
       "    }\n",
       "\n",
       "    .dataframe tbody tr th {\n",
       "        vertical-align: top;\n",
       "    }\n",
       "\n",
       "    .dataframe thead th {\n",
       "        text-align: right;\n",
       "    }\n",
       "</style>\n",
       "<table border=\"1\" class=\"dataframe\">\n",
       "  <thead>\n",
       "    <tr style=\"text-align: right;\">\n",
       "      <th></th>\n",
       "      <th>salesperson_reg_no</th>\n",
       "      <th>town_txt</th>\n",
       "    </tr>\n",
       "  </thead>\n",
       "  <tbody>\n",
       "    <tr>\n",
       "      <th>0</th>\n",
       "      <td>R047710B</td>\n",
       "      <td>52</td>\n",
       "    </tr>\n",
       "    <tr>\n",
       "      <th>1</th>\n",
       "      <td>R043232Z</td>\n",
       "      <td>26</td>\n",
       "    </tr>\n",
       "    <tr>\n",
       "      <th>2</th>\n",
       "      <td>R043256G</td>\n",
       "      <td>25</td>\n",
       "    </tr>\n",
       "    <tr>\n",
       "      <th>3</th>\n",
       "      <td>R027388D</td>\n",
       "      <td>22</td>\n",
       "    </tr>\n",
       "    <tr>\n",
       "      <th>4</th>\n",
       "      <td>R018918B</td>\n",
       "      <td>21</td>\n",
       "    </tr>\n",
       "  </tbody>\n",
       "</table>\n",
       "</div>"
      ],
      "text/plain": [
       "  salesperson_reg_no  town_txt\n",
       "0           R047710B        52\n",
       "1           R043232Z        26\n",
       "2           R043256G        25\n",
       "3           R027388D        22\n",
       "4           R018918B        21"
      ]
     },
     "execution_count": 42,
     "metadata": {},
     "output_type": "execute_result"
    }
   ],
   "source": [
    "# next, groupby agents and see which agents have sold properties in both Sembawang AND Yishun (for 2017):\n",
    "\n",
    "hdb2017_SembYish = hdb2017_SembYish.groupby('salesperson_reg_no').count()[['town_txt']].sort_values(by = 'town_txt', ascending = False).reset_index()\n",
    "hdb2017_SembYish.head()"
   ]
  },
  {
   "cell_type": "code",
   "execution_count": 43,
   "metadata": {},
   "outputs": [
    {
     "data": {
      "text/plain": [
       "461"
      ]
     },
     "execution_count": 43,
     "metadata": {},
     "output_type": "execute_result"
    }
   ],
   "source": [
    "# next, get unique list of agents who have sold in both Sembawang and Yishun (for 2017):\n",
    "\n",
    "hdb2017_SembYish_agents = hdb2017_SembYish[hdb2017_SembYish.town_txt > 1].salesperson_reg_no.tolist()\n",
    "len(hdb2017_SembYish_agents)"
   ]
  },
  {
   "cell_type": "code",
   "execution_count": 44,
   "metadata": {},
   "outputs": [
    {
     "name": "stdout",
     "output_type": "stream",
     "text": [
      "(5962, 3)\n"
     ]
    },
    {
     "data": {
      "text/html": [
       "<div>\n",
       "<style scoped>\n",
       "    .dataframe tbody tr th:only-of-type {\n",
       "        vertical-align: middle;\n",
       "    }\n",
       "\n",
       "    .dataframe tbody tr th {\n",
       "        vertical-align: top;\n",
       "    }\n",
       "\n",
       "    .dataframe thead th {\n",
       "        text-align: right;\n",
       "    }\n",
       "</style>\n",
       "<table border=\"1\" class=\"dataframe\">\n",
       "  <thead>\n",
       "    <tr style=\"text-align: right;\">\n",
       "      <th></th>\n",
       "      <th>year</th>\n",
       "      <th>town_txt</th>\n",
       "      <th>salesperson_reg_no</th>\n",
       "    </tr>\n",
       "  </thead>\n",
       "  <tbody>\n",
       "    <tr>\n",
       "      <th>9</th>\n",
       "      <td>2017</td>\n",
       "      <td>YISHUN</td>\n",
       "      <td>R043256G</td>\n",
       "    </tr>\n",
       "    <tr>\n",
       "      <th>12</th>\n",
       "      <td>2017</td>\n",
       "      <td>SENGKANG</td>\n",
       "      <td>R027089C</td>\n",
       "    </tr>\n",
       "    <tr>\n",
       "      <th>17</th>\n",
       "      <td>2017</td>\n",
       "      <td>HOUGANG</td>\n",
       "      <td>R044058F</td>\n",
       "    </tr>\n",
       "    <tr>\n",
       "      <th>20</th>\n",
       "      <td>2017</td>\n",
       "      <td>BEDOK</td>\n",
       "      <td>R045202I</td>\n",
       "    </tr>\n",
       "    <tr>\n",
       "      <th>26</th>\n",
       "      <td>2017</td>\n",
       "      <td>WOODLANDS</td>\n",
       "      <td>R044930C</td>\n",
       "    </tr>\n",
       "  </tbody>\n",
       "</table>\n",
       "</div>"
      ],
      "text/plain": [
       "    year   town_txt salesperson_reg_no\n",
       "9   2017     YISHUN           R043256G\n",
       "12  2017   SENGKANG           R027089C\n",
       "17  2017    HOUGANG           R044058F\n",
       "20  2017      BEDOK           R045202I\n",
       "26  2017  WOODLANDS           R044930C"
      ]
     },
     "execution_count": 44,
     "metadata": {},
     "output_type": "execute_result"
    }
   ],
   "source": [
    "# filter original dataframe by this list of agents who have sold in both regions:\n",
    "\n",
    "hdb2017_SembYish_filtered = hdb2017[hdb2017['salesperson_reg_no'].isin(hdb2017_SembYish_agents)]\n",
    "print(hdb2017_SembYish_filtered.shape)\n",
    "hdb2017_SembYish_filtered.head()"
   ]
  },
  {
   "cell_type": "code",
   "execution_count": 45,
   "metadata": {},
   "outputs": [
    {
     "data": {
      "text/html": [
       "<div>\n",
       "<style scoped>\n",
       "    .dataframe tbody tr th:only-of-type {\n",
       "        vertical-align: middle;\n",
       "    }\n",
       "\n",
       "    .dataframe tbody tr th {\n",
       "        vertical-align: top;\n",
       "    }\n",
       "\n",
       "    .dataframe thead th {\n",
       "        text-align: right;\n",
       "    }\n",
       "</style>\n",
       "<table border=\"1\" class=\"dataframe\">\n",
       "  <thead>\n",
       "    <tr style=\"text-align: right;\">\n",
       "      <th></th>\n",
       "      <th>year</th>\n",
       "      <th>salesperson_reg_no</th>\n",
       "    </tr>\n",
       "    <tr>\n",
       "      <th>town_txt</th>\n",
       "      <th></th>\n",
       "      <th></th>\n",
       "    </tr>\n",
       "  </thead>\n",
       "  <tbody>\n",
       "    <tr>\n",
       "      <th>WOODLANDS</th>\n",
       "      <td>723</td>\n",
       "      <td>723</td>\n",
       "    </tr>\n",
       "    <tr>\n",
       "      <th>JURONG WEST</th>\n",
       "      <td>374</td>\n",
       "      <td>374</td>\n",
       "    </tr>\n",
       "    <tr>\n",
       "      <th>SENGKANG</th>\n",
       "      <td>345</td>\n",
       "      <td>345</td>\n",
       "    </tr>\n",
       "    <tr>\n",
       "      <th>PUNGGOL</th>\n",
       "      <td>310</td>\n",
       "      <td>310</td>\n",
       "    </tr>\n",
       "    <tr>\n",
       "      <th>TAMPINES</th>\n",
       "      <td>273</td>\n",
       "      <td>273</td>\n",
       "    </tr>\n",
       "    <tr>\n",
       "      <th>BEDOK</th>\n",
       "      <td>272</td>\n",
       "      <td>272</td>\n",
       "    </tr>\n",
       "    <tr>\n",
       "      <th>CHOA CHU KANG</th>\n",
       "      <td>221</td>\n",
       "      <td>221</td>\n",
       "    </tr>\n",
       "    <tr>\n",
       "      <th>ANG MO KIO</th>\n",
       "      <td>211</td>\n",
       "      <td>211</td>\n",
       "    </tr>\n",
       "    <tr>\n",
       "      <th>BUKIT BATOK</th>\n",
       "      <td>189</td>\n",
       "      <td>189</td>\n",
       "    </tr>\n",
       "    <tr>\n",
       "      <th>HOUGANG</th>\n",
       "      <td>176</td>\n",
       "      <td>176</td>\n",
       "    </tr>\n",
       "    <tr>\n",
       "      <th>PASIR RIS</th>\n",
       "      <td>174</td>\n",
       "      <td>174</td>\n",
       "    </tr>\n",
       "    <tr>\n",
       "      <th>BUKIT PANJANG</th>\n",
       "      <td>156</td>\n",
       "      <td>156</td>\n",
       "    </tr>\n",
       "    <tr>\n",
       "      <th>TOA PAYOH</th>\n",
       "      <td>123</td>\n",
       "      <td>123</td>\n",
       "    </tr>\n",
       "    <tr>\n",
       "      <th>KALLANG/WHAMPOA</th>\n",
       "      <td>99</td>\n",
       "      <td>99</td>\n",
       "    </tr>\n",
       "    <tr>\n",
       "      <th>BUKIT MERAH</th>\n",
       "      <td>94</td>\n",
       "      <td>94</td>\n",
       "    </tr>\n",
       "    <tr>\n",
       "      <th>JURONG EAST</th>\n",
       "      <td>86</td>\n",
       "      <td>86</td>\n",
       "    </tr>\n",
       "    <tr>\n",
       "      <th>GEYLANG</th>\n",
       "      <td>85</td>\n",
       "      <td>85</td>\n",
       "    </tr>\n",
       "    <tr>\n",
       "      <th>QUEENSTOWN</th>\n",
       "      <td>84</td>\n",
       "      <td>84</td>\n",
       "    </tr>\n",
       "    <tr>\n",
       "      <th>BISHAN</th>\n",
       "      <td>80</td>\n",
       "      <td>80</td>\n",
       "    </tr>\n",
       "    <tr>\n",
       "      <th>SERANGOON</th>\n",
       "      <td>72</td>\n",
       "      <td>72</td>\n",
       "    </tr>\n",
       "    <tr>\n",
       "      <th>CLEMENTI</th>\n",
       "      <td>65</td>\n",
       "      <td>65</td>\n",
       "    </tr>\n",
       "    <tr>\n",
       "      <th>CENTRAL AREA</th>\n",
       "      <td>21</td>\n",
       "      <td>21</td>\n",
       "    </tr>\n",
       "    <tr>\n",
       "      <th>BUKIT TIMAH</th>\n",
       "      <td>14</td>\n",
       "      <td>14</td>\n",
       "    </tr>\n",
       "    <tr>\n",
       "      <th>MARINE PARADE</th>\n",
       "      <td>9</td>\n",
       "      <td>9</td>\n",
       "    </tr>\n",
       "  </tbody>\n",
       "</table>\n",
       "</div>"
      ],
      "text/plain": [
       "                 year  salesperson_reg_no\n",
       "town_txt                                 \n",
       "WOODLANDS         723                 723\n",
       "JURONG WEST       374                 374\n",
       "SENGKANG          345                 345\n",
       "PUNGGOL           310                 310\n",
       "TAMPINES          273                 273\n",
       "BEDOK             272                 272\n",
       "CHOA CHU KANG     221                 221\n",
       "ANG MO KIO        211                 211\n",
       "BUKIT BATOK       189                 189\n",
       "HOUGANG           176                 176\n",
       "PASIR RIS         174                 174\n",
       "BUKIT PANJANG     156                 156\n",
       "TOA PAYOH         123                 123\n",
       "KALLANG/WHAMPOA    99                  99\n",
       "BUKIT MERAH        94                  94\n",
       "JURONG EAST        86                  86\n",
       "GEYLANG            85                  85\n",
       "QUEENSTOWN         84                  84\n",
       "BISHAN             80                  80\n",
       "SERANGOON          72                  72\n",
       "CLEMENTI           65                  65\n",
       "CENTRAL AREA       21                  21\n",
       "BUKIT TIMAH        14                  14\n",
       "MARINE PARADE       9                   9"
      ]
     },
     "execution_count": 45,
     "metadata": {},
     "output_type": "execute_result"
    }
   ],
   "source": [
    "# now that I know this dataframe contains only agents that sold in both regions,\n",
    "# I can extract the non-Sembawang/Yishun regions that have the most count,\n",
    "# hence showing, for the year 2017, which other region will likely be engaged and closed by an agent who has sold in BOTH Sembawang and Yishun\n",
    "\n",
    "hdb2017_SembYish_filtered[~hdb2017_SembYish_filtered.town_txt.isin(['SEMBAWANG', 'YISHUN'])].groupby('town_txt').count().sort_values(by = 'salesperson_reg_no', ascending = False)"
   ]
  },
  {
   "cell_type": "markdown",
   "metadata": {},
   "source": [
    "Thus, for the year 2017, given an agent has closed sales in both Sembawang and Yishun, he/she will most likely close sales in Woodlands as well, which makes sense given the geographical proximity of all these regions."
   ]
  },
  {
   "cell_type": "code",
   "execution_count": 46,
   "metadata": {},
   "outputs": [],
   "source": [
    "# create a function to repeat the above process in a programmatic manner:\n",
    "\n",
    "def hdb_filtered_SembYish_df(df):\n",
    "    groupedby_df = df[df.town_txt.isin(['SEMBAWANG', 'YISHUN'])].groupby('salesperson_reg_no').count()[['town_txt']].sort_values(by = 'town_txt', ascending = False).reset_index()\n",
    "    SembYish_unique_agents = groupedby_df[groupedby_df.town_txt > 1].salesperson_reg_no.tolist()\n",
    "    filtered_df = df[df['salesperson_reg_no'].isin(SembYish_unique_agents)]\n",
    "    # since we already know the year to look at (specified as an argument in this function),\n",
    "    # we can drop the 'year' column for a neater view of the DataFrame\n",
    "    filtered_df.drop(columns = 'year', inplace = True)\n",
    "    filtered_df = filtered_df[~filtered_df.town_txt.isin(['SEMBAWANG', 'YISHUN'])].groupby('town_txt').count().sort_values(by = 'salesperson_reg_no', ascending = False)\n",
    "    return filtered_df.head()"
   ]
  },
  {
   "cell_type": "code",
   "execution_count": 47,
   "metadata": {},
   "outputs": [
    {
     "name": "stderr",
     "output_type": "stream",
     "text": [
      "/Users/user/opt/anaconda3/lib/python3.7/site-packages/pandas/core/frame.py:3997: SettingWithCopyWarning: \n",
      "A value is trying to be set on a copy of a slice from a DataFrame\n",
      "\n",
      "See the caveats in the documentation: https://pandas.pydata.org/pandas-docs/stable/user_guide/indexing.html#returning-a-view-versus-a-copy\n",
      "  errors=errors,\n"
     ]
    }
   ],
   "source": [
    "SembYish_2017 = hdb_filtered_SembYish_df(hdb2017)\n",
    "SembYish_2018 = hdb_filtered_SembYish_df(hdb2018)\n",
    "SembYish_2019 = hdb_filtered_SembYish_df(hdb2019)\n",
    "SembYish_2020 = hdb_filtered_SembYish_df(hdb2020)"
   ]
  },
  {
   "cell_type": "code",
   "execution_count": 48,
   "metadata": {},
   "outputs": [
    {
     "data": {
      "text/html": [
       "<div>\n",
       "<style scoped>\n",
       "    .dataframe tbody tr th:only-of-type {\n",
       "        vertical-align: middle;\n",
       "    }\n",
       "\n",
       "    .dataframe tbody tr th {\n",
       "        vertical-align: top;\n",
       "    }\n",
       "\n",
       "    .dataframe thead th {\n",
       "        text-align: right;\n",
       "    }\n",
       "</style>\n",
       "<table border=\"1\" class=\"dataframe\">\n",
       "  <thead>\n",
       "    <tr style=\"text-align: right;\">\n",
       "      <th></th>\n",
       "      <th>salesperson_reg_no</th>\n",
       "    </tr>\n",
       "    <tr>\n",
       "      <th>town_txt</th>\n",
       "      <th></th>\n",
       "    </tr>\n",
       "  </thead>\n",
       "  <tbody>\n",
       "    <tr>\n",
       "      <th>WOODLANDS</th>\n",
       "      <td>723</td>\n",
       "    </tr>\n",
       "    <tr>\n",
       "      <th>JURONG WEST</th>\n",
       "      <td>374</td>\n",
       "    </tr>\n",
       "    <tr>\n",
       "      <th>SENGKANG</th>\n",
       "      <td>345</td>\n",
       "    </tr>\n",
       "    <tr>\n",
       "      <th>PUNGGOL</th>\n",
       "      <td>310</td>\n",
       "    </tr>\n",
       "    <tr>\n",
       "      <th>TAMPINES</th>\n",
       "      <td>273</td>\n",
       "    </tr>\n",
       "  </tbody>\n",
       "</table>\n",
       "</div>"
      ],
      "text/plain": [
       "             salesperson_reg_no\n",
       "town_txt                       \n",
       "WOODLANDS                   723\n",
       "JURONG WEST                 374\n",
       "SENGKANG                    345\n",
       "PUNGGOL                     310\n",
       "TAMPINES                    273"
      ]
     },
     "execution_count": 48,
     "metadata": {},
     "output_type": "execute_result"
    }
   ],
   "source": [
    "SembYish_2017"
   ]
  },
  {
   "cell_type": "code",
   "execution_count": 49,
   "metadata": {},
   "outputs": [
    {
     "data": {
      "text/html": [
       "<div>\n",
       "<style scoped>\n",
       "    .dataframe tbody tr th:only-of-type {\n",
       "        vertical-align: middle;\n",
       "    }\n",
       "\n",
       "    .dataframe tbody tr th {\n",
       "        vertical-align: top;\n",
       "    }\n",
       "\n",
       "    .dataframe thead th {\n",
       "        text-align: right;\n",
       "    }\n",
       "</style>\n",
       "<table border=\"1\" class=\"dataframe\">\n",
       "  <thead>\n",
       "    <tr style=\"text-align: right;\">\n",
       "      <th></th>\n",
       "      <th>salesperson_reg_no</th>\n",
       "    </tr>\n",
       "    <tr>\n",
       "      <th>town_txt</th>\n",
       "      <th></th>\n",
       "    </tr>\n",
       "  </thead>\n",
       "  <tbody>\n",
       "    <tr>\n",
       "      <th>WOODLANDS</th>\n",
       "      <td>936</td>\n",
       "    </tr>\n",
       "    <tr>\n",
       "      <th>SENGKANG</th>\n",
       "      <td>549</td>\n",
       "    </tr>\n",
       "    <tr>\n",
       "      <th>JURONG WEST</th>\n",
       "      <td>539</td>\n",
       "    </tr>\n",
       "    <tr>\n",
       "      <th>PUNGGOL</th>\n",
       "      <td>538</td>\n",
       "    </tr>\n",
       "    <tr>\n",
       "      <th>TAMPINES</th>\n",
       "      <td>449</td>\n",
       "    </tr>\n",
       "  </tbody>\n",
       "</table>\n",
       "</div>"
      ],
      "text/plain": [
       "             salesperson_reg_no\n",
       "town_txt                       \n",
       "WOODLANDS                   936\n",
       "SENGKANG                    549\n",
       "JURONG WEST                 539\n",
       "PUNGGOL                     538\n",
       "TAMPINES                    449"
      ]
     },
     "execution_count": 49,
     "metadata": {},
     "output_type": "execute_result"
    }
   ],
   "source": [
    "SembYish_2018"
   ]
  },
  {
   "cell_type": "code",
   "execution_count": 50,
   "metadata": {},
   "outputs": [
    {
     "data": {
      "text/html": [
       "<div>\n",
       "<style scoped>\n",
       "    .dataframe tbody tr th:only-of-type {\n",
       "        vertical-align: middle;\n",
       "    }\n",
       "\n",
       "    .dataframe tbody tr th {\n",
       "        vertical-align: top;\n",
       "    }\n",
       "\n",
       "    .dataframe thead th {\n",
       "        text-align: right;\n",
       "    }\n",
       "</style>\n",
       "<table border=\"1\" class=\"dataframe\">\n",
       "  <thead>\n",
       "    <tr style=\"text-align: right;\">\n",
       "      <th></th>\n",
       "      <th>salesperson_reg_no</th>\n",
       "    </tr>\n",
       "    <tr>\n",
       "      <th>town_txt</th>\n",
       "      <th></th>\n",
       "    </tr>\n",
       "  </thead>\n",
       "  <tbody>\n",
       "    <tr>\n",
       "      <th>WOODLANDS</th>\n",
       "      <td>996</td>\n",
       "    </tr>\n",
       "    <tr>\n",
       "      <th>SENGKANG</th>\n",
       "      <td>682</td>\n",
       "    </tr>\n",
       "    <tr>\n",
       "      <th>JURONG WEST</th>\n",
       "      <td>531</td>\n",
       "    </tr>\n",
       "    <tr>\n",
       "      <th>PUNGGOL</th>\n",
       "      <td>421</td>\n",
       "    </tr>\n",
       "    <tr>\n",
       "      <th>TAMPINES</th>\n",
       "      <td>416</td>\n",
       "    </tr>\n",
       "  </tbody>\n",
       "</table>\n",
       "</div>"
      ],
      "text/plain": [
       "             salesperson_reg_no\n",
       "town_txt                       \n",
       "WOODLANDS                   996\n",
       "SENGKANG                    682\n",
       "JURONG WEST                 531\n",
       "PUNGGOL                     421\n",
       "TAMPINES                    416"
      ]
     },
     "execution_count": 50,
     "metadata": {},
     "output_type": "execute_result"
    }
   ],
   "source": [
    "SembYish_2019"
   ]
  },
  {
   "cell_type": "code",
   "execution_count": 51,
   "metadata": {},
   "outputs": [
    {
     "data": {
      "text/html": [
       "<div>\n",
       "<style scoped>\n",
       "    .dataframe tbody tr th:only-of-type {\n",
       "        vertical-align: middle;\n",
       "    }\n",
       "\n",
       "    .dataframe tbody tr th {\n",
       "        vertical-align: top;\n",
       "    }\n",
       "\n",
       "    .dataframe thead th {\n",
       "        text-align: right;\n",
       "    }\n",
       "</style>\n",
       "<table border=\"1\" class=\"dataframe\">\n",
       "  <thead>\n",
       "    <tr style=\"text-align: right;\">\n",
       "      <th></th>\n",
       "      <th>salesperson_reg_no</th>\n",
       "    </tr>\n",
       "    <tr>\n",
       "      <th>town_txt</th>\n",
       "      <th></th>\n",
       "    </tr>\n",
       "  </thead>\n",
       "  <tbody>\n",
       "    <tr>\n",
       "      <th>WOODLANDS</th>\n",
       "      <td>101</td>\n",
       "    </tr>\n",
       "    <tr>\n",
       "      <th>SENGKANG</th>\n",
       "      <td>50</td>\n",
       "    </tr>\n",
       "    <tr>\n",
       "      <th>TAMPINES</th>\n",
       "      <td>43</td>\n",
       "    </tr>\n",
       "    <tr>\n",
       "      <th>PUNGGOL</th>\n",
       "      <td>42</td>\n",
       "    </tr>\n",
       "    <tr>\n",
       "      <th>PASIR RIS</th>\n",
       "      <td>37</td>\n",
       "    </tr>\n",
       "  </tbody>\n",
       "</table>\n",
       "</div>"
      ],
      "text/plain": [
       "           salesperson_reg_no\n",
       "town_txt                     \n",
       "WOODLANDS                 101\n",
       "SENGKANG                   50\n",
       "TAMPINES                   43\n",
       "PUNGGOL                    42\n",
       "PASIR RIS                  37"
      ]
     },
     "execution_count": 51,
     "metadata": {},
     "output_type": "execute_result"
    }
   ],
   "source": [
    "SembYish_2020"
   ]
  },
  {
   "cell_type": "markdown",
   "metadata": {},
   "source": [
    "Hence, from the above results, we can tell that for every year (2017 - 2020 thus far), an agent that has closed sales in Sembawang and Yishun will most likely close sales in Woodlands as well, given the geographical proximity."
   ]
  },
  {
   "cell_type": "markdown",
   "metadata": {},
   "source": [
    "**Author's note:** *due to time constrants, I didn't have time to read up and learn about association rules... (didn't learn this in my course) but will definitely spend some time learning about this after this assignment! Apologies for this less-than-mathematical way of obtaining the results.*"
   ]
  },
  {
   "cell_type": "markdown",
   "metadata": {},
   "source": [
    "### Q3: Classification\n",
    "\n",
    "Download the Wireless@SG hotspots file from https://data.gov.sg/dataset/wireless-hotspots (in either KML or geoJSON format), and extract the data associated with it. You should obtain a table with over 1600 rows and a number of columns, where each row corresponding to a different WiFi hotspot in Singapore.\n",
    "\n",
    "**Task 1:** From the table, what are some of the information you can deduce for each hotspot?\n",
    "\n",
    "**Task 2:** Due to a system error, the location type column for the last 200 rows of the dataset has become garbled. Using all earlier rows as well as all other columns in the dataset, build a classification model to predict the location type for these hotspots. You may treat the three rarest location types as one category.\n",
    "*(Note: you may wish to create some additional features based on available ones.)*\n",
    "\n",
    "**Task 3:** The information has now been recovered from a backup copy of the file. Compared to the true location types, how good was your model? Be prepared to explain the metrics you use to evaluate your model."
   ]
  },
  {
   "cell_type": "code",
   "execution_count": 52,
   "metadata": {},
   "outputs": [
    {
     "name": "stdout",
     "output_type": "stream",
     "text": [
      "Point\n",
      "[103.799444839017, 1.28812220870103, 0.0]\n",
      "Point\n",
      "[103.799444839017, 1.28812220870103, 0.0]\n",
      "Point\n",
      "[103.948070640465, 1.34071948820072, 0.0]\n",
      "Point\n",
      "[103.948070640465, 1.34071948820072, 0.0]\n",
      "Point\n",
      "[103.948070640465, 1.34071948820072, 0.0]\n"
     ]
    }
   ],
   "source": [
    "import json\n",
    "\n",
    "with open('../Datasets/wireless-hotspots/wireless-hotspots-geojson.geojson') as f:\n",
    "    data = json.load(f)\n",
    "\n",
    "for feature in data['features'][:5]:\n",
    "    print(feature['geometry']['type'])\n",
    "    print(feature['geometry']['coordinates'])"
   ]
  },
  {
   "cell_type": "code",
   "execution_count": 53,
   "metadata": {},
   "outputs": [
    {
     "name": "stdout",
     "output_type": "stream",
     "text": [
      "dict_keys(['type', 'properties', 'geometry'])\n",
      "\n",
      "\n",
      "Displaying values for key = 'type:'\n",
      "Feature\n",
      "\n",
      "\n",
      "Displaying values for key = 'properties':\n",
      "{'Name': 'kml_1', 'Description': '<center><table><tr><th colspan=\\'2\\' align=\\'center\\'><em>Attributes</em></th></tr><tr bgcolor=\"#E3E3F3\"> <th>Y</th> <td>30059.55365961</td> </tr><tr bgcolor=\"\"> <th>X</th> <td>24230.13882604</td> </tr><tr bgcolor=\"#E3E3F3\"> <th>LOCATION_NAME</th> <td>IHIS-NUHS AH Campus - Ward3</td> </tr><tr bgcolor=\"\"> <th>LOCATION_TYPE</th> <td>Healthcare</td> </tr><tr bgcolor=\"#E3E3F3\"> <th>POSTAL_CODE</th> <td>159964</td> </tr><tr bgcolor=\"\"> <th>STREET_ADDRESS</th> <td>378 Alexandra Road</td> </tr><tr bgcolor=\"#E3E3F3\"> <th>OPERATOR_NAME</th> <td>M1</td> </tr><tr bgcolor=\"\"> <th>INC_CRC</th> <td>7805E8A17671DB33</td> </tr><tr bgcolor=\"#E3E3F3\"> <th>FMEL_UPD_D</th> <td>20190527093724</td> </tr></table></center>'}\n",
      "\n",
      "\n",
      "<class 'dict'>\n",
      "\n",
      "\n",
      "dict_keys(['Name', 'Description'])\n",
      "\n",
      "\n",
      "Displaying values for key = 'Description':\n",
      "<center><table><tr><th colspan='2' align='center'><em>Attributes</em></th></tr><tr bgcolor=\"#E3E3F3\"> <th>Y</th> <td>30059.55365961</td> </tr><tr bgcolor=\"\"> <th>X</th> <td>24230.13882604</td> </tr><tr bgcolor=\"#E3E3F3\"> <th>LOCATION_NAME</th> <td>IHIS-NUHS AH Campus - Ward3</td> </tr><tr bgcolor=\"\"> <th>LOCATION_TYPE</th> <td>Healthcare</td> </tr><tr bgcolor=\"#E3E3F3\"> <th>POSTAL_CODE</th> <td>159964</td> </tr><tr bgcolor=\"\"> <th>STREET_ADDRESS</th> <td>378 Alexandra Road</td> </tr><tr bgcolor=\"#E3E3F3\"> <th>OPERATOR_NAME</th> <td>M1</td> </tr><tr bgcolor=\"\"> <th>INC_CRC</th> <td>7805E8A17671DB33</td> </tr><tr bgcolor=\"#E3E3F3\"> <th>FMEL_UPD_D</th> <td>20190527093724</td> </tr></table></center>\n",
      "\n",
      "\n",
      "<class 'str'>\n",
      "\n",
      "\n",
      "Displaying values for key = 'Name':\n",
      "kml_1\n",
      "dict_keys(['type', 'properties', 'geometry'])\n",
      "\n",
      "\n",
      "Displaying values for key = 'type:'\n",
      "Feature\n",
      "\n",
      "\n",
      "Displaying values for key = 'properties':\n",
      "{'Name': 'kml_2', 'Description': '<center><table><tr><th colspan=\\'2\\' align=\\'center\\'><em>Attributes</em></th></tr><tr bgcolor=\"#E3E3F3\"> <th>Y</th> <td>30059.55365961</td> </tr><tr bgcolor=\"\"> <th>X</th> <td>24230.13882604</td> </tr><tr bgcolor=\"#E3E3F3\"> <th>LOCATION_NAME</th> <td>IHIS-NUHS AH Campus - default location</td> </tr><tr bgcolor=\"\"> <th>LOCATION_TYPE</th> <td>Healthcare</td> </tr><tr bgcolor=\"#E3E3F3\"> <th>POSTAL_CODE</th> <td>159964</td> </tr><tr bgcolor=\"\"> <th>STREET_ADDRESS</th> <td>378 Alexandra Road</td> </tr><tr bgcolor=\"#E3E3F3\"> <th>OPERATOR_NAME</th> <td>M1</td> </tr><tr bgcolor=\"\"> <th>INC_CRC</th> <td>7805E8A121F15375</td> </tr><tr bgcolor=\"#E3E3F3\"> <th>FMEL_UPD_D</th> <td>20190527093724</td> </tr></table></center>'}\n",
      "\n",
      "\n",
      "<class 'dict'>\n",
      "\n",
      "\n",
      "dict_keys(['Name', 'Description'])\n",
      "\n",
      "\n",
      "Displaying values for key = 'Description':\n",
      "<center><table><tr><th colspan='2' align='center'><em>Attributes</em></th></tr><tr bgcolor=\"#E3E3F3\"> <th>Y</th> <td>30059.55365961</td> </tr><tr bgcolor=\"\"> <th>X</th> <td>24230.13882604</td> </tr><tr bgcolor=\"#E3E3F3\"> <th>LOCATION_NAME</th> <td>IHIS-NUHS AH Campus - default location</td> </tr><tr bgcolor=\"\"> <th>LOCATION_TYPE</th> <td>Healthcare</td> </tr><tr bgcolor=\"#E3E3F3\"> <th>POSTAL_CODE</th> <td>159964</td> </tr><tr bgcolor=\"\"> <th>STREET_ADDRESS</th> <td>378 Alexandra Road</td> </tr><tr bgcolor=\"#E3E3F3\"> <th>OPERATOR_NAME</th> <td>M1</td> </tr><tr bgcolor=\"\"> <th>INC_CRC</th> <td>7805E8A121F15375</td> </tr><tr bgcolor=\"#E3E3F3\"> <th>FMEL_UPD_D</th> <td>20190527093724</td> </tr></table></center>\n",
      "\n",
      "\n",
      "<class 'str'>\n",
      "\n",
      "\n",
      "Displaying values for key = 'Name':\n",
      "kml_2\n",
      "dict_keys(['type', 'properties', 'geometry'])\n",
      "\n",
      "\n",
      "Displaying values for key = 'type:'\n",
      "Feature\n",
      "\n",
      "\n",
      "Displaying values for key = 'properties':\n",
      "{'Name': 'kml_3', 'Description': '<center><table><tr><th colspan=\\'2\\' align=\\'center\\'><em>Attributes</em></th></tr><tr bgcolor=\"#E3E3F3\"> <th>Y</th> <td>35875.76459983</td> </tr><tr bgcolor=\"\"> <th>X</th> <td>40770.67589728</td> </tr><tr bgcolor=\"#E3E3F3\"> <th>LOCATION_NAME</th> <td>IHIS-Singhealth CGH Campus - IB - L1</td> </tr><tr bgcolor=\"\"> <th>LOCATION_TYPE</th> <td>Healthcare</td> </tr><tr bgcolor=\"#E3E3F3\"> <th>POSTAL_CODE</th> <td>529898</td> </tr><tr bgcolor=\"\"> <th>STREET_ADDRESS</th> <td>6 Simei Street 3</td> </tr><tr bgcolor=\"#E3E3F3\"> <th>OPERATOR_NAME</th> <td>M1</td> </tr><tr bgcolor=\"\"> <th>INC_CRC</th> <td>2EB30FB75368A5BC</td> </tr><tr bgcolor=\"#E3E3F3\"> <th>FMEL_UPD_D</th> <td>20190527093724</td> </tr></table></center>'}\n",
      "\n",
      "\n",
      "<class 'dict'>\n",
      "\n",
      "\n",
      "dict_keys(['Name', 'Description'])\n",
      "\n",
      "\n",
      "Displaying values for key = 'Description':\n",
      "<center><table><tr><th colspan='2' align='center'><em>Attributes</em></th></tr><tr bgcolor=\"#E3E3F3\"> <th>Y</th> <td>35875.76459983</td> </tr><tr bgcolor=\"\"> <th>X</th> <td>40770.67589728</td> </tr><tr bgcolor=\"#E3E3F3\"> <th>LOCATION_NAME</th> <td>IHIS-Singhealth CGH Campus - IB - L1</td> </tr><tr bgcolor=\"\"> <th>LOCATION_TYPE</th> <td>Healthcare</td> </tr><tr bgcolor=\"#E3E3F3\"> <th>POSTAL_CODE</th> <td>529898</td> </tr><tr bgcolor=\"\"> <th>STREET_ADDRESS</th> <td>6 Simei Street 3</td> </tr><tr bgcolor=\"#E3E3F3\"> <th>OPERATOR_NAME</th> <td>M1</td> </tr><tr bgcolor=\"\"> <th>INC_CRC</th> <td>2EB30FB75368A5BC</td> </tr><tr bgcolor=\"#E3E3F3\"> <th>FMEL_UPD_D</th> <td>20190527093724</td> </tr></table></center>\n",
      "\n",
      "\n",
      "<class 'str'>\n",
      "\n",
      "\n",
      "Displaying values for key = 'Name':\n",
      "kml_3\n"
     ]
    }
   ],
   "source": [
    "for feature in data['features'][:3]:\n",
    "    print(feature.keys())\n",
    "    print('\\n')\n",
    "    print(\"Displaying values for key = 'type:'\")\n",
    "    print(feature['type'])\n",
    "    print('\\n')\n",
    "    print(\"Displaying values for key = 'properties':\")\n",
    "    print(feature['properties'])\n",
    "    print('\\n')\n",
    "    print(type(feature['properties']))\n",
    "    print('\\n')\n",
    "    print(feature['properties'].keys())\n",
    "    print('\\n')\n",
    "    print(\"Displaying values for key = 'Description':\")\n",
    "    print(feature['properties']['Description'])\n",
    "    print('\\n')\n",
    "    print(type(feature['properties']['Description']))\n",
    "    print('\\n')\n",
    "    print(\"Displaying values for key = 'Name':\")\n",
    "    print(feature['properties']['Name'])"
   ]
  },
  {
   "cell_type": "markdown",
   "metadata": {},
   "source": [
    "From the above exploration of the JSON file, I can gather that the important keys are:\n",
    "- data['geometry']['coordinates']\n",
    "- data['properties']['Description']\n",
    "\n",
    "Gather these data and create a DataFrame to store all of them."
   ]
  },
  {
   "cell_type": "code",
   "execution_count": 54,
   "metadata": {},
   "outputs": [],
   "source": [
    "coord_list = []\n",
    "\n",
    "for feature in data['features']:\n",
    "    coord_list.append(feature['geometry']['coordinates'])\n",
    "    \n",
    "describe_list = []\n",
    "\n",
    "for feature in data['features']:\n",
    "    describe_list.append(feature['properties']['Description'])"
   ]
  },
  {
   "cell_type": "code",
   "execution_count": 55,
   "metadata": {},
   "outputs": [
    {
     "name": "stdout",
     "output_type": "stream",
     "text": [
      "(1641, 2)\n"
     ]
    },
    {
     "data": {
      "text/html": [
       "<div>\n",
       "<style scoped>\n",
       "    .dataframe tbody tr th:only-of-type {\n",
       "        vertical-align: middle;\n",
       "    }\n",
       "\n",
       "    .dataframe tbody tr th {\n",
       "        vertical-align: top;\n",
       "    }\n",
       "\n",
       "    .dataframe thead th {\n",
       "        text-align: right;\n",
       "    }\n",
       "</style>\n",
       "<table border=\"1\" class=\"dataframe\">\n",
       "  <thead>\n",
       "    <tr style=\"text-align: right;\">\n",
       "      <th></th>\n",
       "      <th>description</th>\n",
       "      <th>coords</th>\n",
       "    </tr>\n",
       "  </thead>\n",
       "  <tbody>\n",
       "    <tr>\n",
       "      <th>0</th>\n",
       "      <td>&lt;center&gt;&lt;table&gt;&lt;tr&gt;&lt;th colspan='2' align='cent...</td>\n",
       "      <td>[103.799444839017, 1.28812220870103, 0.0]</td>\n",
       "    </tr>\n",
       "    <tr>\n",
       "      <th>1</th>\n",
       "      <td>&lt;center&gt;&lt;table&gt;&lt;tr&gt;&lt;th colspan='2' align='cent...</td>\n",
       "      <td>[103.799444839017, 1.28812220870103, 0.0]</td>\n",
       "    </tr>\n",
       "    <tr>\n",
       "      <th>2</th>\n",
       "      <td>&lt;center&gt;&lt;table&gt;&lt;tr&gt;&lt;th colspan='2' align='cent...</td>\n",
       "      <td>[103.948070640465, 1.34071948820072, 0.0]</td>\n",
       "    </tr>\n",
       "    <tr>\n",
       "      <th>3</th>\n",
       "      <td>&lt;center&gt;&lt;table&gt;&lt;tr&gt;&lt;th colspan='2' align='cent...</td>\n",
       "      <td>[103.948070640465, 1.34071948820072, 0.0]</td>\n",
       "    </tr>\n",
       "    <tr>\n",
       "      <th>4</th>\n",
       "      <td>&lt;center&gt;&lt;table&gt;&lt;tr&gt;&lt;th colspan='2' align='cent...</td>\n",
       "      <td>[103.948070640465, 1.34071948820072, 0.0]</td>\n",
       "    </tr>\n",
       "  </tbody>\n",
       "</table>\n",
       "</div>"
      ],
      "text/plain": [
       "                                         description  \\\n",
       "0  <center><table><tr><th colspan='2' align='cent...   \n",
       "1  <center><table><tr><th colspan='2' align='cent...   \n",
       "2  <center><table><tr><th colspan='2' align='cent...   \n",
       "3  <center><table><tr><th colspan='2' align='cent...   \n",
       "4  <center><table><tr><th colspan='2' align='cent...   \n",
       "\n",
       "                                      coords  \n",
       "0  [103.799444839017, 1.28812220870103, 0.0]  \n",
       "1  [103.799444839017, 1.28812220870103, 0.0]  \n",
       "2  [103.948070640465, 1.34071948820072, 0.0]  \n",
       "3  [103.948070640465, 1.34071948820072, 0.0]  \n",
       "4  [103.948070640465, 1.34071948820072, 0.0]  "
      ]
     },
     "execution_count": 55,
     "metadata": {},
     "output_type": "execute_result"
    }
   ],
   "source": [
    "wifi = pd.DataFrame()\n",
    "wifi['description'] = describe_list\n",
    "wifi['coords'] = coord_list\n",
    "print(wifi.shape)\n",
    "wifi.head()"
   ]
  },
  {
   "cell_type": "code",
   "execution_count": 56,
   "metadata": {},
   "outputs": [
    {
     "data": {
      "text/plain": [
       "'<center><table><tr><th colspan=\\'2\\' align=\\'center\\'><em>Attributes</em></th></tr><tr bgcolor=\"#E3E3F3\"> <th>Y</th> <td>30059.55365961</td> </tr><tr bgcolor=\"\"> <th>X</th> <td>24230.13882604</td> </tr><tr bgcolor=\"#E3E3F3\"> <th>LOCATION_NAME</th> <td>IHIS-NUHS AH Campus - Ward3</td> </tr><tr bgcolor=\"\"> <th>LOCATION_TYPE</th> <td>Healthcare</td> </tr><tr bgcolor=\"#E3E3F3\"> <th>POSTAL_CODE</th> <td>159964</td> </tr><tr bgcolor=\"\"> <th>STREET_ADDRESS</th> <td>378 Alexandra Road</td> </tr><tr bgcolor=\"#E3E3F3\"> <th>OPERATOR_NAME</th> <td>M1</td> </tr><tr bgcolor=\"\"> <th>INC_CRC</th> <td>7805E8A17671DB33</td> </tr><tr bgcolor=\"#E3E3F3\"> <th>FMEL_UPD_D</th> <td>20190527093724</td> </tr></table></center>'"
      ]
     },
     "execution_count": 56,
     "metadata": {},
     "output_type": "execute_result"
    }
   ],
   "source": [
    "wifi.description[0]"
   ]
  },
  {
   "cell_type": "code",
   "execution_count": 57,
   "metadata": {},
   "outputs": [],
   "source": [
    "# use BeautifulSoup to parse relevant information from html text\n",
    "\n",
    "from bs4 import BeautifulSoup as BS"
   ]
  },
  {
   "cell_type": "code",
   "execution_count": 58,
   "metadata": {},
   "outputs": [],
   "source": [
    "# try out on one row first:\n",
    "\n",
    "soup = BS(wifi.description[0], 'html.parser')"
   ]
  },
  {
   "cell_type": "code",
   "execution_count": 59,
   "metadata": {},
   "outputs": [
    {
     "name": "stdout",
     "output_type": "stream",
     "text": [
      "<center>\n",
      " <table>\n",
      "  <tr>\n",
      "   <th align=\"center\" colspan=\"2\">\n",
      "    <em>\n",
      "     Attributes\n",
      "    </em>\n",
      "   </th>\n",
      "  </tr>\n",
      "  <tr bgcolor=\"#E3E3F3\">\n",
      "   <th>\n",
      "    Y\n",
      "   </th>\n",
      "   <td>\n",
      "    30059.55365961\n",
      "   </td>\n",
      "  </tr>\n",
      "  <tr bgcolor=\"\">\n",
      "   <th>\n",
      "    X\n",
      "   </th>\n",
      "   <td>\n",
      "    24230.13882604\n",
      "   </td>\n",
      "  </tr>\n",
      "  <tr bgcolor=\"#E3E3F3\">\n",
      "   <th>\n",
      "    LOCATION_NAME\n",
      "   </th>\n",
      "   <td>\n",
      "    IHIS-NUHS AH Campus - Ward3\n",
      "   </td>\n",
      "  </tr>\n",
      "  <tr bgcolor=\"\">\n",
      "   <th>\n",
      "    LOCATION_TYPE\n",
      "   </th>\n",
      "   <td>\n",
      "    Healthcare\n",
      "   </td>\n",
      "  </tr>\n",
      "  <tr bgcolor=\"#E3E3F3\">\n",
      "   <th>\n",
      "    POSTAL_CODE\n",
      "   </th>\n",
      "   <td>\n",
      "    159964\n",
      "   </td>\n",
      "  </tr>\n",
      "  <tr bgcolor=\"\">\n",
      "   <th>\n",
      "    STREET_ADDRESS\n",
      "   </th>\n",
      "   <td>\n",
      "    378 Alexandra Road\n",
      "   </td>\n",
      "  </tr>\n",
      "  <tr bgcolor=\"#E3E3F3\">\n",
      "   <th>\n",
      "    OPERATOR_NAME\n",
      "   </th>\n",
      "   <td>\n",
      "    M1\n",
      "   </td>\n",
      "  </tr>\n",
      "  <tr bgcolor=\"\">\n",
      "   <th>\n",
      "    INC_CRC\n",
      "   </th>\n",
      "   <td>\n",
      "    7805E8A17671DB33\n",
      "   </td>\n",
      "  </tr>\n",
      "  <tr bgcolor=\"#E3E3F3\">\n",
      "   <th>\n",
      "    FMEL_UPD_D\n",
      "   </th>\n",
      "   <td>\n",
      "    20190527093724\n",
      "   </td>\n",
      "  </tr>\n",
      " </table>\n",
      "</center>\n"
     ]
    }
   ],
   "source": [
    "print(soup.prettify())"
   ]
  },
  {
   "cell_type": "code",
   "execution_count": 60,
   "metadata": {},
   "outputs": [],
   "source": [
    "td_tags = soup.find_all('td')"
   ]
  },
  {
   "cell_type": "code",
   "execution_count": 61,
   "metadata": {},
   "outputs": [
    {
     "name": "stdout",
     "output_type": "stream",
     "text": [
      "9\n"
     ]
    },
    {
     "data": {
      "text/plain": [
       "['30059.55365961',\n",
       " '24230.13882604',\n",
       " 'IHIS-NUHS AH Campus - Ward3',\n",
       " 'Healthcare',\n",
       " '159964',\n",
       " '378 Alexandra Road',\n",
       " 'M1',\n",
       " '7805E8A17671DB33',\n",
       " '20190527093724']"
      ]
     },
     "execution_count": 61,
     "metadata": {},
     "output_type": "execute_result"
    }
   ],
   "source": [
    "# these are all the relevant values:\n",
    "\n",
    "print(len([tag.text for tag in td_tags]))\n",
    "[tag.text for tag in td_tags]"
   ]
  },
  {
   "cell_type": "code",
   "execution_count": 62,
   "metadata": {},
   "outputs": [
    {
     "name": "stdout",
     "output_type": "stream",
     "text": [
      "10\n"
     ]
    },
    {
     "data": {
      "text/plain": [
       "['Attributes',\n",
       " 'Y',\n",
       " 'X',\n",
       " 'LOCATION_NAME',\n",
       " 'LOCATION_TYPE',\n",
       " 'POSTAL_CODE',\n",
       " 'STREET_ADDRESS',\n",
       " 'OPERATOR_NAME',\n",
       " 'INC_CRC',\n",
       " 'FMEL_UPD_D']"
      ]
     },
     "execution_count": 62,
     "metadata": {},
     "output_type": "execute_result"
    }
   ],
   "source": [
    "# these are all the relevant feature names (with the exception of 'Attributes', which is the title of the document)\n",
    "\n",
    "th_tags = soup.find_all('th')\n",
    "print(len([tag.text for tag in th_tags]))\n",
    "[tag.text for tag in th_tags]"
   ]
  },
  {
   "cell_type": "code",
   "execution_count": 63,
   "metadata": {},
   "outputs": [],
   "source": [
    "# now scrape all the feature values from every row in 'description' column:\n",
    "\n",
    "all_attributes = []\n",
    "\n",
    "for i in range(len(wifi.description)):\n",
    "    soup = BS(wifi.description[i], 'html.parser')\n",
    "    td_tags = soup.find_all('td')\n",
    "    all_attributes.append([tag.text for tag in td_tags])"
   ]
  },
  {
   "cell_type": "code",
   "execution_count": 64,
   "metadata": {},
   "outputs": [
    {
     "name": "stdout",
     "output_type": "stream",
     "text": [
      "1641\n"
     ]
    },
    {
     "data": {
      "text/plain": [
       "[['30059.55365961',\n",
       "  '24230.13882604',\n",
       "  'IHIS-NUHS AH Campus - Ward3',\n",
       "  'Healthcare',\n",
       "  '159964',\n",
       "  '378 Alexandra Road',\n",
       "  'M1',\n",
       "  '7805E8A17671DB33',\n",
       "  '20190527093724'],\n",
       " ['30059.55365961',\n",
       "  '24230.13882604',\n",
       "  'IHIS-NUHS AH Campus - default location',\n",
       "  'Healthcare',\n",
       "  '159964',\n",
       "  '378 Alexandra Road',\n",
       "  'M1',\n",
       "  '7805E8A121F15375',\n",
       "  '20190527093724'],\n",
       " ['35875.76459983',\n",
       "  '40770.67589728',\n",
       "  'IHIS-Singhealth CGH Campus - IB - L1',\n",
       "  'Healthcare',\n",
       "  '529898',\n",
       "  '6 Simei Street 3',\n",
       "  'M1',\n",
       "  '2EB30FB75368A5BC',\n",
       "  '20190527093724'],\n",
       " ['35875.76459983',\n",
       "  '40770.67589728',\n",
       "  'IHIS-Singhealth CGH Campus - IB - L2',\n",
       "  'Healthcare',\n",
       "  '529898',\n",
       "  '6 Simei Street 3',\n",
       "  'M1',\n",
       "  '2EB30FB71FDB8F15',\n",
       "  '20190527093724'],\n",
       " ['35875.76459983',\n",
       "  '40770.67589728',\n",
       "  'IHIS-Singhealth CGH Campus - IB - L3',\n",
       "  'Healthcare',\n",
       "  '529898',\n",
       "  '6 Simei Street 3',\n",
       "  'M1',\n",
       "  '2EB30FB7929A6B4D',\n",
       "  '20190527093724']]"
      ]
     },
     "execution_count": 64,
     "metadata": {},
     "output_type": "execute_result"
    }
   ],
   "source": [
    "print(len(all_attributes))\n",
    "all_attributes[:5]"
   ]
  },
  {
   "cell_type": "code",
   "execution_count": 65,
   "metadata": {},
   "outputs": [
    {
     "data": {
      "text/plain": [
       "['Y',\n",
       " 'X',\n",
       " 'LOCATION_NAME',\n",
       " 'LOCATION_TYPE',\n",
       " 'POSTAL_CODE',\n",
       " 'STREET_ADDRESS',\n",
       " 'OPERATOR_NAME',\n",
       " 'INC_CRC',\n",
       " 'FMEL_UPD_D']"
      ]
     },
     "execution_count": 65,
     "metadata": {},
     "output_type": "execute_result"
    }
   ],
   "source": [
    "column_names = [tag.text for tag in th_tags]\n",
    "column_names.pop(0) # drop 'Attributes', the first item in the list\n",
    "column_names"
   ]
  },
  {
   "cell_type": "code",
   "execution_count": 66,
   "metadata": {},
   "outputs": [
    {
     "name": "stdout",
     "output_type": "stream",
     "text": [
      "(1641, 9)\n"
     ]
    },
    {
     "data": {
      "text/html": [
       "<div>\n",
       "<style scoped>\n",
       "    .dataframe tbody tr th:only-of-type {\n",
       "        vertical-align: middle;\n",
       "    }\n",
       "\n",
       "    .dataframe tbody tr th {\n",
       "        vertical-align: top;\n",
       "    }\n",
       "\n",
       "    .dataframe thead th {\n",
       "        text-align: right;\n",
       "    }\n",
       "</style>\n",
       "<table border=\"1\" class=\"dataframe\">\n",
       "  <thead>\n",
       "    <tr style=\"text-align: right;\">\n",
       "      <th></th>\n",
       "      <th>Y</th>\n",
       "      <th>X</th>\n",
       "      <th>LOCATION_NAME</th>\n",
       "      <th>LOCATION_TYPE</th>\n",
       "      <th>POSTAL_CODE</th>\n",
       "      <th>STREET_ADDRESS</th>\n",
       "      <th>OPERATOR_NAME</th>\n",
       "      <th>INC_CRC</th>\n",
       "      <th>FMEL_UPD_D</th>\n",
       "    </tr>\n",
       "  </thead>\n",
       "  <tbody>\n",
       "    <tr>\n",
       "      <th>0</th>\n",
       "      <td>30059.55365961</td>\n",
       "      <td>24230.13882604</td>\n",
       "      <td>IHIS-NUHS AH Campus - Ward3</td>\n",
       "      <td>Healthcare</td>\n",
       "      <td>159964</td>\n",
       "      <td>378 Alexandra Road</td>\n",
       "      <td>M1</td>\n",
       "      <td>7805E8A17671DB33</td>\n",
       "      <td>20190527093724</td>\n",
       "    </tr>\n",
       "    <tr>\n",
       "      <th>1</th>\n",
       "      <td>30059.55365961</td>\n",
       "      <td>24230.13882604</td>\n",
       "      <td>IHIS-NUHS AH Campus - default location</td>\n",
       "      <td>Healthcare</td>\n",
       "      <td>159964</td>\n",
       "      <td>378 Alexandra Road</td>\n",
       "      <td>M1</td>\n",
       "      <td>7805E8A121F15375</td>\n",
       "      <td>20190527093724</td>\n",
       "    </tr>\n",
       "    <tr>\n",
       "      <th>2</th>\n",
       "      <td>35875.76459983</td>\n",
       "      <td>40770.67589728</td>\n",
       "      <td>IHIS-Singhealth CGH Campus - IB - L1</td>\n",
       "      <td>Healthcare</td>\n",
       "      <td>529898</td>\n",
       "      <td>6 Simei Street 3</td>\n",
       "      <td>M1</td>\n",
       "      <td>2EB30FB75368A5BC</td>\n",
       "      <td>20190527093724</td>\n",
       "    </tr>\n",
       "    <tr>\n",
       "      <th>3</th>\n",
       "      <td>35875.76459983</td>\n",
       "      <td>40770.67589728</td>\n",
       "      <td>IHIS-Singhealth CGH Campus - IB - L2</td>\n",
       "      <td>Healthcare</td>\n",
       "      <td>529898</td>\n",
       "      <td>6 Simei Street 3</td>\n",
       "      <td>M1</td>\n",
       "      <td>2EB30FB71FDB8F15</td>\n",
       "      <td>20190527093724</td>\n",
       "    </tr>\n",
       "    <tr>\n",
       "      <th>4</th>\n",
       "      <td>35875.76459983</td>\n",
       "      <td>40770.67589728</td>\n",
       "      <td>IHIS-Singhealth CGH Campus - IB - L3</td>\n",
       "      <td>Healthcare</td>\n",
       "      <td>529898</td>\n",
       "      <td>6 Simei Street 3</td>\n",
       "      <td>M1</td>\n",
       "      <td>2EB30FB7929A6B4D</td>\n",
       "      <td>20190527093724</td>\n",
       "    </tr>\n",
       "  </tbody>\n",
       "</table>\n",
       "</div>"
      ],
      "text/plain": [
       "                Y               X                           LOCATION_NAME  \\\n",
       "0  30059.55365961  24230.13882604             IHIS-NUHS AH Campus - Ward3   \n",
       "1  30059.55365961  24230.13882604  IHIS-NUHS AH Campus - default location   \n",
       "2  35875.76459983  40770.67589728    IHIS-Singhealth CGH Campus - IB - L1   \n",
       "3  35875.76459983  40770.67589728    IHIS-Singhealth CGH Campus - IB - L2   \n",
       "4  35875.76459983  40770.67589728    IHIS-Singhealth CGH Campus - IB - L3   \n",
       "\n",
       "  LOCATION_TYPE POSTAL_CODE      STREET_ADDRESS OPERATOR_NAME  \\\n",
       "0    Healthcare      159964  378 Alexandra Road            M1   \n",
       "1    Healthcare      159964  378 Alexandra Road            M1   \n",
       "2    Healthcare      529898    6 Simei Street 3            M1   \n",
       "3    Healthcare      529898    6 Simei Street 3            M1   \n",
       "4    Healthcare      529898    6 Simei Street 3            M1   \n",
       "\n",
       "            INC_CRC      FMEL_UPD_D  \n",
       "0  7805E8A17671DB33  20190527093724  \n",
       "1  7805E8A121F15375  20190527093724  \n",
       "2  2EB30FB75368A5BC  20190527093724  \n",
       "3  2EB30FB71FDB8F15  20190527093724  \n",
       "4  2EB30FB7929A6B4D  20190527093724  "
      ]
     },
     "execution_count": 66,
     "metadata": {},
     "output_type": "execute_result"
    }
   ],
   "source": [
    "# create DataFrame to store all scraped 'description' feature values:\n",
    "\n",
    "wifi_descript = pd.DataFrame(all_attributes, columns = column_names)\n",
    "print(wifi_descript.shape)\n",
    "wifi_descript.head()"
   ]
  },
  {
   "cell_type": "code",
   "execution_count": 67,
   "metadata": {},
   "outputs": [
    {
     "data": {
      "text/html": [
       "<div>\n",
       "<style scoped>\n",
       "    .dataframe tbody tr th:only-of-type {\n",
       "        vertical-align: middle;\n",
       "    }\n",
       "\n",
       "    .dataframe tbody tr th {\n",
       "        vertical-align: top;\n",
       "    }\n",
       "\n",
       "    .dataframe thead th {\n",
       "        text-align: right;\n",
       "    }\n",
       "</style>\n",
       "<table border=\"1\" class=\"dataframe\">\n",
       "  <thead>\n",
       "    <tr style=\"text-align: right;\">\n",
       "      <th></th>\n",
       "      <th>coords</th>\n",
       "    </tr>\n",
       "  </thead>\n",
       "  <tbody>\n",
       "    <tr>\n",
       "      <th>0</th>\n",
       "      <td>[103.799444839017, 1.28812220870103, 0.0]</td>\n",
       "    </tr>\n",
       "    <tr>\n",
       "      <th>1</th>\n",
       "      <td>[103.799444839017, 1.28812220870103, 0.0]</td>\n",
       "    </tr>\n",
       "    <tr>\n",
       "      <th>2</th>\n",
       "      <td>[103.948070640465, 1.34071948820072, 0.0]</td>\n",
       "    </tr>\n",
       "    <tr>\n",
       "      <th>3</th>\n",
       "      <td>[103.948070640465, 1.34071948820072, 0.0]</td>\n",
       "    </tr>\n",
       "    <tr>\n",
       "      <th>4</th>\n",
       "      <td>[103.948070640465, 1.34071948820072, 0.0]</td>\n",
       "    </tr>\n",
       "  </tbody>\n",
       "</table>\n",
       "</div>"
      ],
      "text/plain": [
       "                                      coords\n",
       "0  [103.799444839017, 1.28812220870103, 0.0]\n",
       "1  [103.799444839017, 1.28812220870103, 0.0]\n",
       "2  [103.948070640465, 1.34071948820072, 0.0]\n",
       "3  [103.948070640465, 1.34071948820072, 0.0]\n",
       "4  [103.948070640465, 1.34071948820072, 0.0]"
      ]
     },
     "execution_count": 67,
     "metadata": {},
     "output_type": "execute_result"
    }
   ],
   "source": [
    "# clean up wifi DataFrame\n",
    "\n",
    "wifi.drop(columns = ['description'], inplace=True)\n",
    "wifi.head()"
   ]
  },
  {
   "cell_type": "code",
   "execution_count": 68,
   "metadata": {},
   "outputs": [
    {
     "data": {
      "text/html": [
       "<div>\n",
       "<style scoped>\n",
       "    .dataframe tbody tr th:only-of-type {\n",
       "        vertical-align: middle;\n",
       "    }\n",
       "\n",
       "    .dataframe tbody tr th {\n",
       "        vertical-align: top;\n",
       "    }\n",
       "\n",
       "    .dataframe thead th {\n",
       "        text-align: right;\n",
       "    }\n",
       "</style>\n",
       "<table border=\"1\" class=\"dataframe\">\n",
       "  <thead>\n",
       "    <tr style=\"text-align: right;\">\n",
       "      <th></th>\n",
       "      <th>lat</th>\n",
       "      <th>long</th>\n",
       "      <th>misc</th>\n",
       "    </tr>\n",
       "  </thead>\n",
       "  <tbody>\n",
       "    <tr>\n",
       "      <th>0</th>\n",
       "      <td>103.799445</td>\n",
       "      <td>1.288122</td>\n",
       "      <td>0.0</td>\n",
       "    </tr>\n",
       "    <tr>\n",
       "      <th>1</th>\n",
       "      <td>103.799445</td>\n",
       "      <td>1.288122</td>\n",
       "      <td>0.0</td>\n",
       "    </tr>\n",
       "    <tr>\n",
       "      <th>2</th>\n",
       "      <td>103.948071</td>\n",
       "      <td>1.340719</td>\n",
       "      <td>0.0</td>\n",
       "    </tr>\n",
       "    <tr>\n",
       "      <th>3</th>\n",
       "      <td>103.948071</td>\n",
       "      <td>1.340719</td>\n",
       "      <td>0.0</td>\n",
       "    </tr>\n",
       "    <tr>\n",
       "      <th>4</th>\n",
       "      <td>103.948071</td>\n",
       "      <td>1.340719</td>\n",
       "      <td>0.0</td>\n",
       "    </tr>\n",
       "  </tbody>\n",
       "</table>\n",
       "</div>"
      ],
      "text/plain": [
       "          lat      long  misc\n",
       "0  103.799445  1.288122   0.0\n",
       "1  103.799445  1.288122   0.0\n",
       "2  103.948071  1.340719   0.0\n",
       "3  103.948071  1.340719   0.0\n",
       "4  103.948071  1.340719   0.0"
      ]
     },
     "execution_count": 68,
     "metadata": {},
     "output_type": "execute_result"
    }
   ],
   "source": [
    "# split the 'coords' feature into respective coordinate types\n",
    "\n",
    "wifi[['lat','long', 'misc']] = wifi['coords'].apply(pd.Series)\n",
    "wifi.drop(columns = ['coords'], inplace = True)\n",
    "wifi.head()"
   ]
  },
  {
   "cell_type": "code",
   "execution_count": 69,
   "metadata": {},
   "outputs": [
    {
     "name": "stdout",
     "output_type": "stream",
     "text": [
      "(1641, 12)\n"
     ]
    },
    {
     "data": {
      "text/html": [
       "<div>\n",
       "<style scoped>\n",
       "    .dataframe tbody tr th:only-of-type {\n",
       "        vertical-align: middle;\n",
       "    }\n",
       "\n",
       "    .dataframe tbody tr th {\n",
       "        vertical-align: top;\n",
       "    }\n",
       "\n",
       "    .dataframe thead th {\n",
       "        text-align: right;\n",
       "    }\n",
       "</style>\n",
       "<table border=\"1\" class=\"dataframe\">\n",
       "  <thead>\n",
       "    <tr style=\"text-align: right;\">\n",
       "      <th></th>\n",
       "      <th>lat</th>\n",
       "      <th>long</th>\n",
       "      <th>misc</th>\n",
       "      <th>Y</th>\n",
       "      <th>X</th>\n",
       "      <th>LOCATION_NAME</th>\n",
       "      <th>LOCATION_TYPE</th>\n",
       "      <th>POSTAL_CODE</th>\n",
       "      <th>STREET_ADDRESS</th>\n",
       "      <th>OPERATOR_NAME</th>\n",
       "      <th>INC_CRC</th>\n",
       "      <th>FMEL_UPD_D</th>\n",
       "    </tr>\n",
       "  </thead>\n",
       "  <tbody>\n",
       "    <tr>\n",
       "      <th>0</th>\n",
       "      <td>103.799445</td>\n",
       "      <td>1.288122</td>\n",
       "      <td>0.0</td>\n",
       "      <td>30059.55365961</td>\n",
       "      <td>24230.13882604</td>\n",
       "      <td>IHIS-NUHS AH Campus - Ward3</td>\n",
       "      <td>Healthcare</td>\n",
       "      <td>159964</td>\n",
       "      <td>378 Alexandra Road</td>\n",
       "      <td>M1</td>\n",
       "      <td>7805E8A17671DB33</td>\n",
       "      <td>20190527093724</td>\n",
       "    </tr>\n",
       "    <tr>\n",
       "      <th>1</th>\n",
       "      <td>103.799445</td>\n",
       "      <td>1.288122</td>\n",
       "      <td>0.0</td>\n",
       "      <td>30059.55365961</td>\n",
       "      <td>24230.13882604</td>\n",
       "      <td>IHIS-NUHS AH Campus - default location</td>\n",
       "      <td>Healthcare</td>\n",
       "      <td>159964</td>\n",
       "      <td>378 Alexandra Road</td>\n",
       "      <td>M1</td>\n",
       "      <td>7805E8A121F15375</td>\n",
       "      <td>20190527093724</td>\n",
       "    </tr>\n",
       "    <tr>\n",
       "      <th>2</th>\n",
       "      <td>103.948071</td>\n",
       "      <td>1.340719</td>\n",
       "      <td>0.0</td>\n",
       "      <td>35875.76459983</td>\n",
       "      <td>40770.67589728</td>\n",
       "      <td>IHIS-Singhealth CGH Campus - IB - L1</td>\n",
       "      <td>Healthcare</td>\n",
       "      <td>529898</td>\n",
       "      <td>6 Simei Street 3</td>\n",
       "      <td>M1</td>\n",
       "      <td>2EB30FB75368A5BC</td>\n",
       "      <td>20190527093724</td>\n",
       "    </tr>\n",
       "    <tr>\n",
       "      <th>3</th>\n",
       "      <td>103.948071</td>\n",
       "      <td>1.340719</td>\n",
       "      <td>0.0</td>\n",
       "      <td>35875.76459983</td>\n",
       "      <td>40770.67589728</td>\n",
       "      <td>IHIS-Singhealth CGH Campus - IB - L2</td>\n",
       "      <td>Healthcare</td>\n",
       "      <td>529898</td>\n",
       "      <td>6 Simei Street 3</td>\n",
       "      <td>M1</td>\n",
       "      <td>2EB30FB71FDB8F15</td>\n",
       "      <td>20190527093724</td>\n",
       "    </tr>\n",
       "    <tr>\n",
       "      <th>4</th>\n",
       "      <td>103.948071</td>\n",
       "      <td>1.340719</td>\n",
       "      <td>0.0</td>\n",
       "      <td>35875.76459983</td>\n",
       "      <td>40770.67589728</td>\n",
       "      <td>IHIS-Singhealth CGH Campus - IB - L3</td>\n",
       "      <td>Healthcare</td>\n",
       "      <td>529898</td>\n",
       "      <td>6 Simei Street 3</td>\n",
       "      <td>M1</td>\n",
       "      <td>2EB30FB7929A6B4D</td>\n",
       "      <td>20190527093724</td>\n",
       "    </tr>\n",
       "  </tbody>\n",
       "</table>\n",
       "</div>"
      ],
      "text/plain": [
       "          lat      long  misc               Y               X  \\\n",
       "0  103.799445  1.288122   0.0  30059.55365961  24230.13882604   \n",
       "1  103.799445  1.288122   0.0  30059.55365961  24230.13882604   \n",
       "2  103.948071  1.340719   0.0  35875.76459983  40770.67589728   \n",
       "3  103.948071  1.340719   0.0  35875.76459983  40770.67589728   \n",
       "4  103.948071  1.340719   0.0  35875.76459983  40770.67589728   \n",
       "\n",
       "                            LOCATION_NAME LOCATION_TYPE POSTAL_CODE  \\\n",
       "0             IHIS-NUHS AH Campus - Ward3    Healthcare      159964   \n",
       "1  IHIS-NUHS AH Campus - default location    Healthcare      159964   \n",
       "2    IHIS-Singhealth CGH Campus - IB - L1    Healthcare      529898   \n",
       "3    IHIS-Singhealth CGH Campus - IB - L2    Healthcare      529898   \n",
       "4    IHIS-Singhealth CGH Campus - IB - L3    Healthcare      529898   \n",
       "\n",
       "       STREET_ADDRESS OPERATOR_NAME           INC_CRC      FMEL_UPD_D  \n",
       "0  378 Alexandra Road            M1  7805E8A17671DB33  20190527093724  \n",
       "1  378 Alexandra Road            M1  7805E8A121F15375  20190527093724  \n",
       "2    6 Simei Street 3            M1  2EB30FB75368A5BC  20190527093724  \n",
       "3    6 Simei Street 3            M1  2EB30FB71FDB8F15  20190527093724  \n",
       "4    6 Simei Street 3            M1  2EB30FB7929A6B4D  20190527093724  "
      ]
     },
     "execution_count": 69,
     "metadata": {},
     "output_type": "execute_result"
    }
   ],
   "source": [
    "wifi_all = pd.concat([wifi, wifi_descript], axis=1)\n",
    "print(wifi_all.shape)\n",
    "wifi_all.head()"
   ]
  },
  {
   "cell_type": "code",
   "execution_count": 70,
   "metadata": {},
   "outputs": [
    {
     "data": {
      "text/plain": [
       "array([0.])"
      ]
     },
     "execution_count": 70,
     "metadata": {},
     "output_type": "execute_result"
    }
   ],
   "source": [
    "# not too sure what the 3rd value of the original 'coords' was (only familiar with lattitude and longititude),\n",
    "# so explore if further:\n",
    "\n",
    "wifi_all.misc.unique()"
   ]
  },
  {
   "cell_type": "code",
   "execution_count": 71,
   "metadata": {},
   "outputs": [
    {
     "name": "stdout",
     "output_type": "stream",
     "text": [
      "(1641, 12)\n",
      "(1641, 11)\n"
     ]
    }
   ],
   "source": [
    "# seems like it's not very informative (just a single '0' value throughout), hence drop this feature:\n",
    "print(wifi_all.shape)\n",
    "wifi_all.drop(columns = ['misc'], inplace = True)\n",
    "print(wifi_all.shape) # check shape again after dropping"
   ]
  },
  {
   "cell_type": "markdown",
   "metadata": {},
   "source": [
    "**Task 1:** From the table, what are some of the information you can deduce for each hotspot?"
   ]
  },
  {
   "cell_type": "code",
   "execution_count": 72,
   "metadata": {},
   "outputs": [
    {
     "data": {
      "text/html": [
       "<div>\n",
       "<style scoped>\n",
       "    .dataframe tbody tr th:only-of-type {\n",
       "        vertical-align: middle;\n",
       "    }\n",
       "\n",
       "    .dataframe tbody tr th {\n",
       "        vertical-align: top;\n",
       "    }\n",
       "\n",
       "    .dataframe thead th {\n",
       "        text-align: right;\n",
       "    }\n",
       "</style>\n",
       "<table border=\"1\" class=\"dataframe\">\n",
       "  <thead>\n",
       "    <tr style=\"text-align: right;\">\n",
       "      <th></th>\n",
       "      <th>lat</th>\n",
       "      <th>long</th>\n",
       "      <th>Y</th>\n",
       "      <th>X</th>\n",
       "      <th>LOCATION_NAME</th>\n",
       "      <th>LOCATION_TYPE</th>\n",
       "      <th>POSTAL_CODE</th>\n",
       "      <th>STREET_ADDRESS</th>\n",
       "      <th>OPERATOR_NAME</th>\n",
       "      <th>INC_CRC</th>\n",
       "      <th>FMEL_UPD_D</th>\n",
       "    </tr>\n",
       "  </thead>\n",
       "  <tbody>\n",
       "    <tr>\n",
       "      <th>0</th>\n",
       "      <td>103.799445</td>\n",
       "      <td>1.288122</td>\n",
       "      <td>30059.55365961</td>\n",
       "      <td>24230.13882604</td>\n",
       "      <td>IHIS-NUHS AH Campus - Ward3</td>\n",
       "      <td>Healthcare</td>\n",
       "      <td>159964</td>\n",
       "      <td>378 Alexandra Road</td>\n",
       "      <td>M1</td>\n",
       "      <td>7805E8A17671DB33</td>\n",
       "      <td>20190527093724</td>\n",
       "    </tr>\n",
       "    <tr>\n",
       "      <th>1</th>\n",
       "      <td>103.799445</td>\n",
       "      <td>1.288122</td>\n",
       "      <td>30059.55365961</td>\n",
       "      <td>24230.13882604</td>\n",
       "      <td>IHIS-NUHS AH Campus - default location</td>\n",
       "      <td>Healthcare</td>\n",
       "      <td>159964</td>\n",
       "      <td>378 Alexandra Road</td>\n",
       "      <td>M1</td>\n",
       "      <td>7805E8A121F15375</td>\n",
       "      <td>20190527093724</td>\n",
       "    </tr>\n",
       "    <tr>\n",
       "      <th>2</th>\n",
       "      <td>103.948071</td>\n",
       "      <td>1.340719</td>\n",
       "      <td>35875.76459983</td>\n",
       "      <td>40770.67589728</td>\n",
       "      <td>IHIS-Singhealth CGH Campus - IB - L1</td>\n",
       "      <td>Healthcare</td>\n",
       "      <td>529898</td>\n",
       "      <td>6 Simei Street 3</td>\n",
       "      <td>M1</td>\n",
       "      <td>2EB30FB75368A5BC</td>\n",
       "      <td>20190527093724</td>\n",
       "    </tr>\n",
       "    <tr>\n",
       "      <th>3</th>\n",
       "      <td>103.948071</td>\n",
       "      <td>1.340719</td>\n",
       "      <td>35875.76459983</td>\n",
       "      <td>40770.67589728</td>\n",
       "      <td>IHIS-Singhealth CGH Campus - IB - L2</td>\n",
       "      <td>Healthcare</td>\n",
       "      <td>529898</td>\n",
       "      <td>6 Simei Street 3</td>\n",
       "      <td>M1</td>\n",
       "      <td>2EB30FB71FDB8F15</td>\n",
       "      <td>20190527093724</td>\n",
       "    </tr>\n",
       "    <tr>\n",
       "      <th>4</th>\n",
       "      <td>103.948071</td>\n",
       "      <td>1.340719</td>\n",
       "      <td>35875.76459983</td>\n",
       "      <td>40770.67589728</td>\n",
       "      <td>IHIS-Singhealth CGH Campus - IB - L3</td>\n",
       "      <td>Healthcare</td>\n",
       "      <td>529898</td>\n",
       "      <td>6 Simei Street 3</td>\n",
       "      <td>M1</td>\n",
       "      <td>2EB30FB7929A6B4D</td>\n",
       "      <td>20190527093724</td>\n",
       "    </tr>\n",
       "  </tbody>\n",
       "</table>\n",
       "</div>"
      ],
      "text/plain": [
       "          lat      long               Y               X  \\\n",
       "0  103.799445  1.288122  30059.55365961  24230.13882604   \n",
       "1  103.799445  1.288122  30059.55365961  24230.13882604   \n",
       "2  103.948071  1.340719  35875.76459983  40770.67589728   \n",
       "3  103.948071  1.340719  35875.76459983  40770.67589728   \n",
       "4  103.948071  1.340719  35875.76459983  40770.67589728   \n",
       "\n",
       "                            LOCATION_NAME LOCATION_TYPE POSTAL_CODE  \\\n",
       "0             IHIS-NUHS AH Campus - Ward3    Healthcare      159964   \n",
       "1  IHIS-NUHS AH Campus - default location    Healthcare      159964   \n",
       "2    IHIS-Singhealth CGH Campus - IB - L1    Healthcare      529898   \n",
       "3    IHIS-Singhealth CGH Campus - IB - L2    Healthcare      529898   \n",
       "4    IHIS-Singhealth CGH Campus - IB - L3    Healthcare      529898   \n",
       "\n",
       "       STREET_ADDRESS OPERATOR_NAME           INC_CRC      FMEL_UPD_D  \n",
       "0  378 Alexandra Road            M1  7805E8A17671DB33  20190527093724  \n",
       "1  378 Alexandra Road            M1  7805E8A121F15375  20190527093724  \n",
       "2    6 Simei Street 3            M1  2EB30FB75368A5BC  20190527093724  \n",
       "3    6 Simei Street 3            M1  2EB30FB71FDB8F15  20190527093724  \n",
       "4    6 Simei Street 3            M1  2EB30FB7929A6B4D  20190527093724  "
      ]
     },
     "execution_count": 72,
     "metadata": {},
     "output_type": "execute_result"
    }
   ],
   "source": [
    "wifi_all.head()"
   ]
  },
  {
   "cell_type": "code",
   "execution_count": 73,
   "metadata": {},
   "outputs": [
    {
     "data": {
      "text/plain": [
       "Index(['lat', 'long', 'Y', 'X', 'LOCATION_NAME', 'LOCATION_TYPE',\n",
       "       'POSTAL_CODE', 'STREET_ADDRESS', 'OPERATOR_NAME', 'INC_CRC',\n",
       "       'FMEL_UPD_D'],\n",
       "      dtype='object')"
      ]
     },
     "execution_count": 73,
     "metadata": {},
     "output_type": "execute_result"
    }
   ],
   "source": [
    "wifi_all.columns"
   ]
  },
  {
   "cell_type": "code",
   "execution_count": 74,
   "metadata": {},
   "outputs": [
    {
     "name": "stdout",
     "output_type": "stream",
     "text": [
      "<class 'pandas.core.frame.DataFrame'>\n",
      "RangeIndex: 1641 entries, 0 to 1640\n",
      "Data columns (total 11 columns):\n",
      " #   Column          Non-Null Count  Dtype  \n",
      "---  ------          --------------  -----  \n",
      " 0   lat             1641 non-null   float64\n",
      " 1   long            1641 non-null   float64\n",
      " 2   Y               1641 non-null   object \n",
      " 3   X               1641 non-null   object \n",
      " 4   LOCATION_NAME   1641 non-null   object \n",
      " 5   LOCATION_TYPE   1641 non-null   object \n",
      " 6   POSTAL_CODE     1641 non-null   object \n",
      " 7   STREET_ADDRESS  1641 non-null   object \n",
      " 8   OPERATOR_NAME   1641 non-null   object \n",
      " 9   INC_CRC         1641 non-null   object \n",
      " 10  FMEL_UPD_D      1641 non-null   object \n",
      "dtypes: float64(2), object(9)\n",
      "memory usage: 141.1+ KB\n"
     ]
    }
   ],
   "source": [
    "wifi_all.info()"
   ]
  },
  {
   "cell_type": "code",
   "execution_count": 75,
   "metadata": {},
   "outputs": [
    {
     "data": {
      "text/plain": [
       "Community                  0.349177\n",
       "F&B                        0.262035\n",
       "Healthcare                 0.139549\n",
       "Commercial                 0.085923\n",
       "Welfare Organisation       0.074345\n",
       "Public Transport           0.028032\n",
       "Government                 0.016453\n",
       "Retail Shop                0.014016\n",
       "Shopping Mall              0.010969\n",
       "Tourist Attraction         0.009750\n",
       "School                     0.005484\n",
       "Dormitory / Care Centre    0.003047\n",
       "Public Worship             0.001219\n",
       "Name: LOCATION_TYPE, dtype: float64"
      ]
     },
     "execution_count": 75,
     "metadata": {},
     "output_type": "execute_result"
    }
   ],
   "source": [
    "wifi_all.LOCATION_TYPE.value_counts(normalize = True)"
   ]
  },
  {
   "cell_type": "code",
   "execution_count": 76,
   "metadata": {},
   "outputs": [
    {
     "data": {
      "text/plain": [
       "<matplotlib.axes._subplots.AxesSubplot at 0x1c21c9c410>"
      ]
     },
     "execution_count": 76,
     "metadata": {},
     "output_type": "execute_result"
    },
    {
     "data": {
      "image/png": "[encoded data removed]",
      "text/plain": [
       "<Figure size 432x288 with 1 Axes>"
      ]
     },
     "metadata": {
      "image/png": {
       "height": 356,
       "width": 416
      },
      "needs_background": "light"
     },
     "output_type": "display_data"
    }
   ],
   "source": [
    "wifi_all.LOCATION_TYPE.value_counts(normalize = True).plot(kind='bar')"
   ]
  },
  {
   "cell_type": "code",
   "execution_count": 77,
   "metadata": {},
   "outputs": [
    {
     "data": {
      "text/plain": [
       "M1            0.736746\n",
       "Singtel       0.190128\n",
       "MyRepublic    0.051188\n",
       "StarHub       0.021938\n",
       "Name: OPERATOR_NAME, dtype: float64"
      ]
     },
     "execution_count": 77,
     "metadata": {},
     "output_type": "execute_result"
    }
   ],
   "source": [
    "wifi_all.OPERATOR_NAME.value_counts(normalize = True)"
   ]
  },
  {
   "cell_type": "code",
   "execution_count": 78,
   "metadata": {},
   "outputs": [
    {
     "data": {
      "text/plain": [
       "<matplotlib.axes._subplots.AxesSubplot at 0x1c21ccc990>"
      ]
     },
     "execution_count": 78,
     "metadata": {},
     "output_type": "execute_result"
    },
    {
     "data": {
      "image/png": "[encoded data removed]",
      "text/plain": [
       "<Figure size 432x288 with 1 Axes>"
      ]
     },
     "metadata": {
      "image/png": {
       "height": 293,
       "width": 409
      },
      "needs_background": "light"
     },
     "output_type": "display_data"
    }
   ],
   "source": [
    "wifi_all.OPERATOR_NAME.value_counts(normalize = True).plot(kind='bar')"
   ]
  },
  {
   "cell_type": "markdown",
   "metadata": {},
   "source": [
    "From the above plots and statistical summaries, we can see that 35% of hotspot areas are at Community areas, followed by F&B (26%) and Healthcare (14%). The top 3 areas account for around 75% of the hotspots in Singapore.\n",
    "\n",
    "Operator-wise, M1 provides the most hotspot coverage around the state at close to 74%, with Singtel lagging in second at 19% island-wide coverage."
   ]
  },
  {
   "cell_type": "markdown",
   "metadata": {},
   "source": [
    "Playing around with the map on the website made me learn how to interpret the 'Y' and 'X' features (since there was no data dictionary to make sense of everything).\n",
    "\n",
    "The 'Y' and 'X' are basically the y and x coordinates or the location - the larger Y is, the more northern the location is; the smaller X is, the more western the location is.\n",
    "\n",
    "However, I did the groupby 'OPERATOR_NAME''s mean below but it doesn't reveal the relevant information for Y and X."
   ]
  },
  {
   "cell_type": "code",
   "execution_count": 79,
   "metadata": {},
   "outputs": [
    {
     "data": {
      "text/html": [
       "<div>\n",
       "<style scoped>\n",
       "    .dataframe tbody tr th:only-of-type {\n",
       "        vertical-align: middle;\n",
       "    }\n",
       "\n",
       "    .dataframe tbody tr th {\n",
       "        vertical-align: top;\n",
       "    }\n",
       "\n",
       "    .dataframe thead th {\n",
       "        text-align: right;\n",
       "    }\n",
       "</style>\n",
       "<table border=\"1\" class=\"dataframe\">\n",
       "  <thead>\n",
       "    <tr style=\"text-align: right;\">\n",
       "      <th></th>\n",
       "      <th>lat</th>\n",
       "      <th>long</th>\n",
       "    </tr>\n",
       "    <tr>\n",
       "      <th>OPERATOR_NAME</th>\n",
       "      <th></th>\n",
       "      <th></th>\n",
       "    </tr>\n",
       "  </thead>\n",
       "  <tbody>\n",
       "    <tr>\n",
       "      <th>M1</th>\n",
       "      <td>103.845247</td>\n",
       "      <td>1.346992</td>\n",
       "    </tr>\n",
       "    <tr>\n",
       "      <th>MyRepublic</th>\n",
       "      <td>103.838639</td>\n",
       "      <td>1.323980</td>\n",
       "    </tr>\n",
       "    <tr>\n",
       "      <th>Singtel</th>\n",
       "      <td>103.834951</td>\n",
       "      <td>1.333776</td>\n",
       "    </tr>\n",
       "    <tr>\n",
       "      <th>StarHub</th>\n",
       "      <td>103.833633</td>\n",
       "      <td>1.307482</td>\n",
       "    </tr>\n",
       "  </tbody>\n",
       "</table>\n",
       "</div>"
      ],
      "text/plain": [
       "                      lat      long\n",
       "OPERATOR_NAME                      \n",
       "M1             103.845247  1.346992\n",
       "MyRepublic     103.838639  1.323980\n",
       "Singtel        103.834951  1.333776\n",
       "StarHub        103.833633  1.307482"
      ]
     },
     "execution_count": 79,
     "metadata": {},
     "output_type": "execute_result"
    }
   ],
   "source": [
    "wifi_all.groupby('OPERATOR_NAME').mean()"
   ]
  },
  {
   "cell_type": "code",
   "execution_count": 80,
   "metadata": {},
   "outputs": [
    {
     "data": {
      "text/plain": [
       "lat               float64\n",
       "long              float64\n",
       "Y                  object\n",
       "X                  object\n",
       "LOCATION_NAME      object\n",
       "LOCATION_TYPE      object\n",
       "POSTAL_CODE        object\n",
       "STREET_ADDRESS     object\n",
       "OPERATOR_NAME      object\n",
       "INC_CRC            object\n",
       "FMEL_UPD_D         object\n",
       "dtype: object"
      ]
     },
     "execution_count": 80,
     "metadata": {},
     "output_type": "execute_result"
    }
   ],
   "source": [
    "# checking the datatypes reveal that 'Y' and 'X' aren't converted to the correct dtype yet\n",
    "\n",
    "wifi_all.dtypes"
   ]
  },
  {
   "cell_type": "code",
   "execution_count": 81,
   "metadata": {},
   "outputs": [
    {
     "data": {
      "text/plain": [
       "lat               float64\n",
       "long              float64\n",
       "Y                 float64\n",
       "X                 float64\n",
       "LOCATION_NAME      object\n",
       "LOCATION_TYPE      object\n",
       "POSTAL_CODE        object\n",
       "STREET_ADDRESS     object\n",
       "OPERATOR_NAME      object\n",
       "INC_CRC            object\n",
       "FMEL_UPD_D         object\n",
       "dtype: object"
      ]
     },
     "execution_count": 81,
     "metadata": {},
     "output_type": "execute_result"
    }
   ],
   "source": [
    "# hence, convert them to float, then do the groupby.mean() summary once more:\n",
    "\n",
    "wifi_all['Y'] = wifi_all['Y'].astype('float64')\n",
    "wifi_all['X'] = wifi_all['X'].astype('float64')\n",
    "wifi_all.dtypes"
   ]
  },
  {
   "cell_type": "code",
   "execution_count": 82,
   "metadata": {},
   "outputs": [
    {
     "data": {
      "text/html": [
       "<div>\n",
       "<style scoped>\n",
       "    .dataframe tbody tr th:only-of-type {\n",
       "        vertical-align: middle;\n",
       "    }\n",
       "\n",
       "    .dataframe tbody tr th {\n",
       "        vertical-align: top;\n",
       "    }\n",
       "\n",
       "    .dataframe thead th {\n",
       "        text-align: right;\n",
       "    }\n",
       "</style>\n",
       "<table border=\"1\" class=\"dataframe\">\n",
       "  <thead>\n",
       "    <tr style=\"text-align: right;\">\n",
       "      <th></th>\n",
       "      <th>Y</th>\n",
       "      <th>X</th>\n",
       "    </tr>\n",
       "    <tr>\n",
       "      <th>OPERATOR_NAME</th>\n",
       "      <th></th>\n",
       "      <th></th>\n",
       "    </tr>\n",
       "  </thead>\n",
       "  <tbody>\n",
       "    <tr>\n",
       "      <th>M1</th>\n",
       "      <td>36569.122831</td>\n",
       "      <td>29327.493671</td>\n",
       "    </tr>\n",
       "    <tr>\n",
       "      <th>MyRepublic</th>\n",
       "      <td>34024.590095</td>\n",
       "      <td>28592.073393</td>\n",
       "    </tr>\n",
       "    <tr>\n",
       "      <th>Singtel</th>\n",
       "      <td>35107.800694</td>\n",
       "      <td>28181.615860</td>\n",
       "    </tr>\n",
       "    <tr>\n",
       "      <th>StarHub</th>\n",
       "      <td>32200.275675</td>\n",
       "      <td>28034.987791</td>\n",
       "    </tr>\n",
       "  </tbody>\n",
       "</table>\n",
       "</div>"
      ],
      "text/plain": [
       "                          Y             X\n",
       "OPERATOR_NAME                            \n",
       "M1             36569.122831  29327.493671\n",
       "MyRepublic     34024.590095  28592.073393\n",
       "Singtel        35107.800694  28181.615860\n",
       "StarHub        32200.275675  28034.987791"
      ]
     },
     "execution_count": 82,
     "metadata": {},
     "output_type": "execute_result"
    }
   ],
   "source": [
    "wifi_all.groupby('OPERATOR_NAME').mean()[['Y','X']]"
   ]
  },
  {
   "cell_type": "markdown",
   "metadata": {},
   "source": [
    "I did the above groupby to explore and demonstrate the slight differences in regional coverage of each operator; while the difference isn't very stark, we can tell that M1, on average, covers the northern part of the island more so than the other operators (a higher 'Y' mean value). Likewise, with the highest mean value in 'X', M1 also covers the eastern regions of the island more so than other operators."
   ]
  },
  {
   "cell_type": "markdown",
   "metadata": {},
   "source": [
    "**To summarize from the above Exploratory Data Analysis:**\n",
    "\n",
    "1) 35% of hotspot areas are at Community areas, followed by F&B (26%) and Healthcare (14%) - totalling around 75% of Singapore's hotspots.\n",
    "\n",
    "2) M1 provides the most hotspot coverage around the state at close to 74%, with Singtel lagging in second at 19% island-wide coverage\n",
    "\n",
    "3) M1 covers, on average, more of the northern and eastern parts of Singapore than other operators."
   ]
  },
  {
   "cell_type": "markdown",
   "metadata": {},
   "source": [
    "**Task 2:** Due to a system error, the location type column for the last 200 rows of the dataset has become garbled. Using all earlier rows as well as all other columns in the dataset, build a classification model to predict the location type for these hotspots. You may treat the three rarest location types as one category. (Note: you may wish to create some additional features based on available ones.)"
   ]
  },
  {
   "cell_type": "code",
   "execution_count": 83,
   "metadata": {},
   "outputs": [
    {
     "data": {
      "text/plain": [
       "School                     9\n",
       "Dormitory / Care Centre    5\n",
       "Public Worship             2\n",
       "Name: LOCATION_TYPE, dtype: int64"
      ]
     },
     "execution_count": 83,
     "metadata": {},
     "output_type": "execute_result"
    }
   ],
   "source": [
    "# find out which are the 3 rarest location types:\n",
    "\n",
    "wifi_all.LOCATION_TYPE.value_counts().tail(3)"
   ]
  },
  {
   "cell_type": "code",
   "execution_count": 84,
   "metadata": {},
   "outputs": [
    {
     "data": {
      "text/plain": [
       "13"
      ]
     },
     "execution_count": 84,
     "metadata": {},
     "output_type": "execute_result"
    }
   ],
   "source": [
    "len(wifi_all.LOCATION_TYPE.unique())"
   ]
  },
  {
   "cell_type": "code",
   "execution_count": 85,
   "metadata": {},
   "outputs": [],
   "source": [
    "# change the 3 rarest locations to 'Rare' first, before converting all locations to integers\n",
    "\n",
    "rare_locations = ['School', 'Dormitory / Care Centre', 'Public Worship']\n",
    "\n",
    "wifi_all.LOCATION_TYPE = wifi_all.LOCATION_TYPE.apply(lambda x: 'Rare' if x in rare_locations else x)"
   ]
  },
  {
   "cell_type": "code",
   "execution_count": 86,
   "metadata": {},
   "outputs": [
    {
     "data": {
      "text/plain": [
       "Community               0.349177\n",
       "F&B                     0.262035\n",
       "Healthcare              0.139549\n",
       "Commercial              0.085923\n",
       "Welfare Organisation    0.074345\n",
       "Public Transport        0.028032\n",
       "Government              0.016453\n",
       "Retail Shop             0.014016\n",
       "Shopping Mall           0.010969\n",
       "Tourist Attraction      0.009750\n",
       "Rare                    0.009750\n",
       "Name: LOCATION_TYPE, dtype: float64"
      ]
     },
     "execution_count": 86,
     "metadata": {},
     "output_type": "execute_result"
    }
   ],
   "source": [
    "wifi_all.LOCATION_TYPE.value_counts(normalize = True)"
   ]
  },
  {
   "cell_type": "code",
   "execution_count": 87,
   "metadata": {},
   "outputs": [
    {
     "data": {
      "text/plain": [
       "11"
      ]
     },
     "execution_count": 87,
     "metadata": {},
     "output_type": "execute_result"
    }
   ],
   "source": [
    "len(wifi_all.LOCATION_TYPE.unique())"
   ]
  },
  {
   "cell_type": "code",
   "execution_count": 88,
   "metadata": {},
   "outputs": [],
   "source": [
    "from sklearn.preprocessing import LabelEncoder as LE"
   ]
  },
  {
   "cell_type": "code",
   "execution_count": 89,
   "metadata": {},
   "outputs": [
    {
     "data": {
      "text/html": [
       "<div>\n",
       "<style scoped>\n",
       "    .dataframe tbody tr th:only-of-type {\n",
       "        vertical-align: middle;\n",
       "    }\n",
       "\n",
       "    .dataframe tbody tr th {\n",
       "        vertical-align: top;\n",
       "    }\n",
       "\n",
       "    .dataframe thead th {\n",
       "        text-align: right;\n",
       "    }\n",
       "</style>\n",
       "<table border=\"1\" class=\"dataframe\">\n",
       "  <thead>\n",
       "    <tr style=\"text-align: right;\">\n",
       "      <th></th>\n",
       "      <th>lat</th>\n",
       "      <th>long</th>\n",
       "      <th>Y</th>\n",
       "      <th>X</th>\n",
       "      <th>LOCATION_NAME</th>\n",
       "      <th>LOCATION_TYPE</th>\n",
       "      <th>POSTAL_CODE</th>\n",
       "      <th>STREET_ADDRESS</th>\n",
       "      <th>OPERATOR_NAME</th>\n",
       "      <th>INC_CRC</th>\n",
       "      <th>FMEL_UPD_D</th>\n",
       "      <th>target</th>\n",
       "    </tr>\n",
       "  </thead>\n",
       "  <tbody>\n",
       "    <tr>\n",
       "      <th>0</th>\n",
       "      <td>103.799445</td>\n",
       "      <td>1.288122</td>\n",
       "      <td>30059.55366</td>\n",
       "      <td>24230.138826</td>\n",
       "      <td>IHIS-NUHS AH Campus - Ward3</td>\n",
       "      <td>Healthcare</td>\n",
       "      <td>159964</td>\n",
       "      <td>378 Alexandra Road</td>\n",
       "      <td>M1</td>\n",
       "      <td>7805E8A17671DB33</td>\n",
       "      <td>20190527093724</td>\n",
       "      <td>4</td>\n",
       "    </tr>\n",
       "    <tr>\n",
       "      <th>1</th>\n",
       "      <td>103.799445</td>\n",
       "      <td>1.288122</td>\n",
       "      <td>30059.55366</td>\n",
       "      <td>24230.138826</td>\n",
       "      <td>IHIS-NUHS AH Campus - default location</td>\n",
       "      <td>Healthcare</td>\n",
       "      <td>159964</td>\n",
       "      <td>378 Alexandra Road</td>\n",
       "      <td>M1</td>\n",
       "      <td>7805E8A121F15375</td>\n",
       "      <td>20190527093724</td>\n",
       "      <td>4</td>\n",
       "    </tr>\n",
       "    <tr>\n",
       "      <th>2</th>\n",
       "      <td>103.948071</td>\n",
       "      <td>1.340719</td>\n",
       "      <td>35875.76460</td>\n",
       "      <td>40770.675897</td>\n",
       "      <td>IHIS-Singhealth CGH Campus - IB - L1</td>\n",
       "      <td>Healthcare</td>\n",
       "      <td>529898</td>\n",
       "      <td>6 Simei Street 3</td>\n",
       "      <td>M1</td>\n",
       "      <td>2EB30FB75368A5BC</td>\n",
       "      <td>20190527093724</td>\n",
       "      <td>4</td>\n",
       "    </tr>\n",
       "    <tr>\n",
       "      <th>3</th>\n",
       "      <td>103.948071</td>\n",
       "      <td>1.340719</td>\n",
       "      <td>35875.76460</td>\n",
       "      <td>40770.675897</td>\n",
       "      <td>IHIS-Singhealth CGH Campus - IB - L2</td>\n",
       "      <td>Healthcare</td>\n",
       "      <td>529898</td>\n",
       "      <td>6 Simei Street 3</td>\n",
       "      <td>M1</td>\n",
       "      <td>2EB30FB71FDB8F15</td>\n",
       "      <td>20190527093724</td>\n",
       "      <td>4</td>\n",
       "    </tr>\n",
       "    <tr>\n",
       "      <th>4</th>\n",
       "      <td>103.948071</td>\n",
       "      <td>1.340719</td>\n",
       "      <td>35875.76460</td>\n",
       "      <td>40770.675897</td>\n",
       "      <td>IHIS-Singhealth CGH Campus - IB - L3</td>\n",
       "      <td>Healthcare</td>\n",
       "      <td>529898</td>\n",
       "      <td>6 Simei Street 3</td>\n",
       "      <td>M1</td>\n",
       "      <td>2EB30FB7929A6B4D</td>\n",
       "      <td>20190527093724</td>\n",
       "      <td>4</td>\n",
       "    </tr>\n",
       "  </tbody>\n",
       "</table>\n",
       "</div>"
      ],
      "text/plain": [
       "          lat      long            Y             X  \\\n",
       "0  103.799445  1.288122  30059.55366  24230.138826   \n",
       "1  103.799445  1.288122  30059.55366  24230.138826   \n",
       "2  103.948071  1.340719  35875.76460  40770.675897   \n",
       "3  103.948071  1.340719  35875.76460  40770.675897   \n",
       "4  103.948071  1.340719  35875.76460  40770.675897   \n",
       "\n",
       "                            LOCATION_NAME LOCATION_TYPE POSTAL_CODE  \\\n",
       "0             IHIS-NUHS AH Campus - Ward3    Healthcare      159964   \n",
       "1  IHIS-NUHS AH Campus - default location    Healthcare      159964   \n",
       "2    IHIS-Singhealth CGH Campus - IB - L1    Healthcare      529898   \n",
       "3    IHIS-Singhealth CGH Campus - IB - L2    Healthcare      529898   \n",
       "4    IHIS-Singhealth CGH Campus - IB - L3    Healthcare      529898   \n",
       "\n",
       "       STREET_ADDRESS OPERATOR_NAME           INC_CRC      FMEL_UPD_D  target  \n",
       "0  378 Alexandra Road            M1  7805E8A17671DB33  20190527093724       4  \n",
       "1  378 Alexandra Road            M1  7805E8A121F15375  20190527093724       4  \n",
       "2    6 Simei Street 3            M1  2EB30FB75368A5BC  20190527093724       4  \n",
       "3    6 Simei Street 3            M1  2EB30FB71FDB8F15  20190527093724       4  \n",
       "4    6 Simei Street 3            M1  2EB30FB7929A6B4D  20190527093724       4  "
      ]
     },
     "execution_count": 89,
     "metadata": {},
     "output_type": "execute_result"
    }
   ],
   "source": [
    "# convert locations to integers\n",
    "\n",
    "number = LE()\n",
    "\n",
    "wifi_all['target'] = number.fit_transform(wifi_all['LOCATION_TYPE'])\n",
    "wifi_all.head()"
   ]
  },
  {
   "cell_type": "code",
   "execution_count": 90,
   "metadata": {},
   "outputs": [
    {
     "data": {
      "text/plain": [
       "11"
      ]
     },
     "execution_count": 90,
     "metadata": {},
     "output_type": "execute_result"
    }
   ],
   "source": [
    "len(wifi_all.target.unique())"
   ]
  },
  {
   "cell_type": "code",
   "execution_count": 91,
   "metadata": {},
   "outputs": [
    {
     "data": {
      "text/html": [
       "<div>\n",
       "<style scoped>\n",
       "    .dataframe tbody tr th:only-of-type {\n",
       "        vertical-align: middle;\n",
       "    }\n",
       "\n",
       "    .dataframe tbody tr th {\n",
       "        vertical-align: top;\n",
       "    }\n",
       "\n",
       "    .dataframe thead th {\n",
       "        text-align: right;\n",
       "    }\n",
       "</style>\n",
       "<table border=\"1\" class=\"dataframe\">\n",
       "  <thead>\n",
       "    <tr style=\"text-align: right;\">\n",
       "      <th></th>\n",
       "      <th>lat</th>\n",
       "      <th>long</th>\n",
       "      <th>Y</th>\n",
       "      <th>X</th>\n",
       "      <th>LOCATION_NAME</th>\n",
       "      <th>LOCATION_TYPE</th>\n",
       "      <th>POSTAL_CODE</th>\n",
       "      <th>STREET_ADDRESS</th>\n",
       "      <th>OPERATOR_NAME</th>\n",
       "      <th>INC_CRC</th>\n",
       "      <th>FMEL_UPD_D</th>\n",
       "      <th>target</th>\n",
       "      <th>operator</th>\n",
       "    </tr>\n",
       "  </thead>\n",
       "  <tbody>\n",
       "    <tr>\n",
       "      <th>0</th>\n",
       "      <td>103.799445</td>\n",
       "      <td>1.288122</td>\n",
       "      <td>30059.55366</td>\n",
       "      <td>24230.138826</td>\n",
       "      <td>IHIS-NUHS AH Campus - Ward3</td>\n",
       "      <td>Healthcare</td>\n",
       "      <td>159964</td>\n",
       "      <td>378 Alexandra Road</td>\n",
       "      <td>M1</td>\n",
       "      <td>7805E8A17671DB33</td>\n",
       "      <td>20190527093724</td>\n",
       "      <td>4</td>\n",
       "      <td>0</td>\n",
       "    </tr>\n",
       "    <tr>\n",
       "      <th>1</th>\n",
       "      <td>103.799445</td>\n",
       "      <td>1.288122</td>\n",
       "      <td>30059.55366</td>\n",
       "      <td>24230.138826</td>\n",
       "      <td>IHIS-NUHS AH Campus - default location</td>\n",
       "      <td>Healthcare</td>\n",
       "      <td>159964</td>\n",
       "      <td>378 Alexandra Road</td>\n",
       "      <td>M1</td>\n",
       "      <td>7805E8A121F15375</td>\n",
       "      <td>20190527093724</td>\n",
       "      <td>4</td>\n",
       "      <td>0</td>\n",
       "    </tr>\n",
       "    <tr>\n",
       "      <th>2</th>\n",
       "      <td>103.948071</td>\n",
       "      <td>1.340719</td>\n",
       "      <td>35875.76460</td>\n",
       "      <td>40770.675897</td>\n",
       "      <td>IHIS-Singhealth CGH Campus - IB - L1</td>\n",
       "      <td>Healthcare</td>\n",
       "      <td>529898</td>\n",
       "      <td>6 Simei Street 3</td>\n",
       "      <td>M1</td>\n",
       "      <td>2EB30FB75368A5BC</td>\n",
       "      <td>20190527093724</td>\n",
       "      <td>4</td>\n",
       "      <td>0</td>\n",
       "    </tr>\n",
       "    <tr>\n",
       "      <th>3</th>\n",
       "      <td>103.948071</td>\n",
       "      <td>1.340719</td>\n",
       "      <td>35875.76460</td>\n",
       "      <td>40770.675897</td>\n",
       "      <td>IHIS-Singhealth CGH Campus - IB - L2</td>\n",
       "      <td>Healthcare</td>\n",
       "      <td>529898</td>\n",
       "      <td>6 Simei Street 3</td>\n",
       "      <td>M1</td>\n",
       "      <td>2EB30FB71FDB8F15</td>\n",
       "      <td>20190527093724</td>\n",
       "      <td>4</td>\n",
       "      <td>0</td>\n",
       "    </tr>\n",
       "    <tr>\n",
       "      <th>4</th>\n",
       "      <td>103.948071</td>\n",
       "      <td>1.340719</td>\n",
       "      <td>35875.76460</td>\n",
       "      <td>40770.675897</td>\n",
       "      <td>IHIS-Singhealth CGH Campus - IB - L3</td>\n",
       "      <td>Healthcare</td>\n",
       "      <td>529898</td>\n",
       "      <td>6 Simei Street 3</td>\n",
       "      <td>M1</td>\n",
       "      <td>2EB30FB7929A6B4D</td>\n",
       "      <td>20190527093724</td>\n",
       "      <td>4</td>\n",
       "      <td>0</td>\n",
       "    </tr>\n",
       "  </tbody>\n",
       "</table>\n",
       "</div>"
      ],
      "text/plain": [
       "          lat      long            Y             X  \\\n",
       "0  103.799445  1.288122  30059.55366  24230.138826   \n",
       "1  103.799445  1.288122  30059.55366  24230.138826   \n",
       "2  103.948071  1.340719  35875.76460  40770.675897   \n",
       "3  103.948071  1.340719  35875.76460  40770.675897   \n",
       "4  103.948071  1.340719  35875.76460  40770.675897   \n",
       "\n",
       "                            LOCATION_NAME LOCATION_TYPE POSTAL_CODE  \\\n",
       "0             IHIS-NUHS AH Campus - Ward3    Healthcare      159964   \n",
       "1  IHIS-NUHS AH Campus - default location    Healthcare      159964   \n",
       "2    IHIS-Singhealth CGH Campus - IB - L1    Healthcare      529898   \n",
       "3    IHIS-Singhealth CGH Campus - IB - L2    Healthcare      529898   \n",
       "4    IHIS-Singhealth CGH Campus - IB - L3    Healthcare      529898   \n",
       "\n",
       "       STREET_ADDRESS OPERATOR_NAME           INC_CRC      FMEL_UPD_D  target  \\\n",
       "0  378 Alexandra Road            M1  7805E8A17671DB33  20190527093724       4   \n",
       "1  378 Alexandra Road            M1  7805E8A121F15375  20190527093724       4   \n",
       "2    6 Simei Street 3            M1  2EB30FB75368A5BC  20190527093724       4   \n",
       "3    6 Simei Street 3            M1  2EB30FB71FDB8F15  20190527093724       4   \n",
       "4    6 Simei Street 3            M1  2EB30FB7929A6B4D  20190527093724       4   \n",
       "\n",
       "   operator  \n",
       "0         0  \n",
       "1         0  \n",
       "2         0  \n",
       "3         0  \n",
       "4         0  "
      ]
     },
     "execution_count": 91,
     "metadata": {},
     "output_type": "execute_result"
    }
   ],
   "source": [
    "# convert operators to integers as well, as I intend to use it as a feature for modelling\n",
    "\n",
    "number = LE()\n",
    "\n",
    "wifi_all['operator'] = number.fit_transform(wifi_all['OPERATOR_NAME'])\n",
    "wifi_all.head()"
   ]
  },
  {
   "cell_type": "code",
   "execution_count": 92,
   "metadata": {
    "scrolled": true
   },
   "outputs": [
    {
     "data": {
      "text/plain": [
       "(1641, 13)"
      ]
     },
     "execution_count": 92,
     "metadata": {},
     "output_type": "execute_result"
    }
   ],
   "source": [
    "wifi_all.shape"
   ]
  },
  {
   "cell_type": "code",
   "execution_count": 93,
   "metadata": {
    "scrolled": true
   },
   "outputs": [
    {
     "name": "stdout",
     "output_type": "stream",
     "text": [
      "(200, 13)\n"
     ]
    }
   ],
   "source": [
    "# split the whole dataframe up into test set (last 200 rows, completely unseen) and train set (for model to be trained on)\n",
    "\n",
    "test = wifi_all.iloc[1441:]\n",
    "print(test.shape)"
   ]
  },
  {
   "cell_type": "code",
   "execution_count": 94,
   "metadata": {},
   "outputs": [
    {
     "data": {
      "text/html": [
       "<div>\n",
       "<style scoped>\n",
       "    .dataframe tbody tr th:only-of-type {\n",
       "        vertical-align: middle;\n",
       "    }\n",
       "\n",
       "    .dataframe tbody tr th {\n",
       "        vertical-align: top;\n",
       "    }\n",
       "\n",
       "    .dataframe thead th {\n",
       "        text-align: right;\n",
       "    }\n",
       "</style>\n",
       "<table border=\"1\" class=\"dataframe\">\n",
       "  <thead>\n",
       "    <tr style=\"text-align: right;\">\n",
       "      <th></th>\n",
       "      <th>lat</th>\n",
       "      <th>long</th>\n",
       "      <th>Y</th>\n",
       "      <th>X</th>\n",
       "      <th>LOCATION_NAME</th>\n",
       "      <th>LOCATION_TYPE</th>\n",
       "      <th>POSTAL_CODE</th>\n",
       "      <th>STREET_ADDRESS</th>\n",
       "      <th>OPERATOR_NAME</th>\n",
       "      <th>INC_CRC</th>\n",
       "      <th>FMEL_UPD_D</th>\n",
       "      <th>target</th>\n",
       "      <th>operator</th>\n",
       "    </tr>\n",
       "  </thead>\n",
       "  <tbody>\n",
       "    <tr>\n",
       "      <th>1441</th>\n",
       "      <td>103.955679</td>\n",
       "      <td>1.347314</td>\n",
       "      <td>36604.957709</td>\n",
       "      <td>41617.314503</td>\n",
       "      <td>Changi Simei Zone 2 RC</td>\n",
       "      <td>Community</td>\n",
       "      <td>520133</td>\n",
       "      <td>133 Simei Street 1</td>\n",
       "      <td>M1</td>\n",
       "      <td>07C2FBD9F1C842CC</td>\n",
       "      <td>20171103170556</td>\n",
       "      <td>1</td>\n",
       "      <td>0</td>\n",
       "    </tr>\n",
       "    <tr>\n",
       "      <th>1442</th>\n",
       "      <td>103.875173</td>\n",
       "      <td>1.373876</td>\n",
       "      <td>39541.755078</td>\n",
       "      <td>32657.858507</td>\n",
       "      <td>Jalan Kayu Zone 5 RC</td>\n",
       "      <td>Community</td>\n",
       "      <td>550536</td>\n",
       "      <td>536 Serangoon North Avenue 4</td>\n",
       "      <td>M1</td>\n",
       "      <td>C3A6C824C5D15F5B</td>\n",
       "      <td>20171103170556</td>\n",
       "      <td>1</td>\n",
       "      <td>0</td>\n",
       "    </tr>\n",
       "    <tr>\n",
       "      <th>1443</th>\n",
       "      <td>103.879333</td>\n",
       "      <td>1.380452</td>\n",
       "      <td>40268.967601</td>\n",
       "      <td>33120.847454</td>\n",
       "      <td>Jalan Kayu Zone 7 RC</td>\n",
       "      <td>Community</td>\n",
       "      <td>537981</td>\n",
       "      <td>981D Buangkok Crescent</td>\n",
       "      <td>M1</td>\n",
       "      <td>6924FB445D8F340C</td>\n",
       "      <td>20171103170556</td>\n",
       "      <td>1</td>\n",
       "      <td>0</td>\n",
       "    </tr>\n",
       "    <tr>\n",
       "      <th>1444</th>\n",
       "      <td>103.932130</td>\n",
       "      <td>1.326864</td>\n",
       "      <td>34343.658680</td>\n",
       "      <td>38996.658990</td>\n",
       "      <td>NLB @ Bedok</td>\n",
       "      <td>Community</td>\n",
       "      <td>469662</td>\n",
       "      <td>11 Bedok North Street 1</td>\n",
       "      <td>M1</td>\n",
       "      <td>EB503A70C79A8997</td>\n",
       "      <td>20171103170556</td>\n",
       "      <td>1</td>\n",
       "      <td>0</td>\n",
       "    </tr>\n",
       "    <tr>\n",
       "      <th>1445</th>\n",
       "      <td>103.762843</td>\n",
       "      <td>1.378431</td>\n",
       "      <td>40045.529134</td>\n",
       "      <td>20156.924196</td>\n",
       "      <td>KFC Hillion</td>\n",
       "      <td>F&amp;B</td>\n",
       "      <td>678278</td>\n",
       "      <td>17 Petir Road</td>\n",
       "      <td>M1</td>\n",
       "      <td>9C06826F1B46020E</td>\n",
       "      <td>20171103170556</td>\n",
       "      <td>2</td>\n",
       "      <td>0</td>\n",
       "    </tr>\n",
       "  </tbody>\n",
       "</table>\n",
       "</div>"
      ],
      "text/plain": [
       "             lat      long             Y             X  \\\n",
       "1441  103.955679  1.347314  36604.957709  41617.314503   \n",
       "1442  103.875173  1.373876  39541.755078  32657.858507   \n",
       "1443  103.879333  1.380452  40268.967601  33120.847454   \n",
       "1444  103.932130  1.326864  34343.658680  38996.658990   \n",
       "1445  103.762843  1.378431  40045.529134  20156.924196   \n",
       "\n",
       "               LOCATION_NAME LOCATION_TYPE POSTAL_CODE  \\\n",
       "1441  Changi Simei Zone 2 RC     Community      520133   \n",
       "1442    Jalan Kayu Zone 5 RC     Community      550536   \n",
       "1443    Jalan Kayu Zone 7 RC     Community      537981   \n",
       "1444             NLB @ Bedok     Community      469662   \n",
       "1445             KFC Hillion           F&B      678278   \n",
       "\n",
       "                    STREET_ADDRESS OPERATOR_NAME           INC_CRC  \\\n",
       "1441            133 Simei Street 1            M1  07C2FBD9F1C842CC   \n",
       "1442  536 Serangoon North Avenue 4            M1  C3A6C824C5D15F5B   \n",
       "1443        981D Buangkok Crescent            M1  6924FB445D8F340C   \n",
       "1444       11 Bedok North Street 1            M1  EB503A70C79A8997   \n",
       "1445                 17 Petir Road            M1  9C06826F1B46020E   \n",
       "\n",
       "          FMEL_UPD_D  target  operator  \n",
       "1441  20171103170556       1         0  \n",
       "1442  20171103170556       1         0  \n",
       "1443  20171103170556       1         0  \n",
       "1444  20171103170556       1         0  \n",
       "1445  20171103170556       2         0  "
      ]
     },
     "execution_count": 94,
     "metadata": {},
     "output_type": "execute_result"
    }
   ],
   "source": [
    "test.head()"
   ]
  },
  {
   "cell_type": "code",
   "execution_count": 95,
   "metadata": {},
   "outputs": [
    {
     "name": "stdout",
     "output_type": "stream",
     "text": [
      "(1441, 13)\n"
     ]
    }
   ],
   "source": [
    "train = wifi_all.iloc[:1441]\n",
    "print(train.shape)"
   ]
  },
  {
   "cell_type": "code",
   "execution_count": 96,
   "metadata": {},
   "outputs": [
    {
     "data": {
      "text/plain": [
       "lat               float64\n",
       "long              float64\n",
       "Y                 float64\n",
       "X                 float64\n",
       "LOCATION_NAME      object\n",
       "LOCATION_TYPE      object\n",
       "POSTAL_CODE        object\n",
       "STREET_ADDRESS     object\n",
       "OPERATOR_NAME      object\n",
       "INC_CRC            object\n",
       "FMEL_UPD_D         object\n",
       "target              int64\n",
       "operator            int64\n",
       "dtype: object"
      ]
     },
     "execution_count": 96,
     "metadata": {},
     "output_type": "execute_result"
    }
   ],
   "source": [
    "# check datatypes first\n",
    "\n",
    "wifi_all.dtypes"
   ]
  },
  {
   "cell_type": "code",
   "execution_count": 97,
   "metadata": {},
   "outputs": [],
   "source": [
    "# I intend to use 'POSTAL_CODE' as one of my feature, so convert it to integer first\n",
    "\n",
    "wifi_all['POSTAL_CODE'] = wifi_all['POSTAL_CODE'].astype('int64')"
   ]
  },
  {
   "cell_type": "code",
   "execution_count": 98,
   "metadata": {},
   "outputs": [],
   "source": [
    "feats_target = ['Y', 'X', 'POSTAL_CODE', 'operator', 'lat', 'long', 'target']"
   ]
  },
  {
   "cell_type": "code",
   "execution_count": 99,
   "metadata": {},
   "outputs": [
    {
     "data": {
      "text/plain": [
       "<matplotlib.axes._subplots.AxesSubplot at 0x1c23565c50>"
      ]
     },
     "execution_count": 99,
     "metadata": {},
     "output_type": "execute_result"
    },
    {
     "data": {
      "image/png": "[encoded data removed]",
      "text/plain": [
       "<Figure size 432x288 with 2 Axes>"
      ]
     },
     "metadata": {
      "image/png": {
       "height": 311,
       "width": 440
      },
      "needs_background": "light"
     },
     "output_type": "display_data"
    }
   ],
   "source": [
    "sns.heatmap(wifi_all[feats_target].corr(), annot=True, linewidths=0.5)"
   ]
  },
  {
   "cell_type": "markdown",
   "metadata": {},
   "source": [
    "Based on EDA before and the above correlation heatmap, `Y` and `X` are perfectly correlated with `long` and `lat` respectively - not at all surprising given both are representations of coordinates, just in different manners. Hence, I will just choose `Y` and `X` for my features to perform modelling on."
   ]
  },
  {
   "cell_type": "code",
   "execution_count": 100,
   "metadata": {},
   "outputs": [],
   "source": [
    "features = ['Y', 'X', 'POSTAL_CODE', 'operator']\n",
    "\n",
    "X = wifi_all[features]\n",
    "y = wifi_all['target']"
   ]
  },
  {
   "cell_type": "code",
   "execution_count": 101,
   "metadata": {},
   "outputs": [],
   "source": [
    "from sklearn.model_selection import train_test_split\n",
    "\n",
    "# since there is a bit of imbalance in the dataset for target, need to stratify y (target) when doing train_test_split\n",
    "X_train, X_val, y_train, y_val = train_test_split(X, y, stratify = y, test_size=0.25, random_state=42)"
   ]
  },
  {
   "cell_type": "markdown",
   "metadata": {},
   "source": [
    "I decide to use accuracy score as an evaluation metric for the model. The accuracy score measures how well (how correctly) the model classifies the target (location type), and it ranges from 0 to 1. A score of 1 indicates perfect classification (all location types are predicted and classified correctly).\n",
    "\n",
    "For this multi-class classification problem, I will be testing 3 models - KNearestNeighbours (KNN) Classifier, followed by Random Forests (RF), followed by Support Vector Machine (SVM)."
   ]
  },
  {
   "cell_type": "code",
   "execution_count": 102,
   "metadata": {},
   "outputs": [],
   "source": [
    "from sklearn.metrics import accuracy_score\n",
    "\n",
    "# create a dataframe to consolidate results for easy reference and subsequent choosing:\n",
    "cols_results = ['family','model','classification_rate']\n",
    "results = pd.DataFrame(columns=cols_results)"
   ]
  },
  {
   "cell_type": "code",
   "execution_count": 103,
   "metadata": {},
   "outputs": [
    {
     "data": {
      "text/html": [
       "<div>\n",
       "<style scoped>\n",
       "    .dataframe tbody tr th:only-of-type {\n",
       "        vertical-align: middle;\n",
       "    }\n",
       "\n",
       "    .dataframe tbody tr th {\n",
       "        vertical-align: top;\n",
       "    }\n",
       "\n",
       "    .dataframe thead th {\n",
       "        text-align: right;\n",
       "    }\n",
       "</style>\n",
       "<table border=\"1\" class=\"dataframe\">\n",
       "  <thead>\n",
       "    <tr style=\"text-align: right;\">\n",
       "      <th></th>\n",
       "      <th>family</th>\n",
       "      <th>model</th>\n",
       "      <th>classification_rate</th>\n",
       "    </tr>\n",
       "  </thead>\n",
       "  <tbody>\n",
       "    <tr>\n",
       "      <th>0</th>\n",
       "      <td>KNN</td>\n",
       "      <td>KNN-1</td>\n",
       "      <td>0.459854</td>\n",
       "    </tr>\n",
       "    <tr>\n",
       "      <th>1</th>\n",
       "      <td>KNN</td>\n",
       "      <td>KNN-2</td>\n",
       "      <td>0.484185</td>\n",
       "    </tr>\n",
       "    <tr>\n",
       "      <th>2</th>\n",
       "      <td>KNN</td>\n",
       "      <td>KNN-3</td>\n",
       "      <td>0.445255</td>\n",
       "    </tr>\n",
       "    <tr>\n",
       "      <th>3</th>\n",
       "      <td>KNN</td>\n",
       "      <td>KNN-4</td>\n",
       "      <td>0.459854</td>\n",
       "    </tr>\n",
       "    <tr>\n",
       "      <th>4</th>\n",
       "      <td>KNN</td>\n",
       "      <td>KNN-5</td>\n",
       "      <td>0.445255</td>\n",
       "    </tr>\n",
       "    <tr>\n",
       "      <th>5</th>\n",
       "      <td>KNN</td>\n",
       "      <td>KNN-6</td>\n",
       "      <td>0.450122</td>\n",
       "    </tr>\n",
       "    <tr>\n",
       "      <th>6</th>\n",
       "      <td>KNN</td>\n",
       "      <td>KNN-7</td>\n",
       "      <td>0.440389</td>\n",
       "    </tr>\n",
       "    <tr>\n",
       "      <th>7</th>\n",
       "      <td>KNN</td>\n",
       "      <td>KNN-8</td>\n",
       "      <td>0.452555</td>\n",
       "    </tr>\n",
       "    <tr>\n",
       "      <th>8</th>\n",
       "      <td>KNN</td>\n",
       "      <td>KNN-9</td>\n",
       "      <td>0.459854</td>\n",
       "    </tr>\n",
       "  </tbody>\n",
       "</table>\n",
       "</div>"
      ],
      "text/plain": [
       "  family  model  classification_rate\n",
       "0    KNN  KNN-1             0.459854\n",
       "1    KNN  KNN-2             0.484185\n",
       "2    KNN  KNN-3             0.445255\n",
       "3    KNN  KNN-4             0.459854\n",
       "4    KNN  KNN-5             0.445255\n",
       "5    KNN  KNN-6             0.450122\n",
       "6    KNN  KNN-7             0.440389\n",
       "7    KNN  KNN-8             0.452555\n",
       "8    KNN  KNN-9             0.459854"
      ]
     },
     "execution_count": 103,
     "metadata": {},
     "output_type": "execute_result"
    }
   ],
   "source": [
    "from sklearn.neighbors import KNeighborsClassifier\n",
    "\n",
    "kVals = range(1,10)\n",
    "knn_names = ['KNN-'+str(k) for k in kVals]\n",
    "for k in kVals:\n",
    "    knn = KNeighborsClassifier(n_neighbors=k)\n",
    "    knn.fit(X_train, y_train)\n",
    "    \n",
    "    y_pred = knn.predict(X_val)\n",
    "    \n",
    "    results = results.append(pd.DataFrame([['KNN',knn_names[k-1],accuracy_score(y_val,y_pred)]],columns=cols_results),ignore_index=True)\n",
    "results[results.family=='KNN']"
   ]
  },
  {
   "cell_type": "code",
   "execution_count": 104,
   "metadata": {},
   "outputs": [
    {
     "data": {
      "text/html": [
       "<div>\n",
       "<style scoped>\n",
       "    .dataframe tbody tr th:only-of-type {\n",
       "        vertical-align: middle;\n",
       "    }\n",
       "\n",
       "    .dataframe tbody tr th {\n",
       "        vertical-align: top;\n",
       "    }\n",
       "\n",
       "    .dataframe thead th {\n",
       "        text-align: right;\n",
       "    }\n",
       "</style>\n",
       "<table border=\"1\" class=\"dataframe\">\n",
       "  <thead>\n",
       "    <tr style=\"text-align: right;\">\n",
       "      <th></th>\n",
       "      <th>family</th>\n",
       "      <th>model</th>\n",
       "      <th>classification_rate</th>\n",
       "    </tr>\n",
       "  </thead>\n",
       "  <tbody>\n",
       "    <tr>\n",
       "      <th>9</th>\n",
       "      <td>RF</td>\n",
       "      <td>RF-10</td>\n",
       "      <td>0.686131</td>\n",
       "    </tr>\n",
       "    <tr>\n",
       "      <th>10</th>\n",
       "      <td>RF</td>\n",
       "      <td>RF-100</td>\n",
       "      <td>0.669100</td>\n",
       "    </tr>\n",
       "    <tr>\n",
       "      <th>11</th>\n",
       "      <td>RF</td>\n",
       "      <td>RF-1000</td>\n",
       "      <td>0.656934</td>\n",
       "    </tr>\n",
       "  </tbody>\n",
       "</table>\n",
       "</div>"
      ],
      "text/plain": [
       "   family    model  classification_rate\n",
       "9      RF    RF-10             0.686131\n",
       "10     RF   RF-100             0.669100\n",
       "11     RF  RF-1000             0.656934"
      ]
     },
     "execution_count": 104,
     "metadata": {},
     "output_type": "execute_result"
    }
   ],
   "source": [
    "from sklearn.ensemble import RandomForestClassifier\n",
    "import math\n",
    "\n",
    "rVals = range(1,4)\n",
    "rf_names = ['RF-'+str(int(math.pow(10,r))) for r in rVals]\n",
    "for r in rVals:\n",
    "    clf = RandomForestClassifier(n_estimators=int(math.pow(10,r)),random_state=0)\n",
    "    clf.fit(X_train,y_train)\n",
    "    y_pred = clf.predict(X_val)\n",
    "    \n",
    "    results = results.append(pd.DataFrame([['RF',rf_names[r-1],accuracy_score(y_val,y_pred)]],columns=cols_results),ignore_index=True)\n",
    "    \n",
    "results[results.family=='RF']"
   ]
  },
  {
   "cell_type": "code",
   "execution_count": 105,
   "metadata": {},
   "outputs": [
    {
     "data": {
      "text/html": [
       "<div>\n",
       "<style scoped>\n",
       "    .dataframe tbody tr th:only-of-type {\n",
       "        vertical-align: middle;\n",
       "    }\n",
       "\n",
       "    .dataframe tbody tr th {\n",
       "        vertical-align: top;\n",
       "    }\n",
       "\n",
       "    .dataframe thead th {\n",
       "        text-align: right;\n",
       "    }\n",
       "</style>\n",
       "<table border=\"1\" class=\"dataframe\">\n",
       "  <thead>\n",
       "    <tr style=\"text-align: right;\">\n",
       "      <th></th>\n",
       "      <th>family</th>\n",
       "      <th>model</th>\n",
       "      <th>classification_rate</th>\n",
       "    </tr>\n",
       "  </thead>\n",
       "  <tbody>\n",
       "    <tr>\n",
       "      <th>12</th>\n",
       "      <td>SVM</td>\n",
       "      <td>SVM-linear</td>\n",
       "      <td>0.201946</td>\n",
       "    </tr>\n",
       "    <tr>\n",
       "      <th>13</th>\n",
       "      <td>SVM</td>\n",
       "      <td>SVM-rbf</td>\n",
       "      <td>0.085158</td>\n",
       "    </tr>\n",
       "    <tr>\n",
       "      <th>14</th>\n",
       "      <td>SVM</td>\n",
       "      <td>SVM-sigmoid</td>\n",
       "      <td>0.262774</td>\n",
       "    </tr>\n",
       "  </tbody>\n",
       "</table>\n",
       "</div>"
      ],
      "text/plain": [
       "   family        model  classification_rate\n",
       "12    SVM   SVM-linear             0.201946\n",
       "13    SVM      SVM-rbf             0.085158\n",
       "14    SVM  SVM-sigmoid             0.262774"
      ]
     },
     "execution_count": 105,
     "metadata": {},
     "output_type": "execute_result"
    }
   ],
   "source": [
    "from sklearn.svm import SVC\n",
    "from sklearn.ensemble import BaggingClassifier\n",
    "kernels = ['linear','rbf','sigmoid']\n",
    "kernel_names = ['SVM-'+kernel for kernel in kernels]\n",
    "\n",
    "for i in range(len(kernels)):\n",
    "    clf = SVC(kernel=kernels[i],random_state=0)\n",
    "    clf = BaggingClassifier(base_estimator=clf,n_estimators=10,max_samples=0.01,n_jobs=-1,random_state=0)\n",
    "    clf.fit(X_train,y_train)\n",
    "    y_pred = clf.predict(X_val)\n",
    "    \n",
    "    results = results.append(pd.DataFrame([['SVM',kernel_names[i],accuracy_score(y_val,y_pred)]],columns=cols_results),ignore_index=True)\n",
    "    \n",
    "results[results.family=='SVM']"
   ]
  },
  {
   "cell_type": "code",
   "execution_count": 106,
   "metadata": {},
   "outputs": [
    {
     "data": {
      "text/html": [
       "<div>\n",
       "<style scoped>\n",
       "    .dataframe tbody tr th:only-of-type {\n",
       "        vertical-align: middle;\n",
       "    }\n",
       "\n",
       "    .dataframe tbody tr th {\n",
       "        vertical-align: top;\n",
       "    }\n",
       "\n",
       "    .dataframe thead th {\n",
       "        text-align: right;\n",
       "    }\n",
       "</style>\n",
       "<table border=\"1\" class=\"dataframe\">\n",
       "  <thead>\n",
       "    <tr style=\"text-align: right;\">\n",
       "      <th></th>\n",
       "      <th>family</th>\n",
       "      <th>model</th>\n",
       "      <th>classification_rate</th>\n",
       "    </tr>\n",
       "  </thead>\n",
       "  <tbody>\n",
       "    <tr>\n",
       "      <th>0</th>\n",
       "      <td>KNN</td>\n",
       "      <td>KNN-1</td>\n",
       "      <td>0.459854</td>\n",
       "    </tr>\n",
       "    <tr>\n",
       "      <th>1</th>\n",
       "      <td>KNN</td>\n",
       "      <td>KNN-2</td>\n",
       "      <td>0.484185</td>\n",
       "    </tr>\n",
       "    <tr>\n",
       "      <th>2</th>\n",
       "      <td>KNN</td>\n",
       "      <td>KNN-3</td>\n",
       "      <td>0.445255</td>\n",
       "    </tr>\n",
       "    <tr>\n",
       "      <th>3</th>\n",
       "      <td>KNN</td>\n",
       "      <td>KNN-4</td>\n",
       "      <td>0.459854</td>\n",
       "    </tr>\n",
       "    <tr>\n",
       "      <th>4</th>\n",
       "      <td>KNN</td>\n",
       "      <td>KNN-5</td>\n",
       "      <td>0.445255</td>\n",
       "    </tr>\n",
       "    <tr>\n",
       "      <th>5</th>\n",
       "      <td>KNN</td>\n",
       "      <td>KNN-6</td>\n",
       "      <td>0.450122</td>\n",
       "    </tr>\n",
       "    <tr>\n",
       "      <th>6</th>\n",
       "      <td>KNN</td>\n",
       "      <td>KNN-7</td>\n",
       "      <td>0.440389</td>\n",
       "    </tr>\n",
       "    <tr>\n",
       "      <th>7</th>\n",
       "      <td>KNN</td>\n",
       "      <td>KNN-8</td>\n",
       "      <td>0.452555</td>\n",
       "    </tr>\n",
       "    <tr>\n",
       "      <th>8</th>\n",
       "      <td>KNN</td>\n",
       "      <td>KNN-9</td>\n",
       "      <td>0.459854</td>\n",
       "    </tr>\n",
       "    <tr>\n",
       "      <th>9</th>\n",
       "      <td>RF</td>\n",
       "      <td>RF-10</td>\n",
       "      <td>0.686131</td>\n",
       "    </tr>\n",
       "    <tr>\n",
       "      <th>10</th>\n",
       "      <td>RF</td>\n",
       "      <td>RF-100</td>\n",
       "      <td>0.669100</td>\n",
       "    </tr>\n",
       "    <tr>\n",
       "      <th>11</th>\n",
       "      <td>RF</td>\n",
       "      <td>RF-1000</td>\n",
       "      <td>0.656934</td>\n",
       "    </tr>\n",
       "    <tr>\n",
       "      <th>12</th>\n",
       "      <td>SVM</td>\n",
       "      <td>SVM-linear</td>\n",
       "      <td>0.201946</td>\n",
       "    </tr>\n",
       "    <tr>\n",
       "      <th>13</th>\n",
       "      <td>SVM</td>\n",
       "      <td>SVM-rbf</td>\n",
       "      <td>0.085158</td>\n",
       "    </tr>\n",
       "    <tr>\n",
       "      <th>14</th>\n",
       "      <td>SVM</td>\n",
       "      <td>SVM-sigmoid</td>\n",
       "      <td>0.262774</td>\n",
       "    </tr>\n",
       "  </tbody>\n",
       "</table>\n",
       "</div>"
      ],
      "text/plain": [
       "   family        model  classification_rate\n",
       "0     KNN        KNN-1             0.459854\n",
       "1     KNN        KNN-2             0.484185\n",
       "2     KNN        KNN-3             0.445255\n",
       "3     KNN        KNN-4             0.459854\n",
       "4     KNN        KNN-5             0.445255\n",
       "5     KNN        KNN-6             0.450122\n",
       "6     KNN        KNN-7             0.440389\n",
       "7     KNN        KNN-8             0.452555\n",
       "8     KNN        KNN-9             0.459854\n",
       "9      RF        RF-10             0.686131\n",
       "10     RF       RF-100             0.669100\n",
       "11     RF      RF-1000             0.656934\n",
       "12    SVM   SVM-linear             0.201946\n",
       "13    SVM      SVM-rbf             0.085158\n",
       "14    SVM  SVM-sigmoid             0.262774"
      ]
     },
     "execution_count": 106,
     "metadata": {},
     "output_type": "execute_result"
    }
   ],
   "source": [
    "results"
   ]
  },
  {
   "cell_type": "markdown",
   "metadata": {},
   "source": [
    "From the above results, we can see that in terms of accuracy score, RF-10 (RandomForest model with n_estimators - 10) performed the best as compared to the others. Hence, I will be selecting this model for my subsequent modelling on the test set of 200 rows (unseen data)."
   ]
  },
  {
   "cell_type": "markdown",
   "metadata": {},
   "source": [
    "**Author's note:** *In the interest of time, I did not perform a GridSearchCV to tune the hyperparameters.*"
   ]
  },
  {
   "cell_type": "markdown",
   "metadata": {},
   "source": [
    "**Task 3:** The information has now been recovered from a backup copy of the file. Compared to the true location types, how good was your model? Be prepared to explain the metrics you use to evaluate your model."
   ]
  },
  {
   "cell_type": "code",
   "execution_count": 107,
   "metadata": {},
   "outputs": [],
   "source": [
    "X_test = test[features]\n",
    "y_test = test['target']"
   ]
  },
  {
   "cell_type": "code",
   "execution_count": 108,
   "metadata": {},
   "outputs": [],
   "source": [
    "# instantiate chosen RF-1000 model\n",
    "\n",
    "clf = RandomForestClassifier(n_estimators = 10, random_state=0)\n",
    "\n",
    "# fit on the whole original, pre-train-test-split training set\n",
    "clf.fit(X,y)\n",
    "y_pred = clf.predict(X_test)"
   ]
  },
  {
   "cell_type": "code",
   "execution_count": 109,
   "metadata": {},
   "outputs": [
    {
     "data": {
      "text/plain": [
       "0.96"
      ]
     },
     "execution_count": 109,
     "metadata": {},
     "output_type": "execute_result"
    }
   ],
   "source": [
    "accuracy_score(y_test, y_pred)"
   ]
  },
  {
   "cell_type": "markdown",
   "metadata": {},
   "source": [
    "A pleasantly surprising result! On totally unseen data, this model performed extremely well with an accuracy score of 0.96, much higher than in the validation set.\n",
    "\n",
    "Interpreting this score, it means that out of the 200 rows, 96% of them were correctly predicted in terms of the location type, i.e. 192 out 200 predictions were correct.\n",
    "\n",
    "Let's see which is the only location type that was wrongly predicted:"
   ]
  },
  {
   "cell_type": "code",
   "execution_count": 110,
   "metadata": {},
   "outputs": [
    {
     "name": "stderr",
     "output_type": "stream",
     "text": [
      "/Users/user/opt/anaconda3/lib/python3.7/site-packages/ipykernel_launcher.py:3: SettingWithCopyWarning: \n",
      "A value is trying to be set on a copy of a slice from a DataFrame.\n",
      "Try using .loc[row_indexer,col_indexer] = value instead\n",
      "\n",
      "See the caveats in the documentation: https://pandas.pydata.org/pandas-docs/stable/user_guide/indexing.html#returning-a-view-versus-a-copy\n",
      "  This is separate from the ipykernel package so we can avoid doing imports until\n"
     ]
    },
    {
     "data": {
      "text/html": [
       "<div>\n",
       "<style scoped>\n",
       "    .dataframe tbody tr th:only-of-type {\n",
       "        vertical-align: middle;\n",
       "    }\n",
       "\n",
       "    .dataframe tbody tr th {\n",
       "        vertical-align: top;\n",
       "    }\n",
       "\n",
       "    .dataframe thead th {\n",
       "        text-align: right;\n",
       "    }\n",
       "</style>\n",
       "<table border=\"1\" class=\"dataframe\">\n",
       "  <thead>\n",
       "    <tr style=\"text-align: right;\">\n",
       "      <th></th>\n",
       "      <th>lat</th>\n",
       "      <th>long</th>\n",
       "      <th>Y</th>\n",
       "      <th>X</th>\n",
       "      <th>LOCATION_NAME</th>\n",
       "      <th>LOCATION_TYPE</th>\n",
       "      <th>POSTAL_CODE</th>\n",
       "      <th>STREET_ADDRESS</th>\n",
       "      <th>OPERATOR_NAME</th>\n",
       "      <th>INC_CRC</th>\n",
       "      <th>FMEL_UPD_D</th>\n",
       "      <th>target</th>\n",
       "      <th>operator</th>\n",
       "      <th>predictions</th>\n",
       "    </tr>\n",
       "  </thead>\n",
       "  <tbody>\n",
       "    <tr>\n",
       "      <th>1441</th>\n",
       "      <td>103.955679</td>\n",
       "      <td>1.347314</td>\n",
       "      <td>36604.957709</td>\n",
       "      <td>41617.314503</td>\n",
       "      <td>Changi Simei Zone 2 RC</td>\n",
       "      <td>Community</td>\n",
       "      <td>520133</td>\n",
       "      <td>133 Simei Street 1</td>\n",
       "      <td>M1</td>\n",
       "      <td>07C2FBD9F1C842CC</td>\n",
       "      <td>20171103170556</td>\n",
       "      <td>1</td>\n",
       "      <td>0</td>\n",
       "      <td>1</td>\n",
       "    </tr>\n",
       "    <tr>\n",
       "      <th>1442</th>\n",
       "      <td>103.875173</td>\n",
       "      <td>1.373876</td>\n",
       "      <td>39541.755078</td>\n",
       "      <td>32657.858507</td>\n",
       "      <td>Jalan Kayu Zone 5 RC</td>\n",
       "      <td>Community</td>\n",
       "      <td>550536</td>\n",
       "      <td>536 Serangoon North Avenue 4</td>\n",
       "      <td>M1</td>\n",
       "      <td>C3A6C824C5D15F5B</td>\n",
       "      <td>20171103170556</td>\n",
       "      <td>1</td>\n",
       "      <td>0</td>\n",
       "      <td>1</td>\n",
       "    </tr>\n",
       "    <tr>\n",
       "      <th>1443</th>\n",
       "      <td>103.879333</td>\n",
       "      <td>1.380452</td>\n",
       "      <td>40268.967601</td>\n",
       "      <td>33120.847454</td>\n",
       "      <td>Jalan Kayu Zone 7 RC</td>\n",
       "      <td>Community</td>\n",
       "      <td>537981</td>\n",
       "      <td>981D Buangkok Crescent</td>\n",
       "      <td>M1</td>\n",
       "      <td>6924FB445D8F340C</td>\n",
       "      <td>20171103170556</td>\n",
       "      <td>1</td>\n",
       "      <td>0</td>\n",
       "      <td>1</td>\n",
       "    </tr>\n",
       "    <tr>\n",
       "      <th>1444</th>\n",
       "      <td>103.932130</td>\n",
       "      <td>1.326864</td>\n",
       "      <td>34343.658680</td>\n",
       "      <td>38996.658990</td>\n",
       "      <td>NLB @ Bedok</td>\n",
       "      <td>Community</td>\n",
       "      <td>469662</td>\n",
       "      <td>11 Bedok North Street 1</td>\n",
       "      <td>M1</td>\n",
       "      <td>EB503A70C79A8997</td>\n",
       "      <td>20171103170556</td>\n",
       "      <td>1</td>\n",
       "      <td>0</td>\n",
       "      <td>1</td>\n",
       "    </tr>\n",
       "    <tr>\n",
       "      <th>1445</th>\n",
       "      <td>103.762843</td>\n",
       "      <td>1.378431</td>\n",
       "      <td>40045.529134</td>\n",
       "      <td>20156.924196</td>\n",
       "      <td>KFC Hillion</td>\n",
       "      <td>F&amp;B</td>\n",
       "      <td>678278</td>\n",
       "      <td>17 Petir Road</td>\n",
       "      <td>M1</td>\n",
       "      <td>9C06826F1B46020E</td>\n",
       "      <td>20171103170556</td>\n",
       "      <td>2</td>\n",
       "      <td>0</td>\n",
       "      <td>2</td>\n",
       "    </tr>\n",
       "  </tbody>\n",
       "</table>\n",
       "</div>"
      ],
      "text/plain": [
       "             lat      long             Y             X  \\\n",
       "1441  103.955679  1.347314  36604.957709  41617.314503   \n",
       "1442  103.875173  1.373876  39541.755078  32657.858507   \n",
       "1443  103.879333  1.380452  40268.967601  33120.847454   \n",
       "1444  103.932130  1.326864  34343.658680  38996.658990   \n",
       "1445  103.762843  1.378431  40045.529134  20156.924196   \n",
       "\n",
       "               LOCATION_NAME LOCATION_TYPE POSTAL_CODE  \\\n",
       "1441  Changi Simei Zone 2 RC     Community      520133   \n",
       "1442    Jalan Kayu Zone 5 RC     Community      550536   \n",
       "1443    Jalan Kayu Zone 7 RC     Community      537981   \n",
       "1444             NLB @ Bedok     Community      469662   \n",
       "1445             KFC Hillion           F&B      678278   \n",
       "\n",
       "                    STREET_ADDRESS OPERATOR_NAME           INC_CRC  \\\n",
       "1441            133 Simei Street 1            M1  07C2FBD9F1C842CC   \n",
       "1442  536 Serangoon North Avenue 4            M1  C3A6C824C5D15F5B   \n",
       "1443        981D Buangkok Crescent            M1  6924FB445D8F340C   \n",
       "1444       11 Bedok North Street 1            M1  EB503A70C79A8997   \n",
       "1445                 17 Petir Road            M1  9C06826F1B46020E   \n",
       "\n",
       "          FMEL_UPD_D  target  operator  predictions  \n",
       "1441  20171103170556       1         0            1  \n",
       "1442  20171103170556       1         0            1  \n",
       "1443  20171103170556       1         0            1  \n",
       "1444  20171103170556       1         0            1  \n",
       "1445  20171103170556       2         0            2  "
      ]
     },
     "execution_count": 110,
     "metadata": {},
     "output_type": "execute_result"
    }
   ],
   "source": [
    "# create column of predictions from model:\n",
    "\n",
    "test['predictions'] = y_pred\n",
    "test.head()"
   ]
  },
  {
   "cell_type": "code",
   "execution_count": 111,
   "metadata": {},
   "outputs": [
    {
     "data": {
      "text/html": [
       "<div>\n",
       "<style scoped>\n",
       "    .dataframe tbody tr th:only-of-type {\n",
       "        vertical-align: middle;\n",
       "    }\n",
       "\n",
       "    .dataframe tbody tr th {\n",
       "        vertical-align: top;\n",
       "    }\n",
       "\n",
       "    .dataframe thead th {\n",
       "        text-align: right;\n",
       "    }\n",
       "</style>\n",
       "<table border=\"1\" class=\"dataframe\">\n",
       "  <thead>\n",
       "    <tr style=\"text-align: right;\">\n",
       "      <th></th>\n",
       "      <th>lat</th>\n",
       "      <th>long</th>\n",
       "      <th>Y</th>\n",
       "      <th>X</th>\n",
       "      <th>LOCATION_NAME</th>\n",
       "      <th>LOCATION_TYPE</th>\n",
       "      <th>POSTAL_CODE</th>\n",
       "      <th>STREET_ADDRESS</th>\n",
       "      <th>OPERATOR_NAME</th>\n",
       "      <th>INC_CRC</th>\n",
       "      <th>FMEL_UPD_D</th>\n",
       "      <th>target</th>\n",
       "      <th>operator</th>\n",
       "      <th>predictions</th>\n",
       "    </tr>\n",
       "  </thead>\n",
       "  <tbody>\n",
       "    <tr>\n",
       "      <th>1469</th>\n",
       "      <td>103.848761</td>\n",
       "      <td>1.350482</td>\n",
       "      <td>36954.957180</td>\n",
       "      <td>29718.546867</td>\n",
       "      <td>McDonald's Bishan Place</td>\n",
       "      <td>F&amp;B</td>\n",
       "      <td>579837</td>\n",
       "      <td>9 Bishan Place</td>\n",
       "      <td>Singtel</td>\n",
       "      <td>3EF20E9451F4B1C2</td>\n",
       "      <td>20190527093724</td>\n",
       "      <td>2</td>\n",
       "      <td>2</td>\n",
       "      <td>5</td>\n",
       "    </tr>\n",
       "    <tr>\n",
       "      <th>1499</th>\n",
       "      <td>103.853478</td>\n",
       "      <td>1.311906</td>\n",
       "      <td>32689.379555</td>\n",
       "      <td>30243.520649</td>\n",
       "      <td>Farrer Park - NEL</td>\n",
       "      <td>Public Transport</td>\n",
       "      <td>218703</td>\n",
       "      <td>250 Race Course Road</td>\n",
       "      <td>Singtel</td>\n",
       "      <td>DB2BB039A9A9987C</td>\n",
       "      <td>20190527093724</td>\n",
       "      <td>5</td>\n",
       "      <td>2</td>\n",
       "      <td>2</td>\n",
       "    </tr>\n",
       "    <tr>\n",
       "      <th>1500</th>\n",
       "      <td>103.756886</td>\n",
       "      <td>1.408440</td>\n",
       "      <td>43363.746442</td>\n",
       "      <td>19494.164348</td>\n",
       "      <td>Future Scaffold Pte Ltd</td>\n",
       "      <td>Commercial</td>\n",
       "      <td>728653</td>\n",
       "      <td>7 Mandai Link</td>\n",
       "      <td>Singtel</td>\n",
       "      <td>A755B740AD8DC0B9</td>\n",
       "      <td>20190527093724</td>\n",
       "      <td>0</td>\n",
       "      <td>2</td>\n",
       "      <td>2</td>\n",
       "    </tr>\n",
       "    <tr>\n",
       "      <th>1574</th>\n",
       "      <td>103.789139</td>\n",
       "      <td>1.282378</td>\n",
       "      <td>29424.412438</td>\n",
       "      <td>23083.223055</td>\n",
       "      <td>NACLI (West Coast Campus)</td>\n",
       "      <td>Community</td>\n",
       "      <td>118176</td>\n",
       "      <td>70 South Buona Vista Road</td>\n",
       "      <td>M1</td>\n",
       "      <td>3C7E0818B7525330</td>\n",
       "      <td>20171103170556</td>\n",
       "      <td>1</td>\n",
       "      <td>0</td>\n",
       "      <td>0</td>\n",
       "    </tr>\n",
       "    <tr>\n",
       "      <th>1596</th>\n",
       "      <td>103.987584</td>\n",
       "      <td>1.390865</td>\n",
       "      <td>41420.891059</td>\n",
       "      <td>45167.694451</td>\n",
       "      <td>Changi Point Ferry Terminal</td>\n",
       "      <td>Commercial</td>\n",
       "      <td>499172</td>\n",
       "      <td>51 Lorong Bekukong</td>\n",
       "      <td>StarHub</td>\n",
       "      <td>A3CC1B4B598D2B77</td>\n",
       "      <td>20190527093724</td>\n",
       "      <td>0</td>\n",
       "      <td>3</td>\n",
       "      <td>8</td>\n",
       "    </tr>\n",
       "    <tr>\n",
       "      <th>1604</th>\n",
       "      <td>103.829588</td>\n",
       "      <td>1.306655</td>\n",
       "      <td>32108.772372</td>\n",
       "      <td>27584.826119</td>\n",
       "      <td>Palais Renaissance</td>\n",
       "      <td>Shopping Mall</td>\n",
       "      <td>238871</td>\n",
       "      <td>390 Orchard Road</td>\n",
       "      <td>StarHub</td>\n",
       "      <td>312A00DE5F90CDD5</td>\n",
       "      <td>20190527093724</td>\n",
       "      <td>8</td>\n",
       "      <td>3</td>\n",
       "      <td>3</td>\n",
       "    </tr>\n",
       "    <tr>\n",
       "      <th>1605</th>\n",
       "      <td>103.781305</td>\n",
       "      <td>1.290799</td>\n",
       "      <td>30355.625784</td>\n",
       "      <td>22211.279174</td>\n",
       "      <td>Prince George Park Residence</td>\n",
       "      <td>Rare</td>\n",
       "      <td>118425</td>\n",
       "      <td>27 Prince George's Park</td>\n",
       "      <td>StarHub</td>\n",
       "      <td>3DC4488BE05E477D</td>\n",
       "      <td>20190527093724</td>\n",
       "      <td>6</td>\n",
       "      <td>3</td>\n",
       "      <td>0</td>\n",
       "    </tr>\n",
       "    <tr>\n",
       "      <th>1637</th>\n",
       "      <td>103.828690</td>\n",
       "      <td>1.291075</td>\n",
       "      <td>30385.991957</td>\n",
       "      <td>27484.898035</td>\n",
       "      <td>Indus Moral CARE</td>\n",
       "      <td>Welfare Organisation</td>\n",
       "      <td>161079</td>\n",
       "      <td>79 Indus Road</td>\n",
       "      <td>M1</td>\n",
       "      <td>62AE1C1B05642A40</td>\n",
       "      <td>20190508155324</td>\n",
       "      <td>10</td>\n",
       "      <td>0</td>\n",
       "      <td>1</td>\n",
       "    </tr>\n",
       "  </tbody>\n",
       "</table>\n",
       "</div>"
      ],
      "text/plain": [
       "             lat      long             Y             X  \\\n",
       "1469  103.848761  1.350482  36954.957180  29718.546867   \n",
       "1499  103.853478  1.311906  32689.379555  30243.520649   \n",
       "1500  103.756886  1.408440  43363.746442  19494.164348   \n",
       "1574  103.789139  1.282378  29424.412438  23083.223055   \n",
       "1596  103.987584  1.390865  41420.891059  45167.694451   \n",
       "1604  103.829588  1.306655  32108.772372  27584.826119   \n",
       "1605  103.781305  1.290799  30355.625784  22211.279174   \n",
       "1637  103.828690  1.291075  30385.991957  27484.898035   \n",
       "\n",
       "                     LOCATION_NAME         LOCATION_TYPE POSTAL_CODE  \\\n",
       "1469       McDonald's Bishan Place                   F&B      579837   \n",
       "1499             Farrer Park - NEL      Public Transport      218703   \n",
       "1500       Future Scaffold Pte Ltd            Commercial      728653   \n",
       "1574     NACLI (West Coast Campus)             Community      118176   \n",
       "1596   Changi Point Ferry Terminal            Commercial      499172   \n",
       "1604            Palais Renaissance         Shopping Mall      238871   \n",
       "1605  Prince George Park Residence                  Rare      118425   \n",
       "1637              Indus Moral CARE  Welfare Organisation      161079   \n",
       "\n",
       "                 STREET_ADDRESS OPERATOR_NAME           INC_CRC  \\\n",
       "1469             9 Bishan Place       Singtel  3EF20E9451F4B1C2   \n",
       "1499       250 Race Course Road       Singtel  DB2BB039A9A9987C   \n",
       "1500              7 Mandai Link       Singtel  A755B740AD8DC0B9   \n",
       "1574  70 South Buona Vista Road            M1  3C7E0818B7525330   \n",
       "1596         51 Lorong Bekukong       StarHub  A3CC1B4B598D2B77   \n",
       "1604           390 Orchard Road       StarHub  312A00DE5F90CDD5   \n",
       "1605    27 Prince George's Park       StarHub  3DC4488BE05E477D   \n",
       "1637              79 Indus Road            M1  62AE1C1B05642A40   \n",
       "\n",
       "          FMEL_UPD_D  target  operator  predictions  \n",
       "1469  20190527093724       2         2            5  \n",
       "1499  20190527093724       5         2            2  \n",
       "1500  20190527093724       0         2            2  \n",
       "1574  20171103170556       1         0            0  \n",
       "1596  20190527093724       0         3            8  \n",
       "1604  20190527093724       8         3            3  \n",
       "1605  20190527093724       6         3            0  \n",
       "1637  20190508155324      10         0            1  "
      ]
     },
     "execution_count": 111,
     "metadata": {},
     "output_type": "execute_result"
    }
   ],
   "source": [
    "# find the misclassified location type:\n",
    "\n",
    "test[test.target != test.predictions]"
   ]
  },
  {
   "cell_type": "markdown",
   "metadata": {},
   "source": [
    "### Q4: Data Visualization\n",
    "\n",
    "A colleague is working with a salary dataset based on recent poly graduates in a specific course of study highly subsidised by the government, to compare whether the career choices made by students from Group X are different from those from Group Y in any manner. She has already produced the following summary table and listed out the main insight she wishes to highlight, as well as pertinent observations on the dataset’s characteristics, but is struggling to come up with a good way to communicate the insight to her audience in one visualisation while also accurately reflecting the dataset’s characteristics."
   ]
  },
  {
   "cell_type": "markdown",
   "metadata": {},
   "source": [
    "![summary_table](../Images/Section1/summary_table.png)"
   ]
  },
  {
   "cell_type": "markdown",
   "metadata": {},
   "source": [
    "*Main insight:*\n",
    "\n",
    "It may be worth reviewing the policy behind subsidising this course of study, as a considerable proportion of students from each group do not go on to work in industries closely related to it. For Group X, this may be partially due to higher / comparable salaries offered by other industries. For Group Y, non-salary factors may play a more prominent role.\n",
    "\n",
    "*Data characteristics:*\n",
    "1. There are considerably more students from Group X than Group Y in this course of study.\n",
    "2. Proportionately more students from Group Y are in jobs unrelated to their course of study.\n",
    "3. The distribution of students among various industries is considerably different between the two student groups.\n",
    "4. Students from Group X tend to command higher salaries, for the same type of job & industry.\n",
    "5. The salary differential between the two student groups differs by job nature and industry.\n",
    "\n",
    "**Task:** Help your colleague present the insight in an intuitive manner that is easily understood by a non-technical audience, and that reflects as many characteristics in the list as possible. Be prepared to justify any and every aspect of your visualisation (e.g. chart choice, colour palette, labels, orientation, etc.)."
   ]
  },
  {
   "cell_type": "markdown",
   "metadata": {},
   "source": [
    "![Q4_chart](../Images/Section1/Q4_chart.png)"
   ]
  },
  {
   "cell_type": "markdown",
   "metadata": {},
   "source": [
    "Actual raw Excel file may be accessed at \"Section1_Q4.xlsx\" in \"Notebooks\" folder."
   ]
  }
 ],
 "metadata": {
  "kernelspec": {
   "display_name": "Python 3",
   "language": "python",
   "name": "python3"
  },
  "language_info": {
   "codemirror_mode": {
    "name": "ipython",
    "version": 3
   },
   "file_extension": ".py",
   "mimetype": "text/x-python",
   "name": "python",
   "nbconvert_exporter": "python",
   "pygments_lexer": "ipython3",
   "version": "3.7.4"
  }
 },
 "nbformat": 4,
 "nbformat_minor": 2
}
